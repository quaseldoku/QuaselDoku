{
 "cells": [
  {
   "cell_type": "code",
   "execution_count": null,
   "id": "17b93388",
   "metadata": {},
   "outputs": [],
   "source": [
    "from bs4 import BeautifulSoup\n",
    "\n",
    "import re\n",
    "import pandas as pd"
   ]
  },
  {
   "cell_type": "code",
   "execution_count": null,
   "id": "c30dfa9d",
   "metadata": {},
   "outputs": [],
   "source": [
    "# load data\n",
    "doku_dataset = catalog.load(\"ecu_test_doku_flat_only_html\")\n",
    "docs = list(doku_dataset.keys())"
   ]
  },
  {
   "cell_type": "code",
   "execution_count": null,
   "id": "2f035b30",
   "metadata": {},
   "outputs": [],
   "source": [
    "# draw one sample\n",
    "sample_idx = 0\n",
    "filename = docs[sample_idx]"
   ]
  },
  {
   "cell_type": "code",
   "execution_count": null,
   "id": "dcac5458",
   "metadata": {},
   "outputs": [],
   "source": [
    "# load html file\n",
    "index = doku_dataset[filename]()"
   ]
  },
  {
   "cell_type": "code",
   "execution_count": null,
   "id": "4f18774d",
   "metadata": {},
   "outputs": [],
   "source": [
    "# parse html\n",
    "parsed = BeautifulSoup(index, 'html.parser')\n",
    "parsed.head()"
   ]
  },
  {
   "cell_type": "code",
   "execution_count": null,
   "id": "be5d9a3b",
   "metadata": {},
   "outputs": [],
   "source": [
    "# gather all links from document\n",
    "links = []\n",
    "for link in parsed.find_all('a'):\n",
    "    links.append(link.get('href'))"
   ]
  },
  {
   "cell_type": "code",
   "execution_count": null,
   "id": "8ab17111",
   "metadata": {},
   "outputs": [],
   "source": [
    "# gather all paragraphs\n",
    "ps = []\n",
    "for text in parsed.find_all('p'):\n",
    "    ps.append(text.get_text())"
   ]
  },
  {
   "cell_type": "code",
   "execution_count": null,
   "id": "1f418f7c",
   "metadata": {},
   "outputs": [],
   "source": [
    "# gather subtopics\n",
    "sub_topics = []\n",
    "for sub_topic in parsed.find_all('h2'):\n",
    "    sub_topics.append(sub_topic.get_text())"
   ]
  },
  {
   "cell_type": "code",
   "execution_count": null,
   "id": "e58a1472",
   "metadata": {},
   "outputs": [],
   "source": [
    "# gather images\n",
    "imgs = []\n",
    "for img in parsed.find_all('img'):\n",
    "    imgs.append(img.get('src'))"
   ]
  },
  {
   "cell_type": "code",
   "execution_count": null,
   "id": "9502072b",
   "metadata": {},
   "outputs": [],
   "source": [
    "# gather main text body\n",
    "body = parsed.get_text()\n",
    "body[:100]"
   ]
  },
  {
   "cell_type": "code",
   "execution_count": null,
   "id": "319c3e52",
   "metadata": {},
   "outputs": [],
   "source": [
    "# use regex to strip new line marker\n",
    "body_clean = re.sub(r'\\n\\s*\\n', r'\\n\\n', parsed.get_text().strip(), flags=re.M)\n",
    "body_clean[:100]"
   ]
  },
  {
   "cell_type": "code",
   "execution_count": null,
   "id": "2b5fda0e",
   "metadata": {},
   "outputs": [],
   "source": [
    "# get title\n",
    "title = parsed.h1.get_text()"
   ]
  },
  {
   "cell_type": "code",
   "execution_count": null,
   "id": "c6a4f14c",
   "metadata": {},
   "outputs": [],
   "source": [
    "# save to pandas Data Frame\n",
    "columns =  ['filename', 'title', 'sub_topics', 'body', 'links', 'imgs']\n",
    "data = [[filename, title, sub_topics, text, links, imgs]]\n",
    "df = pd.DataFrame(data)\n",
    "df.columns = columns"
   ]
  },
  {
   "cell_type": "code",
   "execution_count": null,
   "id": "a5050204",
   "metadata": {},
   "outputs": [],
   "source": [
    "df"
   ]
  }
 ],
 "metadata": {
  "kernelspec": {
   "display_name": "Kedro (quaseldoku)",
   "language": "python",
   "name": "kedro_quaseldoku"
  },
  "language_info": {
   "codemirror_mode": {
    "name": "ipython",
    "version": 3
   },
   "file_extension": ".py",
   "mimetype": "text/x-python",
   "name": "python",
   "nbconvert_exporter": "python",
   "pygments_lexer": "ipython3",
   "version": "3.8.2"
  }
 },
 "nbformat": 4,
 "nbformat_minor": 5
}
