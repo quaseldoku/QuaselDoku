{
 "cells": [
  {
   "cell_type": "code",
   "execution_count": null,
   "id": "b75f7de9",
   "metadata": {},
   "outputs": [],
   "source": [
    "# load ecu doku\n",
    "doku = catalog.load(\"ecu_test_doku\")"
   ]
  },
  {
   "cell_type": "code",
   "execution_count": null,
   "id": "98252d61",
   "metadata": {},
   "outputs": [],
   "source": [
    "# print len (num of files) in dataset\n",
    "len(doku)"
   ]
  },
  {
   "cell_type": "code",
   "execution_count": null,
   "id": "5b45dbd4",
   "metadata": {},
   "outputs": [],
   "source": [
    "# verify that this number actually coresponds to number of html files in all subdirs\n",
    "! find ../data/01_raw/ -name \\*.html -not -path \\*/\\.\\* | wc -l"
   ]
  },
  {
   "cell_type": "code",
   "execution_count": null,
   "id": "b1634c8b",
   "metadata": {},
   "outputs": [],
   "source": [
    "doku"
   ]
  },
  {
   "cell_type": "code",
   "execution_count": null,
   "id": "ea4e1359",
   "metadata": {},
   "outputs": [],
   "source": [
    "# get all filenames\n",
    "filenames = list(doku.keys())\n",
    "filenames[:5]"
   ]
  },
  {
   "cell_type": "code",
   "execution_count": null,
   "id": "2e90f719",
   "metadata": {},
   "outputs": [],
   "source": [
    "# figure out how to only receive filename without path\n",
    "# filenames[0].split('/')[-1]"
   ]
  },
  {
   "cell_type": "code",
   "execution_count": null,
   "id": "3503f046",
   "metadata": {},
   "outputs": [],
   "source": [
    "# convert path to filename in order to flatten subdirs\n",
    "filenames[0].replace('/', '_')"
   ]
  },
  {
   "cell_type": "code",
   "execution_count": null,
   "id": "02792aaa",
   "metadata": {},
   "outputs": [],
   "source": [
    "# filter out index files\n",
    "index_files = [file for file in filenames if file[:-1].endswith('index')]\n",
    "len(index_files)"
   ]
  },
  {
   "cell_type": "code",
   "execution_count": null,
   "id": "7d5928e5",
   "metadata": {},
   "outputs": [],
   "source": [
    "index_files"
   ]
  },
  {
   "cell_type": "code",
   "execution_count": null,
   "id": "ca51d0ec",
   "metadata": {},
   "outputs": [],
   "source": [
    "# inspect 1 specific file of dataset\n",
    "html_file = doku[list(doku.keys())[0]]()\n",
    "html_file"
   ]
  }
 ],
 "metadata": {
  "kernelspec": {
   "display_name": "Kedro (quaseldoku)",
   "language": "python",
   "name": "kedro_quaseldoku"
  },
  "language_info": {
   "codemirror_mode": {
    "name": "ipython",
    "version": 3
   },
   "file_extension": ".py",
   "mimetype": "text/x-python",
   "name": "python",
   "nbconvert_exporter": "python",
   "pygments_lexer": "ipython3",
   "version": "3.8.2"
  }
 },
 "nbformat": 4,
 "nbformat_minor": 5
}
