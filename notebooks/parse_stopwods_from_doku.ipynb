{
 "cells": [
  {
   "cell_type": "code",
   "execution_count": 29,
   "id": "f00a1f19",
   "metadata": {},
   "outputs": [],
   "source": [
    "import pandas as pd"
   ]
  },
  {
   "cell_type": "code",
   "execution_count": 16,
   "id": "b7052491",
   "metadata": {},
   "outputs": [],
   "source": [
    "from ast import literal_eval"
   ]
  },
  {
   "cell_type": "markdown",
   "id": "bc6ebbf7",
   "metadata": {},
   "source": [
    "**Die Dokumenation enthält eine Liste von deutschen Stopwörtern die hier einfach ausgelesen werden soll, um sie in der eignene Stichwortsuche zu verwenden**"
   ]
  },
  {
   "cell_type": "code",
   "execution_count": 14,
   "id": "d767c6fe",
   "metadata": {},
   "outputs": [
    {
     "data": {
      "text/plain": [
       "'var stopwords = [\"aber\",\"alle\",\"allem\",\"allen\",\"aller\",\"alles\",\"als\",\"also\",\"am\",\"an\",\"ander\",\"andere\",\"anderem\",\"anderen\",\"anderer\",\"anderes\",\"anderm\",\"andern\",\"anderr\",\"anders\",\"auch\",\"auf\",\"aus\",\"bei\",\"bin\",\"bis\",\"bist\",\"da\",\"damit\",\"dann\",\"das\",\"dasselbe\",\"dazu\",\"da\\\\u00df\",\"dein\",\"deine\",\"deinem\",\"deinen\",\"deiner\",\"deines\",\"dem\",\"demselben\",\"den\",\"denn\",\"denselben\",\"der\",\"derer\",\"derselbe\",\"derselben\",\"des\",\"desselben\",\"dessen\",\"dich\",\"die\",\"dies\",\"diese\",\"dieselbe\",\"dieselben\",\"diesem\",\"diesen\",\"dieser\",\"dieses\",\"dir\",\"doch\",\"dort\",\"du\",\"durch\",\"ein\",\"eine\",\"einem\",\"einen\",\"einer\",\"eines\",\"einig\",\"einige\",\"einigem\",\"einigen\",\"einiger\",\"einiges\",\"einmal\",\"er\",\"es\",\"etwas\",\"euch\",\"euer\",\"eure\",\"eurem\",\"euren\",\"eurer\",\"eures\",\"f\\\\u00fcr\",\"gegen\",\"gewesen\",\"hab\",\"habe\",\"haben\",\"hat\",\"hatte\",\"hatten\",\"hier\",\"hin\",\"hinter\",\"ich\",\"ihm\",\"ihn\",\"ihnen\",\"ihr\",\"ihre\",\"ihrem\",\"ihren\",\"ihrer\",\"ihres\",\"im\",\"in\",\"indem\",\"ins\",\"ist\",\"jede\",\"jedem\",\"jeden\",\"jeder\",\"jedes\",\"jene\",\"jenem\",\"jenen\",\"jener\",\"jenes\",\"jetzt\",\"kann\",\"kein\",\"keine\",\"keinem\",\"keinen\",\"keiner\",\"keines\",\"k\\\\u00f6nnen\",\"k\\\\u00f6nnte\",\"machen\",\"man\",\"manche\",\"manchem\",\"manchen\",\"mancher\",\"manches\",\"mein\",\"meine\",\"meinem\",\"meinen\",\"meiner\",\"meines\",\"mich\",\"mir\",\"mit\",\"muss\",\"musste\",\"nach\",\"nicht\",\"nichts\",\"noch\",\"nun\",\"nur\",\"ob\",\"oder\",\"ohne\",\"sehr\",\"sein\",\"seine\",\"seinem\",\"seinen\",\"seiner\",\"seines\",\"selbst\",\"sich\",\"sie\",\"sind\",\"so\",\"solche\",\"solchem\",\"solchen\",\"solcher\",\"solches\",\"soll\",\"sollte\",\"sondern\",\"sonst\",\"um\",\"und\",\"uns\",\"unse\",\"unsem\",\"unsen\",\"unser\",\"unses\",\"unter\",\"viel\",\"vom\",\"von\",\"vor\",\"war\",\"waren\",\"warst\",\"was\",\"weg\",\"weil\",\"weiter\",\"welche\",\"welchem\",\"welchen\",\"welcher\",\"welches\",\"wenn\",\"werde\",\"werden\",\"wie\",\"wieder\",\"will\",\"wir\",\"wird\",\"wirst\",\"wo\",\"wollen\",\"wollte\",\"w\\\\u00e4hrend\",\"w\\\\u00fcrde\",\"w\\\\u00fcrden\",\"zu\",\"zum\",\"zur\",\"zwar\",\"zwischen\",\"\\\\u00fcber\"];\\n'"
      ]
     },
     "execution_count": 14,
     "metadata": {},
     "output_type": "execute_result"
    }
   ],
   "source": [
    "stopwords = \"\"\n",
    "with open('../data/01_raw/Doku_v1/_static/language_data.js') as f:\n",
    "    while True:\n",
    "        line = f.readline()\n",
    "        if line.startswith('var stopwords'):\n",
    "            stopwords = line\n",
    "            break\n",
    "stopwords"
   ]
  },
  {
   "cell_type": "code",
   "execution_count": 15,
   "id": "b11c00b7",
   "metadata": {},
   "outputs": [
    {
     "data": {
      "text/plain": [
       "'[\"aber\",\"alle\",\"allem\",\"allen\",\"aller\",\"alles\",\"als\",\"also\",\"am\",\"an\",\"ander\",\"andere\",\"anderem\",\"anderen\",\"anderer\",\"anderes\",\"anderm\",\"andern\",\"anderr\",\"anders\",\"auch\",\"auf\",\"aus\",\"bei\",\"bin\",\"bis\",\"bist\",\"da\",\"damit\",\"dann\",\"das\",\"dasselbe\",\"dazu\",\"da\\\\u00df\",\"dein\",\"deine\",\"deinem\",\"deinen\",\"deiner\",\"deines\",\"dem\",\"demselben\",\"den\",\"denn\",\"denselben\",\"der\",\"derer\",\"derselbe\",\"derselben\",\"des\",\"desselben\",\"dessen\",\"dich\",\"die\",\"dies\",\"diese\",\"dieselbe\",\"dieselben\",\"diesem\",\"diesen\",\"dieser\",\"dieses\",\"dir\",\"doch\",\"dort\",\"du\",\"durch\",\"ein\",\"eine\",\"einem\",\"einen\",\"einer\",\"eines\",\"einig\",\"einige\",\"einigem\",\"einigen\",\"einiger\",\"einiges\",\"einmal\",\"er\",\"es\",\"etwas\",\"euch\",\"euer\",\"eure\",\"eurem\",\"euren\",\"eurer\",\"eures\",\"f\\\\u00fcr\",\"gegen\",\"gewesen\",\"hab\",\"habe\",\"haben\",\"hat\",\"hatte\",\"hatten\",\"hier\",\"hin\",\"hinter\",\"ich\",\"ihm\",\"ihn\",\"ihnen\",\"ihr\",\"ihre\",\"ihrem\",\"ihren\",\"ihrer\",\"ihres\",\"im\",\"in\",\"indem\",\"ins\",\"ist\",\"jede\",\"jedem\",\"jeden\",\"jeder\",\"jedes\",\"jene\",\"jenem\",\"jenen\",\"jener\",\"jenes\",\"jetzt\",\"kann\",\"kein\",\"keine\",\"keinem\",\"keinen\",\"keiner\",\"keines\",\"k\\\\u00f6nnen\",\"k\\\\u00f6nnte\",\"machen\",\"man\",\"manche\",\"manchem\",\"manchen\",\"mancher\",\"manches\",\"mein\",\"meine\",\"meinem\",\"meinen\",\"meiner\",\"meines\",\"mich\",\"mir\",\"mit\",\"muss\",\"musste\",\"nach\",\"nicht\",\"nichts\",\"noch\",\"nun\",\"nur\",\"ob\",\"oder\",\"ohne\",\"sehr\",\"sein\",\"seine\",\"seinem\",\"seinen\",\"seiner\",\"seines\",\"selbst\",\"sich\",\"sie\",\"sind\",\"so\",\"solche\",\"solchem\",\"solchen\",\"solcher\",\"solches\",\"soll\",\"sollte\",\"sondern\",\"sonst\",\"um\",\"und\",\"uns\",\"unse\",\"unsem\",\"unsen\",\"unser\",\"unses\",\"unter\",\"viel\",\"vom\",\"von\",\"vor\",\"war\",\"waren\",\"warst\",\"was\",\"weg\",\"weil\",\"weiter\",\"welche\",\"welchem\",\"welchen\",\"welcher\",\"welches\",\"wenn\",\"werde\",\"werden\",\"wie\",\"wieder\",\"will\",\"wir\",\"wird\",\"wirst\",\"wo\",\"wollen\",\"wollte\",\"w\\\\u00e4hrend\",\"w\\\\u00fcrde\",\"w\\\\u00fcrden\",\"zu\",\"zum\",\"zur\",\"zwar\",\"zwischen\",\"\\\\u00fcber\"]'"
      ]
     },
     "execution_count": 15,
     "metadata": {},
     "output_type": "execute_result"
    }
   ],
   "source": [
    "stopwords = stopwords[:-2].split(' ')[-1]\n",
    "stopwords"
   ]
  },
  {
   "cell_type": "code",
   "execution_count": 18,
   "id": "9826d243",
   "metadata": {},
   "outputs": [],
   "source": [
    "stopwords = literal_eval(stopwords)"
   ]
  },
  {
   "cell_type": "code",
   "execution_count": 33,
   "id": "590dcc93",
   "metadata": {},
   "outputs": [],
   "source": [
    "df = pd.DataFrame(stopwords)\n",
    "df.columns = ['words']"
   ]
  },
  {
   "cell_type": "code",
   "execution_count": 34,
   "id": "0d427663",
   "metadata": {},
   "outputs": [
    {
     "data": {
      "text/html": [
       "<div>\n",
       "<style scoped>\n",
       "    .dataframe tbody tr th:only-of-type {\n",
       "        vertical-align: middle;\n",
       "    }\n",
       "\n",
       "    .dataframe tbody tr th {\n",
       "        vertical-align: top;\n",
       "    }\n",
       "\n",
       "    .dataframe thead th {\n",
       "        text-align: right;\n",
       "    }\n",
       "</style>\n",
       "<table border=\"1\" class=\"dataframe\">\n",
       "  <thead>\n",
       "    <tr style=\"text-align: right;\">\n",
       "      <th></th>\n",
       "      <th>words</th>\n",
       "    </tr>\n",
       "  </thead>\n",
       "  <tbody>\n",
       "    <tr>\n",
       "      <th>0</th>\n",
       "      <td>aber</td>\n",
       "    </tr>\n",
       "    <tr>\n",
       "      <th>1</th>\n",
       "      <td>alle</td>\n",
       "    </tr>\n",
       "    <tr>\n",
       "      <th>2</th>\n",
       "      <td>allem</td>\n",
       "    </tr>\n",
       "    <tr>\n",
       "      <th>3</th>\n",
       "      <td>allen</td>\n",
       "    </tr>\n",
       "    <tr>\n",
       "      <th>4</th>\n",
       "      <td>aller</td>\n",
       "    </tr>\n",
       "  </tbody>\n",
       "</table>\n",
       "</div>"
      ],
      "text/plain": [
       "   words\n",
       "0   aber\n",
       "1   alle\n",
       "2  allem\n",
       "3  allen\n",
       "4  aller"
      ]
     },
     "execution_count": 34,
     "metadata": {},
     "output_type": "execute_result"
    }
   ],
   "source": [
    "df.head(5)"
   ]
  },
  {
   "cell_type": "code",
   "execution_count": 35,
   "id": "f8d47420",
   "metadata": {},
   "outputs": [],
   "source": [
    "df.to_csv(\"../data/00_supplementary/stopwords.csv\")"
   ]
  }
 ],
 "metadata": {
  "kernelspec": {
   "display_name": "Kedro (quaseldoku)",
   "language": "python",
   "name": "kedro_quaseldoku"
  },
  "language_info": {
   "codemirror_mode": {
    "name": "ipython",
    "version": 3
   },
   "file_extension": ".py",
   "mimetype": "text/x-python",
   "name": "python",
   "nbconvert_exporter": "python",
   "pygments_lexer": "ipython3",
   "version": "3.8.2"
  }
 },
 "nbformat": 4,
 "nbformat_minor": 5
}
