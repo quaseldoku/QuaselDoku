{
 "cells": [
  {
   "cell_type": "markdown",
   "id": "cecca703",
   "metadata": {},
   "source": [
    "### Erstellen des Suchindex"
   ]
  },
  {
   "cell_type": "markdown",
   "id": "e9583c35",
   "metadata": {},
   "source": [
    "Die Keyword Search ist in Kedro angelegt. Um etwa eine query auf der Test-Doku auszuführen, muss zunächst der Suchindex auf der Doku erstellt werden. Dafür kann einfach die pre_processing pipeline ausgeführt werden. Sie enthält nodes, die sowohl die Doku parsen, als auch im nächsten Schritt einen Suchindex auf den geparsten Paragraphen erstellt."
   ]
  },
  {
   "cell_type": "code",
   "execution_count": 1,
   "id": "de0afd92",
   "metadata": {
    "scrolled": true
   },
   "outputs": [
    {
     "name": "stdout",
     "output_type": "stream",
     "text": [
      "2022-05-30 20:35:02,997 - kedro.framework.session.session - INFO - ** Kedro project QuaselDoku\n",
      "2022-05-30 20:35:06,534 - kedro.io.data_catalog - INFO - Loading data from `ecu_test_doku` (PartitionedDataSet)...\n",
      "2022-05-30 20:35:06,587 - kedro.io.data_catalog - INFO - Loading data from `params:preprocessing` (MemoryDataSet)...\n",
      "2022-05-30 20:35:06,589 - kedro.pipeline.node - INFO - Running node: filter_and_flatten_doku: filter_doku([ecu_test_doku,params:preprocessing]) -> [ecu_test_doku_flat_only_html]\n"
     ]
    },
    {
     "name": "stderr",
     "output_type": "stream",
     "text": [
      "/home/jule/.cache/pypoetry/virtualenvs/quaseldoku-ecQGLdNT-py3.10/lib/python3.10/site-packages/kedro/framework/context/context.py:344: UserWarning: Credentials not found in your Kedro project config.\n",
      "No files found in ['/home/jule/Dokumente/QuaselDoku/conf/base', '/home/jule/Dokumente/QuaselDoku/conf/local'] matching the glob pattern(s): ['credentials*', 'credentials*/**', '**/credentials*']\n",
      "  warn(f\"Credentials not found in your Kedro project config.\\n{str(exc)}\")\n"
     ]
    },
    {
     "name": "stdout",
     "output_type": "stream",
     "text": [
      "filtering out relevant html files from doku ...\n"
     ]
    },
    {
     "name": "stderr",
     "output_type": "stream",
     "text": [
      "100%|██████████████████████████████████████████████████████████████████████████████████████████████████████████████████████████████████████████████████████████| 571/571 [00:00<00:00, 681738.57it/s]"
     ]
    },
    {
     "name": "stdout",
     "output_type": "stream",
     "text": [
      "2022-05-30 20:35:06,598 - kedro.io.data_catalog - INFO - Saving data to `ecu_test_doku_flat_only_html` (PartitionedDataSet)...\n"
     ]
    },
    {
     "name": "stderr",
     "output_type": "stream",
     "text": [
      "\n"
     ]
    },
    {
     "name": "stdout",
     "output_type": "stream",
     "text": [
      "2022-05-30 20:35:07,087 - kedro.runner.sequential_runner - INFO - Completed 1 out of 6 tasks\n",
      "2022-05-30 20:35:07,088 - kedro.io.data_catalog - INFO - Loading data from `params:germanquad_load_script` (MemoryDataSet)...\n",
      "2022-05-30 20:35:07,089 - kedro.pipeline.node - INFO - Running node: download_germanquad: download_germanquad([params:germanquad_load_script]) -> [germanquad_validation]\n",
      "2022-05-30 20:35:07,123 - datasets.builder - WARNING - Reusing dataset german_dpr (/home/jule/.cache/huggingface/datasets/german_dpr/plain_text/1.0.0/c104b2eee2baee81f71e650e48c71a94e6926c31532bc053d1bbefcff0dd7ead)\n"
     ]
    },
    {
     "data": {
      "application/vnd.jupyter.widget-view+json": {
       "model_id": "f4cb903d92ae48b98dca029bd9026384",
       "version_major": 2,
       "version_minor": 0
      },
      "text/plain": [
       "  0%|          | 0/2 [00:00<?, ?it/s]"
      ]
     },
     "metadata": {},
     "output_type": "display_data"
    },
    {
     "name": "stdout",
     "output_type": "stream",
     "text": [
      "2022-05-30 20:35:07,448 - kedro.io.data_catalog - INFO - Saving data to `germanquad_validation` (CSVDataSet)...\n",
      "2022-05-30 20:35:07,586 - kedro.runner.sequential_runner - INFO - Completed 2 out of 6 tasks\n",
      "2022-05-30 20:35:07,587 - kedro.io.data_catalog - INFO - Loading data from `germanquad_validation` (CSVDataSet)...\n",
      "2022-05-30 20:35:07,906 - kedro.io.data_catalog - INFO - Loading data from `params:germanquad_search_index` (MemoryDataSet)...\n",
      "2022-05-30 20:35:07,906 - kedro.pipeline.node - INFO - Running node: index_germanquad: create_document_index([germanquad_validation,params:germanquad_search_index]) -> None\n",
      "document index will be strored to: /home/jule/Dokumente/QuaselDoku/data/03_primary/search_indices/germanquad/\n",
      "2022-05-30 20:35:13,840 - kedro.runner.sequential_runner - INFO - Completed 3 out of 6 tasks\n",
      "2022-05-30 20:35:13,841 - kedro.io.data_catalog - INFO - Loading data from `ecu_test_doku_flat_only_html` (PartitionedDataSet)...\n",
      "2022-05-30 20:35:13,860 - kedro.io.data_catalog - INFO - Loading data from `params:preprocessing` (MemoryDataSet)...\n",
      "2022-05-30 20:35:13,861 - kedro.pipeline.node - INFO - Running node: parse_html_doku_to_csv: parse_html_and_combine([ecu_test_doku_flat_only_html,params:preprocessing]) -> [ecu_test_doku_parsed]\n",
      "parsing html files ...\n"
     ]
    },
    {
     "name": "stderr",
     "output_type": "stream",
     "text": [
      "100%|██████████████████████████████████████████████████████████████████████████████████████████████████████████████████████████████████████████████████████████████| 227/227 [00:04<00:00, 49.13it/s]"
     ]
    },
    {
     "name": "stdout",
     "output_type": "stream",
     "text": [
      "2022-05-30 20:35:18,492 - kedro.io.data_catalog - INFO - Saving data to `ecu_test_doku_parsed` (CSVDataSet)...\n",
      "2022-05-30 20:35:18,531 - kedro.runner.sequential_runner - INFO - Completed 4 out of 6 tasks\n",
      "2022-05-30 20:35:18,533 - kedro.io.data_catalog - INFO - Loading data from `ecu_test_doku_parsed` (CSVDataSet)...\n",
      "2022-05-30 20:35:18,555 - kedro.pipeline.node - INFO - Running node: parse_paragraphs: blocks_to_paragraphs([ecu_test_doku_parsed]) -> [ecu_test_doku_paragraphs]\n"
     ]
    },
    {
     "name": "stderr",
     "output_type": "stream",
     "text": [
      "\n"
     ]
    },
    {
     "name": "stdout",
     "output_type": "stream",
     "text": [
      "2022-05-30 20:35:18,605 - kedro.io.data_catalog - INFO - Saving data to `ecu_test_doku_paragraphs` (CSVDataSet)...\n",
      "2022-05-30 20:35:18,625 - kedro.runner.sequential_runner - INFO - Completed 5 out of 6 tasks\n",
      "2022-05-30 20:35:18,625 - kedro.io.data_catalog - INFO - Loading data from `ecu_test_doku_paragraphs` (CSVDataSet)...\n",
      "2022-05-30 20:35:18,640 - kedro.io.data_catalog - INFO - Loading data from `params:doku_search_index` (MemoryDataSet)...\n",
      "2022-05-30 20:35:18,641 - kedro.pipeline.node - INFO - Running node: index_ecu_test_doku: create_document_index([ecu_test_doku_paragraphs,params:doku_search_index]) -> None\n",
      "document index will be strored to: /home/jule/Dokumente/QuaselDoku/data/03_primary/search_indices/ecu_test/\n",
      "2022-05-30 20:35:21,156 - kedro.runner.sequential_runner - INFO - Completed 6 out of 6 tasks\n",
      "2022-05-30 20:35:21,157 - kedro.runner.sequential_runner - INFO - Pipeline execution completed successfully.\n"
     ]
    },
    {
     "data": {
      "text/plain": [
       "{}"
      ]
     },
     "execution_count": 1,
     "metadata": {},
     "output_type": "execute_result"
    }
   ],
   "source": [
    "session.run(pipeline_name='dp')"
   ]
  },
  {
   "cell_type": "markdown",
   "id": "6f70b2dd",
   "metadata": {},
   "source": [
    "### Anfrage auf dem Suchindex"
   ]
  },
  {
   "cell_type": "markdown",
   "id": "882d8d60",
   "metadata": {},
   "source": [
    "Um eine Suchanfrage auf einem Suchindex zu erstellen kann dann einfach die Funktion 'keyword_search.query' verwendet werden. Neben der Anfrage (Query) muss lediglich der Pfad zum Suchindex angegeben werden. Über den Parameter 'return_context' kann angegeben werden ob nur der Hash der gefundenen Kontexte oder der Kontext selbst zurückgegeben werden soll."
   ]
  },
  {
   "cell_type": "code",
   "execution_count": 1,
   "id": "3f58a75f",
   "metadata": {},
   "outputs": [
    {
     "name": "stderr",
     "output_type": "stream",
     "text": [
      "/home/jule/.cache/pypoetry/virtualenvs/quaseldoku-ecQGLdNT-py3.10/lib/python3.10/site-packages/transformers/image_utils.py:188: DeprecationWarning: BILINEAR is deprecated and will be removed in Pillow 10 (2023-07-01). Use Resampling.BILINEAR instead.\n",
      "  def resize(self, image, size, resample=PIL.Image.BILINEAR, default_to_square=True, max_size=None):\n"
     ]
    }
   ],
   "source": [
    "from quaseldoku.qa_methods import keyword_search\n",
    "from transformers import pipeline"
   ]
  },
  {
   "cell_type": "code",
   "execution_count": 2,
   "id": "fba2b09c",
   "metadata": {},
   "outputs": [],
   "source": [
    "# Damit wird das Model geladen\n",
    "qa_pipeline = pipeline(\n",
    "    \"question-answering\",\n",
    "    model=\"deutsche-telekom/bert-multi-english-german-squad2\",\n",
    "    tokenizer=\"deutsche-telekom/bert-multi-english-german-squad2\",\n",
    ")"
   ]
  },
  {
   "cell_type": "code",
   "execution_count": 3,
   "id": "b27ea076",
   "metadata": {},
   "outputs": [],
   "source": [
    "docu_search_index = '../data/03_primary/search_indices/ecu_test/' "
   ]
  },
  {
   "cell_type": "code",
   "execution_count": 4,
   "id": "a302333a",
   "metadata": {},
   "outputs": [],
   "source": [
    "questions = \"Welche Funktion hat das Popup-Fenster beim Testschritt Wait for User?\"\n",
    "res = keyword_search.query(questions, docu_search_index, return_context=True)\n"
   ]
  },
  {
   "cell_type": "code",
   "execution_count": 5,
   "id": "d4ef0212",
   "metadata": {},
   "outputs": [
    {
     "data": {
      "text/plain": [
       "dict_keys(['hits', 'query', 'parsed_query'])"
      ]
     },
     "execution_count": 5,
     "metadata": {},
     "output_type": "execute_result"
    }
   ],
   "source": [
    "res.keys()"
   ]
  },
  {
   "cell_type": "code",
   "execution_count": 6,
   "id": "a12f3041",
   "metadata": {
    "scrolled": false
   },
   "outputs": [
    {
     "name": "stdout",
     "output_type": "stream",
     "text": [
      "question was: Welche Funktion hat das Popup-Fenster beim Testschritt Wait for User?\n",
      "question was parsed at: funktion popup fenst beim testschritt wait for user\n",
      "search yielded 100 results\n",
      "best result is:\n",
      "Über den Menüpunkt Extras ‣ Benutzer-Python-Bibliothek bearbeiten kann eine Pythondatei ausgewählt w ...\n",
      "with hash: cv395T7iN7mjkThJd9Ogwg==\n"
     ]
    }
   ],
   "source": [
    "print('question was:', res['query'])\n",
    "print('question was parsed at:', res['parsed_query'])\n",
    "print(f\"search yielded {len(res['hits'])} results\")\n",
    "print('best result is:')\n",
    "print(res['hits'][1][1][:100], '...')\n",
    "print('with hash:', res['hits'][0][0])"
   ]
  },
  {
   "cell_type": "markdown",
   "id": "c233c08c",
   "metadata": {},
   "source": [
    "### Model anwenden"
   ]
  },
  {
   "cell_type": "code",
   "execution_count": 7,
   "id": "4ffdab2b",
   "metadata": {},
   "outputs": [],
   "source": [
    "def answer_question(question: str, paragraph: str):\n",
    "    input = {\n",
    "        \"question\": question,\n",
    "        \"context\": paragraph\n",
    "    }\n",
    "    return qa_pipeline(input)"
   ]
  },
  {
   "cell_type": "markdown",
   "id": "c16ea646",
   "metadata": {},
   "source": [
    "Die ersten drei Ergebnisse des Suchindex werden genommen und davon wird jeweils der Konzext in das Modell eingefügt. Dem Ergebnis wird dann der Hash Wert noch zugewiesen. "
   ]
  },
  {
   "cell_type": "code",
   "execution_count": 8,
   "id": "2b9959ca",
   "metadata": {},
   "outputs": [
    {
     "name": "stderr",
     "output_type": "stream",
     "text": [
      "/home/jule/.cache/pypoetry/virtualenvs/quaseldoku-ecQGLdNT-py3.10/lib/python3.10/site-packages/transformers/tokenization_utils_base.py:707: VisibleDeprecationWarning: Creating an ndarray from ragged nested sequences (which is a list-or-tuple of lists-or-tuples-or ndarrays with different lengths or shapes) is deprecated. If you meant to do this, you must specify 'dtype=object' when creating the ndarray.\n",
      "  tensor = as_tensor(value)\n",
      "/home/jule/.cache/pypoetry/virtualenvs/quaseldoku-ecQGLdNT-py3.10/lib/python3.10/site-packages/transformers/pipelines/question_answering.py:297: VisibleDeprecationWarning: Creating an ndarray from ragged nested sequences (which is a list-or-tuple of lists-or-tuples-or ndarrays with different lengths or shapes) is deprecated. If you meant to do this, you must specify 'dtype=object' when creating the ndarray.\n",
      "  p_mask = np.asarray(\n"
     ]
    }
   ],
   "source": [
    "contexts = res['hits'][0][1]\n",
    "hash_val = res['hits'][0][0] \n",
    "\n",
    "contexts1 = res['hits'][1][1]\n",
    "hash_val1 = res['hits'][1][0] \n",
    "\n",
    "contexts2 = res['hits'][2][1]\n",
    "hash_val2 = res['hits'][2][0] \n",
    "\n",
    "\n",
    "    \n",
    "output = answer_question(questions, contexts)\n",
    "output1 = answer_question(questions, contexts1)\n",
    "output2 = answer_question(questions, contexts2)\n",
    "\n",
    "output[\"hash\"] = hash_val\n",
    "output1[\"hash\"] = hash_val1\n",
    "output2[\"hash\"] = hash_val2"
   ]
  },
  {
   "cell_type": "markdown",
   "id": "3e99e7db",
   "metadata": {},
   "source": [
    "Ergebnisse werden in eine Liste eingefügt und das mit den höchsten Score wird ausgegeben."
   ]
  },
  {
   "cell_type": "code",
   "execution_count": 9,
   "id": "f9f36dd8",
   "metadata": {},
   "outputs": [
    {
     "name": "stdout",
     "output_type": "stream",
     "text": [
      "{'score': 0.037288594990968704, 'start': 1420, 'end': 1457, 'answer': 'kann ein Kommentar eingetragen werden', 'hash': 'cv395T7iN7mjkThJd9Ogwg=='}\n"
     ]
    }
   ],
   "source": [
    "a = [output, output1, output2]\n",
    "max_score = max(a, key=lambda x: x['score'])\n",
    "\n",
    "print(max_score)"
   ]
  },
  {
   "cell_type": "code",
   "execution_count": 10,
   "id": "3e9ad8d4",
   "metadata": {
    "scrolled": true
   },
   "outputs": [
    {
     "name": "stdout",
     "output_type": "stream",
     "text": [
      "Frage: Welche Funktion hat das Popup-Fenster beim Testschritt Wait for User?\n",
      "Antwort: kann ein Kommentar eingetragen werden\n"
     ]
    }
   ],
   "source": [
    "print(\"Frage: \" + questions)\n",
    "print(\"Antwort: \" + max_score['answer'])"
   ]
  }
 ],
 "metadata": {
  "kernelspec": {
   "display_name": "Kedro (quaseldoku)",
   "language": "python",
   "name": "kedro_quaseldoku"
  },
  "language_info": {
   "codemirror_mode": {
    "name": "ipython",
    "version": 3
   },
   "file_extension": ".py",
   "mimetype": "text/x-python",
   "name": "python",
   "nbconvert_exporter": "python",
   "pygments_lexer": "ipython3",
   "version": "3.10.4"
  }
 },
 "nbformat": 4,
 "nbformat_minor": 5
}
