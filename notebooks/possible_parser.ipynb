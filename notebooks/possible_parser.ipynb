{
 "cells": [
  {
   "cell_type": "markdown",
   "id": "03e5a230",
   "metadata": {},
   "source": [
    "# Liste mit möglichen Parsern für die Doku"
   ]
  },
  {
   "cell_type": "markdown",
   "id": "5e993d50",
   "metadata": {},
   "source": [
    "## HTML.parser Paket"
   ]
  },
  {
   "cell_type": "markdown",
   "id": "7ff90379",
   "metadata": {},
   "source": [
    "https://www.educative.io/edpresso/what-is-the-html-parser-in-python\n",
    "\n",
    "Der folgende Code ist aus dem Link übernommen und nur leicht an unsere Problemstellung angepasst"
   ]
  },
  {
   "cell_type": "code",
   "execution_count": null,
   "id": "032a278f",
   "metadata": {},
   "outputs": [],
   "source": [
    "from html.parser import HTMLParser"
   ]
  },
  {
   "cell_type": "code",
   "execution_count": null,
   "id": "24aa9146",
   "metadata": {},
   "outputs": [],
   "source": [
    "Hier werden Funktionen zum Auslesen der HTML-Elemente erstellt"
   ]
  },
  {
   "cell_type": "code",
   "execution_count": null,
   "id": "ff9f660f",
   "metadata": {},
   "outputs": [],
   "source": [
    "class Parser(HTMLParser):\n",
    "  # method to append the start tag to the list start_tags.\n",
    "  def handle_starttag(self, tag, attrs):\n",
    "    global start_tags\n",
    "    start_tags.append(tag)\n",
    "    # method to append the end tag to the list end_tags.\n",
    "  def handle_endtag(self, tag):\n",
    "    global end_tags\n",
    "    end_tags.append(tag)\n",
    "  # method to append the data between the tags to the list all_data.\n",
    "  def handle_data(self, data):\n",
    "    global all_data\n",
    "    all_data.append(data)\n",
    "  # method to append the comment to the list comments.\n",
    "  def handle_comment(self, data):\n",
    "    global comments\n",
    "    comments.append(data)"
   ]
  },
  {
   "cell_type": "code",
   "execution_count": null,
   "id": "882b966a",
   "metadata": {},
   "outputs": [],
   "source": [
    "Nun kann eine HTML-Datei ausgelesen werden.\n",
    "Die möglichen Ergebnisse werden in Listen gespeichert"
   ]
  },
  {
   "cell_type": "code",
   "execution_count": null,
   "id": "fea1c452",
   "metadata": {},
   "outputs": [],
   "source": [
    "start_tags = []\n",
    "end_tags = []\n",
    "all_data = []\n",
    "comments = []\n",
    "# Creating an instance of our class.\n",
    "parser = Parser()\n",
    "# Poviding the input.\n",
    "HTMLFile = open(\"path/to/file.html\", \"r\", encoding = \"utf-8\")\n",
    "parser.feed(HTMLFile.read())\n",
    "#print(\"start tags:\", start_tags)\n",
    "#print(\"end tags:\", end_tags)\n",
    "#print(\"data:\", all_data)\n",
    "#print(\"comments\", comments)"
   ]
  },
  {
   "cell_type": "markdown",
   "id": "c366f496",
   "metadata": {},
   "source": [
    "Da die Liste \"data\" alle Zeichen aus dem Body der Seite enthält, sollten zunächst die Seitenumbrüche entfernt werden"
   ]
  },
  {
   "cell_type": "code",
   "execution_count": null,
   "id": "ac6cc8d6",
   "metadata": {},
   "outputs": [],
   "source": [
    "data =data.replace(\"\\n\",\" \")"
   ]
  },
  {
   "cell_type": "markdown",
   "id": "0c40ed34",
   "metadata": {},
   "source": [
    "## Beautiful Soup"
   ]
  },
  {
   "cell_type": "markdown",
   "id": "4942a414",
   "metadata": {},
   "source": [
    "https://www.twilio.com/blog/web-scraping-and-parsing-html-in-python-with-beautiful-soup"
   ]
  },
  {
   "cell_type": "markdown",
   "id": "52f0396f",
   "metadata": {},
   "source": [
    " Im folgenden Code wurde versucht eine URL zu den Seiten zu verwenden\n",
    " \n",
    " Problem:\n",
    "    \n",
    "    * meisten Parser lesen eine HTML Seite aus dem Browser aus\n",
    "    * Unsere lokale Webseite wird also nicht abgedeckt"
   ]
  },
  {
   "cell_type": "code",
   "execution_count": null,
   "id": "f55ab95b",
   "metadata": {},
   "outputs": [],
   "source": [
    "import requests\n",
    "from bs4 import BeautifulSoup\n",
    "\n",
    "\n",
    "vgm_url = 'path/to/file.html'\n",
    "html_text = requests.get(vgm_url).text\n",
    "soup = BeautifulSoup(html_text, 'html.parser')\n"
   ]
  },
  {
   "cell_type": "markdown",
   "id": "10db9e38",
   "metadata": {},
   "source": [
    "### Beautiful soup local\n",
    "    \n",
    "    https://www.geeksforgeeks.org/how-to-parse-local-html-file-in-python/\n",
    "    \n",
    "    - über das BeatifulSoup Paket ist es möglich HTML-Elemente direkt auszulesen, so können Überschriften, Links und Co. getrennt betrachtet werden"
   ]
  },
  {
   "cell_type": "code",
   "execution_count": null,
   "id": "a3d9c89f",
   "metadata": {},
   "outputs": [],
   "source": [
    "# Importing BeautifulSoup class from the bs4 module\n",
    "from bs4 import BeautifulSoup"
   ]
  },
  {
   "cell_type": "code",
   "execution_count": null,
   "id": "65f2cf20",
   "metadata": {},
   "outputs": [],
   "source": [
    "# Opening the html file\n",
    "HTMLFile = open(\"path/to/file.html\", \"r\", encoding = \"utf-8\")"
   ]
  },
  {
   "cell_type": "code",
   "execution_count": null,
   "id": "ff45fb78",
   "metadata": {},
   "outputs": [],
   "source": [
    "# Reading the file\n",
    "index = HTMLFile.read()"
   ]
  },
  {
   "cell_type": "markdown",
   "id": "6455d130",
   "metadata": {},
   "source": [
    "*Wichtig*: Hier wird das eigentliche BeatifulSoup Element erstellt, auf dem später gearbeitet werden kann"
   ]
  },
  {
   "cell_type": "code",
   "execution_count": null,
   "id": "08746e01",
   "metadata": {},
   "outputs": [],
   "source": [
    "# Creating a BeautifulSoup object and specifying the parser\n",
    "S = BeautifulSoup(index,'html.parser')"
   ]
  },
  {
   "cell_type": "markdown",
   "id": "14dac6ce",
   "metadata": {},
   "source": [
    "Hier kann der aus der HTML-Datei gelesene Code schon präsentiert werden (hilft beim Überprüfen, ob Daten korrekt übernommen)"
   ]
  },
  {
   "cell_type": "code",
   "execution_count": null,
   "id": "57c2bd8e",
   "metadata": {},
   "outputs": [],
   "source": [
    "# Using the prettify method to modify the code\n",
    "print(S.body.prettify())"
   ]
  },
  {
   "cell_type": "markdown",
   "id": "76bc54d8",
   "metadata": {},
   "source": [
    "Es ist möglich verschiedene Elemente des HTML gezielt anzusteuern, hier einmal den Header und eine H1 Überschrift"
   ]
  },
  {
   "cell_type": "code",
   "execution_count": null,
   "id": "5ca8a67e",
   "metadata": {},
   "outputs": [],
   "source": [
    "print(S.head)"
   ]
  },
  {
   "cell_type": "code",
   "execution_count": null,
   "id": "a264e82d",
   "metadata": {},
   "outputs": [],
   "source": [
    "print(S.h1.get_text())"
   ]
  },
  {
   "cell_type": "markdown",
   "id": "17051016",
   "metadata": {},
   "source": [
    "Hier werden alle Links die im HTML-File zu finden sind in einer Liste gespeichert"
   ]
  },
  {
   "cell_type": "code",
   "execution_count": null,
   "id": "91144715",
   "metadata": {},
   "outputs": [],
   "source": [
    "all_link = []\n",
    "for link in S.find_all('a'):\n",
    "    all_link.append(link.get('href'))\n",
    "    print(link.get('href'))"
   ]
  },
  {
   "cell_type": "markdown",
   "id": "bde98a7f",
   "metadata": {},
   "source": [
    "Über *get_text()* können alle Textelemente aus dem Text gezogen werden (inklusive Tabellen-Inhalte, Texte zu Links, etc.)"
   ]
  },
  {
   "cell_type": "code",
   "execution_count": null,
   "id": "76f80ce5",
   "metadata": {},
   "outputs": [],
   "source": [
    "print(S.get_text())"
   ]
  },
  {
   "cell_type": "markdown",
   "id": "0b067531",
   "metadata": {},
   "source": [
    " Die meisten sinnvollen Text-Inhalte werden in p-Blöcken zusammengefasst, diese kann man extrahieren"
   ]
  },
  {
   "cell_type": "code",
   "execution_count": null,
   "id": "c68a73c2",
   "metadata": {},
   "outputs": [],
   "source": [
    "all_p = []\n",
    "for text in S.find_all('p'):\n",
    "    all_p.append(text.get_text())\n",
    "    print(text.get_text())\n",
    "print(all_p)"
   ]
  },
  {
   "cell_type": "markdown",
   "id": "9660b97b",
   "metadata": {},
   "source": [
    "Eventuell wichtige Meta-Informationen sind die Unterkapitel die sich in einem HTML_File befinden"
   ]
  },
  {
   "cell_type": "code",
   "execution_count": null,
   "id": "f0fa9d0a",
   "metadata": {},
   "outputs": [],
   "source": [
    "all_unter = []\n",
    "for unterkap in S.find_all('h2'):\n",
    "    all_unter.append(unterkap.get_text())\n",
    "    print(unterkap.get_text())"
   ]
  },
  {
   "cell_type": "markdown",
   "id": "ed91ae38",
   "metadata": {},
   "source": [
    "Da kein alternativ Text zu den Bildern existiert, können zumindest die Datei-Pfade erfasst werden"
   ]
  },
  {
   "cell_type": "code",
   "execution_count": null,
   "id": "fa9bba41",
   "metadata": {},
   "outputs": [],
   "source": [
    "all_bild=[]\n",
    "for bild in S.find_all('img'):\n",
    "    all_bild.append(bild.get('src'))\n",
    "\n",
    "print(all_bild)"
   ]
  },
  {
   "cell_type": "markdown",
   "id": "7626e2ce",
   "metadata": {},
   "source": [
    "Eine weitere Möglichkeit den Body-Text für die HTML-Datei zu erhalten"
   ]
  },
  {
   "cell_type": "code",
   "execution_count": null,
   "id": "6da368dd",
   "metadata": {},
   "outputs": [],
   "source": [
    "data_text = S.get_text()"
   ]
  },
  {
   "cell_type": "markdown",
   "id": "1fe672bb",
   "metadata": {},
   "source": [
    "Da der gesamte Text-Inhalt übernommen wird, entstehen viele unnötige Zeilenumbrüche, die es rauszunehmen gilt:"
   ]
  },
  {
   "cell_type": "code",
   "execution_count": null,
   "id": "c08d471a",
   "metadata": {},
   "outputs": [],
   "source": [
    "import re\n",
    "\n",
    "data_text =re.sub(r'\\n\\s*\\n', r'\\n\\n', S.get_text().strip(), flags=re.M)\n",
    "#print(data_text)"
   ]
  },
  {
   "cell_type": "markdown",
   "id": "48fb8b18",
   "metadata": {},
   "source": [
    "### Mögliches Speichern unserer Ausgelesenen Daten"
   ]
  },
  {
   "cell_type": "markdown",
   "id": "f0b0d3e7",
   "metadata": {},
   "source": [
    "- speichern der Daten als CSV-Datei"
   ]
  },
  {
   "cell_type": "markdown",
   "id": "b778a5d3",
   "metadata": {},
   "source": [
    "#### Aufbau:\n",
    "\n",
    "|Titel|Unterkapitel|Text-Körper|Links|Bilder|\n",
    "|-----|------------|-----------|-----|------|"
   ]
  },
  {
   "cell_type": "markdown",
   "id": "44670f97",
   "metadata": {},
   "source": [
    "- dabei ist der Text-Körper zunächst aus den p-Blöcken des HTML-Files aufgebaut"
   ]
  },
  {
   "cell_type": "code",
   "execution_count": null,
   "id": "44d16c3e",
   "metadata": {},
   "outputs": [],
   "source": [
    "import csv\n",
    "\n",
    "header = ['title','unterkapitel', 'body', 'links','bilder']\n",
    "data = [S.h1.get_text(),all_unter,all_p,all_link, all_bild]\n",
    "\n",
    "with open ('test_file1.csv','w',encoding='utf-8') as f:\n",
    "    writer = csv.writer(f)\n",
    "    #write header\n",
    "    writer.writerow(header)\n",
    "    #write the data\n",
    "    writer.writerow(data)"
   ]
  },
  {
   "cell_type": "markdown",
   "id": "837cc81f",
   "metadata": {},
   "source": [
    "##### Weitere Möglichkeit:\n",
    "\n",
    "###### Aufbau:\n",
    "\n",
    "|Titel|Unterkapitel|Text-Körper|Links|Bilder|\n",
    "|-----|------------|-----------|-----|------|\n",
    "\n",
    "- hier werden als Text-Body alle Text-Elemente der HTML-Seite genommen"
   ]
  },
  {
   "cell_type": "code",
   "execution_count": null,
   "id": "ad3de917",
   "metadata": {},
   "outputs": [],
   "source": [
    "header = ['title','unterkapitel', 'body', 'links','bilder']\n",
    "data = [S.h1.get_text(),all_unter,data_text,all_link, all_bild]\n",
    "\n",
    "with open ('test_file2.csv','w',encoding='utf-8') as f:\n",
    "    writer = csv.writer(f)\n",
    "    #write header\n",
    "    writer.writerow(header)\n",
    "    #write the data\n",
    "    writer.writerow(data)\n"
   ]
  },
  {
   "cell_type": "markdown",
   "id": "f0f2f4ec",
   "metadata": {},
   "source": [
    "### Ein bisschen befüllen der CSV"
   ]
  },
  {
   "cell_type": "markdown",
   "id": "7217615e",
   "metadata": {},
   "source": [
    " - weitere Möglichkeit für eine Speicherung des HTML-Inhaltes"
   ]
  },
  {
   "cell_type": "code",
   "execution_count": null,
   "id": "2e322194",
   "metadata": {},
   "outputs": [],
   "source": [
    "HTMLFile2 = open(\"path/to/file.html\", \"r\", encoding = \"utf-8\")\n",
    "index2 = HTMLFile2.read()\n",
    "# Creating a BeautifulSoup object and specifying the parser\n",
    "soup = BeautifulSoup(index2,'html.parser')\n",
    "# Using the select-one method to find the second element from the li tag\n",
    "Tag2 = soup.select_one('li:nth-of-type(2)')\n",
    "# Using the decompose method\n",
    "Tag2.decompose()"
   ]
  },
  {
   "cell_type": "markdown",
   "id": "c4b7e68c",
   "metadata": {},
   "source": [
    "Bereinigen der Text-Elemente:"
   ]
  },
  {
   "cell_type": "code",
   "execution_count": null,
   "id": "fefeb921",
   "metadata": {},
   "outputs": [],
   "source": [
    "data_text2 =re.sub(r'\\n\\s*\\n', r'\\n\\n', soup.get_text().strip(), flags=re.M)\n",
    "print(data_text2)"
   ]
  },
  {
   "cell_type": "markdown",
   "id": "753a904f",
   "metadata": {},
   "source": [
    "Versuch die Tabellen-Elemente aus dem HTML-File zu extrahieren"
   ]
  },
  {
   "cell_type": "code",
   "execution_count": null,
   "id": "65469a59",
   "metadata": {},
   "outputs": [],
   "source": [
    "soup.table"
   ]
  },
  {
   "cell_type": "code",
   "execution_count": null,
   "id": "d31ad578",
   "metadata": {},
   "outputs": [],
   "source": [
    "tabelle = []\n",
    "table_body = soup.find('tbody')\n",
    "\n",
    "rows = table_body.find_all('tr')\n",
    "for row in rows:\n",
    "    cols = row.find_all('td')\n",
    "    cols = [ele.text.strip() for ele in cols]\n",
    "    tabelle.append([ele for ele in cols if ele]) # Get rid of empty values\n"
   ]
  },
  {
   "cell_type": "markdown",
   "id": "2db60b72",
   "metadata": {},
   "source": [
    "#### Fazit:\n",
    "\n",
    "- Tabellen Elemente die nur aus Sonderzeichen oder kurzen Beschreibungen bestehen sind schwer zu extrahieren\n",
    "- BeautifulSoup liest die Elemente nacheinander aus, wodurch der Zusammenhang der Elemente verloren geht\n",
    "- Daher die Frage: Wie wichtig sind solche Tabellen, wie im Tools-Bereich der Dokumentation für unser Anliegen?"
   ]
  },
  {
   "cell_type": "code",
   "execution_count": null,
   "id": "5d216e9e",
   "metadata": {},
   "outputs": [],
   "source": []
  },
  {
   "cell_type": "code",
   "execution_count": null,
   "id": "38bec0a3",
   "metadata": {},
   "outputs": [],
   "source": []
  }
 ],
 "metadata": {
  "kernelspec": {
   "display_name": "Kedro (quaseldoku)",
   "language": "python",
   "name": "kedro_quaseldoku"
  },
  "language_info": {
   "codemirror_mode": {
    "name": "ipython",
    "version": 3
   },
   "file_extension": ".py",
   "mimetype": "text/x-python",
   "name": "python",
   "nbconvert_exporter": "python",
   "pygments_lexer": "ipython3",
   "version": "3.10.4"
  }
 },
 "nbformat": 4,
 "nbformat_minor": 5
}
