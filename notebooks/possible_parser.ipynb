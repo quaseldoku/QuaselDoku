{
 "cells": [
  {
   "cell_type": "markdown",
   "id": "03e5a230",
   "metadata": {},
   "source": [
    "# Liste mit möglichen Parsern für die Doku"
   ]
  },
  {
   "cell_type": "markdown",
   "id": "5e993d50",
   "metadata": {},
   "source": [
    "## HTML.parser Paket"
   ]
  },
  {
   "cell_type": "markdown",
   "id": "7ff90379",
   "metadata": {},
   "source": [
    "https://www.educative.io/edpresso/what-is-the-html-parser-in-python"
   ]
  },
  {
   "cell_type": "code",
   "execution_count": null,
   "id": "fea1c452",
   "metadata": {},
   "outputs": [],
   "source": [
    "from html.parser import HTMLParser\n",
    "class Parser(HTMLParser):\n",
    "  # method to append the start tag to the list start_tags.\n",
    "  def handle_starttag(self, tag, attrs):\n",
    "    global start_tags\n",
    "    start_tags.append(tag)\n",
    "    # method to append the end tag to the list end_tags.\n",
    "  def handle_endtag(self, tag):\n",
    "    global end_tags\n",
    "    end_tags.append(tag)\n",
    "  # method to append the data between the tags to the list all_data.\n",
    "  def handle_data(self, data):\n",
    "    global all_data\n",
    "    all_data.append(data)\n",
    "  # method to append the comment to the list comments.\n",
    "  def handle_comment(self, data):\n",
    "    global comments\n",
    "    comments.append(data)\n",
    "start_tags = []\n",
    "end_tags = []\n",
    "all_data = []\n",
    "comments = []\n",
    "# Creating an instance of our class.\n",
    "parser = Parser()\n",
    "# Poviding the input.\n",
    "HTMLFile = open(\"hier könnte ihre html stehen\", \"r\", encoding = \"utf-8\")\n",
    "parser.feed(HTMLFile.read())\n",
    "print(\"start tags:\", start_tags)\n",
    "print(\"end tags:\", end_tags)\n",
    "print(\"data:\", all_data)\n",
    "print(\"comments\", comments)"
   ]
  },
  {
   "cell_type": "code",
   "execution_count": null,
   "id": "ac6cc8d6",
   "metadata": {},
   "outputs": [],
   "source": [
    "data =data.replace(\"\\n\",\" \")\n",
    "print(data)"
   ]
  },
  {
   "cell_type": "markdown",
   "id": "0c40ed34",
   "metadata": {},
   "source": [
    "## Beautiful Soup"
   ]
  },
  {
   "cell_type": "markdown",
   "id": "4942a414",
   "metadata": {},
   "source": [
    "https://www.twilio.com/blog/web-scraping-and-parsing-html-in-python-with-beautiful-soup"
   ]
  },
  {
   "cell_type": "markdown",
   "id": "52f0396f",
   "metadata": {},
   "source": [
    "Problem:\n",
    "    \n",
    "    * meisten Parser lesen eine HTML Seite aus dem Browser aus\n",
    "    * Unsere lokale Webseite wird also nicht abgedeckt"
   ]
  },
  {
   "cell_type": "code",
   "execution_count": null,
   "id": "f55ab95b",
   "metadata": {},
   "outputs": [],
   "source": [
    "import requests\n",
    "from bs4 import BeautifulSoup\n",
    "\n",
    "\n",
    "vgm_url = 'hier könnte ihre html stehen'\n",
    "html_text = requests.get(vgm_url).text\n",
    "soup = BeautifulSoup(html_text, 'html.parser')\n"
   ]
  },
  {
   "cell_type": "markdown",
   "id": "10db9e38",
   "metadata": {},
   "source": [
    "### Beautiful soup local\n",
    "    \n",
    "    https://www.geeksforgeeks.org/how-to-parse-local-html-file-in-python/"
   ]
  },
  {
   "cell_type": "code",
   "execution_count": null,
   "id": "a3d9c89f",
   "metadata": {},
   "outputs": [],
   "source": [
    "from bs4 import BeautifulSoup\n"
   ]
  },
  {
   "cell_type": "code",
   "execution_count": null,
   "id": "65f2cf20",
   "metadata": {},
   "outputs": [],
   "source": [
    "# Importing BeautifulSoup class from the bs4 module\n",
    "from bs4 import BeautifulSoup\n",
    "\n",
    "# Opening the html file\n",
    "HTMLFile = open(\"hier könnte ihre html stehen\", \"r\", encoding = \"utf-8\")"
   ]
  },
  {
   "cell_type": "code",
   "execution_count": null,
   "id": "ff45fb78",
   "metadata": {},
   "outputs": [],
   "source": [
    "# Reading the file\n",
    "index = HTMLFile.read()"
   ]
  },
  {
   "cell_type": "code",
   "execution_count": null,
   "id": "08746e01",
   "metadata": {},
   "outputs": [],
   "source": [
    "# Creating a BeautifulSoup object and specifying the parser\n",
    "S = BeautifulSoup(index,'html.parser')"
   ]
  },
  {
   "cell_type": "code",
   "execution_count": null,
   "id": "522d52f1",
   "metadata": {},
   "outputs": [],
   "source": [
    "# Using the select-one method to find the second element from the li tag\n",
    "Tag = S.select_one('li:nth-of-type(2)')"
   ]
  },
  {
   "cell_type": "code",
   "execution_count": null,
   "id": "cc3ab9d6",
   "metadata": {},
   "outputs": [],
   "source": [
    "# Using the decompose method\n",
    "Tag.decompose()"
   ]
  },
  {
   "cell_type": "code",
   "execution_count": null,
   "id": "57c2bd8e",
   "metadata": {},
   "outputs": [],
   "source": [
    "# Using the prettify method to modify the code\n",
    "print(S.body.prettify())"
   ]
  },
  {
   "cell_type": "code",
   "execution_count": null,
   "id": "5ca8a67e",
   "metadata": {},
   "outputs": [],
   "source": [
    "print(S.head)"
   ]
  },
  {
   "cell_type": "code",
   "execution_count": null,
   "id": "a264e82d",
   "metadata": {},
   "outputs": [],
   "source": [
    "print(S.h1.get_text())"
   ]
  },
  {
   "cell_type": "code",
   "execution_count": null,
   "id": "65ea3c4a",
   "metadata": {},
   "outputs": [],
   "source": [
    "# Using the recursiveChildGenerator method to traverse the html file\n",
    "for TraverseTags in S.recursiveChildGenerator():\n",
    "  # Traversing the names of the tags\n",
    "    if TraverseTags.name:\n",
    "      # Printing the names of the tags\n",
    "        print(TraverseTags.name)"
   ]
  },
  {
   "cell_type": "code",
   "execution_count": null,
   "id": "0d84849c",
   "metadata": {},
   "outputs": [],
   "source": [
    "print(f'HTML: {S.ul}, name: {S.ul.name}, text: {S.ul.text}')"
   ]
  },
  {
   "cell_type": "code",
   "execution_count": null,
   "id": "9161c5ee",
   "metadata": {},
   "outputs": [],
   "source": [
    "print(S.prettify())"
   ]
  },
  {
   "cell_type": "code",
   "execution_count": null,
   "id": "91144715",
   "metadata": {},
   "outputs": [],
   "source": [
    "all_link = []\n",
    "for link in S.find_all('a'):\n",
    "    all_link.append(link.get('href'))\n",
    "    print(link.get('href'))"
   ]
  },
  {
   "cell_type": "code",
   "execution_count": null,
   "id": "76f80ce5",
   "metadata": {},
   "outputs": [],
   "source": [
    "print(S.get_text())"
   ]
  },
  {
   "cell_type": "code",
   "execution_count": null,
   "id": "bcd4c445",
   "metadata": {},
   "outputs": [],
   "source": [
    "print(S.p)"
   ]
  },
  {
   "cell_type": "code",
   "execution_count": null,
   "id": "c68a73c2",
   "metadata": {},
   "outputs": [],
   "source": [
    "all_p = []\n",
    "for text in S.find_all('p'):\n",
    "    all_p.append(text.get_text())\n",
    "    print(text.get_text())\n",
    "print(all_p)"
   ]
  },
  {
   "cell_type": "code",
   "execution_count": null,
   "id": "f0fa9d0a",
   "metadata": {},
   "outputs": [],
   "source": [
    "all_unter = []\n",
    "for unterkap in S.find_all('h2'):\n",
    "    all_unter.append(unterkap.get_text())\n",
    "    print(unterkap.get_text())"
   ]
  },
  {
   "cell_type": "code",
   "execution_count": null,
   "id": "fa9bba41",
   "metadata": {},
   "outputs": [],
   "source": [
    "all_bild=[]\n",
    "for bild in S.find_all('img'):\n",
    "    all_bild.append(bild.get('src'))\n",
    "\n",
    "print(all_bild)"
   ]
  },
  {
   "cell_type": "code",
   "execution_count": null,
   "id": "6da368dd",
   "metadata": {},
   "outputs": [],
   "source": [
    "data_text = S.get_text()\n",
    "print(data_text)"
   ]
  },
  {
   "cell_type": "code",
   "execution_count": null,
   "id": "c08d471a",
   "metadata": {},
   "outputs": [],
   "source": [
    "import re\n",
    "\n",
    "data_text =re.sub(r'\\n\\s*\\n', r'\\n\\n', S.get_text().strip(), flags=re.M)\n",
    "print(data_text)"
   ]
  },
  {
   "cell_type": "markdown",
   "id": "48fb8b18",
   "metadata": {},
   "source": [
    "### Mögliches Speichern unserer Ausgelesenen Daten"
   ]
  },
  {
   "cell_type": "code",
   "execution_count": null,
   "id": "44d16c3e",
   "metadata": {},
   "outputs": [],
   "source": [
    "import csv\n",
    "\n",
    "header = ['title','unterkapitel', 'body', 'links','bilder']\n",
    "data = [S.h1.get_text(),all_unter,all_p,all_link, all_bild]\n",
    "\n",
    "with open ('test_file1.csv','w',encoding='utf-8') as f:\n",
    "    writer = csv.writer(f)\n",
    "    #write header\n",
    "    writer.writerow(header)\n",
    "    #write the data\n",
    "    writer.writerow(data)"
   ]
  },
  {
   "cell_type": "code",
   "execution_count": null,
   "id": "ad3de917",
   "metadata": {},
   "outputs": [],
   "source": [
    "header = ['title','unterkapitel', 'body', 'links','bilder']\n",
    "data = [S.h1.get_text(),all_unter,data_text,all_link, all_bild]\n",
    "\n",
    "with open ('test_file2.csv','w',encoding='utf-8') as f:\n",
    "    writer = csv.writer(f)\n",
    "    #write header\n",
    "    writer.writerow(header)\n",
    "    #write the data\n",
    "    writer.writerow(data)\n"
   ]
  },
  {
   "cell_type": "markdown",
   "id": "f0f2f4ec",
   "metadata": {},
   "source": [
    "### Ein bisschen befüllen der CSV"
   ]
  },
  {
   "cell_type": "code",
   "execution_count": null,
   "id": "2e322194",
   "metadata": {},
   "outputs": [],
   "source": [
    "HTMLFile2 = open(\"hier könnte ihre hmtl stehen\", \"r\", encoding = \"utf-8\")\n",
    "index2 = HTMLFile2.read()\n",
    "# Creating a BeautifulSoup object and specifying the parser\n",
    "soup = BeautifulSoup(index2,'html.parser')\n",
    "# Using the select-one method to find the second element from the li tag\n",
    "Tag2 = soup.select_one('li:nth-of-type(2)')\n",
    "# Using the decompose method\n",
    "Tag2.decompose()"
   ]
  },
  {
   "cell_type": "code",
   "execution_count": null,
   "id": "fefeb921",
   "metadata": {},
   "outputs": [],
   "source": [
    "data_text2 =re.sub(r'\\n\\s*\\n', r'\\n\\n', soup.get_text().strip(), flags=re.M)\n",
    "print(data_text2)"
   ]
  },
  {
   "cell_type": "code",
   "execution_count": null,
   "id": "65469a59",
   "metadata": {},
   "outputs": [],
   "source": [
    "soup.table"
   ]
  },
  {
   "cell_type": "code",
   "execution_count": null,
   "id": "d31ad578",
   "metadata": {},
   "outputs": [],
   "source": [
    "tabelle = []\n",
    "table_body = soup.find('tbody')\n",
    "\n",
    "rows = table_body.find_all('tr')\n",
    "for row in rows:\n",
    "    cols = row.find_all('td')\n",
    "    cols = [ele.text.strip() for ele in cols]\n",
    "    tabelle.append([ele for ele in cols if ele]) # Get rid of empty values\n",
    "print(tabelle)"
   ]
  },
  {
   "cell_type": "code",
   "execution_count": null,
   "id": "4021aed5",
   "metadata": {},
   "outputs": [],
   "source": []
  },
  {
   "cell_type": "code",
   "execution_count": null,
   "id": "38bec0a3",
   "metadata": {},
   "outputs": [],
   "source": []
  }
 ],
 "metadata": {
  "kernelspec": {
   "display_name": "Kedro (quaseldoku)",
   "language": "python",
   "name": "kedro_quaseldoku"
  },
  "language_info": {
   "codemirror_mode": {
    "name": "ipython",
    "version": 3
   },
   "file_extension": ".py",
   "mimetype": "text/x-python",
   "name": "python",
   "nbconvert_exporter": "python",
   "pygments_lexer": "ipython3",
   "version": "3.8.2"
  }
 },
 "nbformat": 4,
 "nbformat_minor": 5
}
