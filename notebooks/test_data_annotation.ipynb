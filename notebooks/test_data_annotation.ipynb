{
 "cells": [
  {
   "cell_type": "markdown",
   "id": "e5911ad1",
   "metadata": {},
   "source": [
    "# Annotation der Test Daten"
   ]
  },
  {
   "cell_type": "markdown",
   "id": "3720fac0",
   "metadata": {},
   "source": [
    "Hier sollen zu einigen Passagen / Dokumenten Fragen formuliert und die Antworten dazu annotiert werden. Dabei soll dem SQUAD-Standard gefolgt werden:"
   ]
  },
  {
   "cell_type": "markdown",
   "id": "0ac1135f",
   "metadata": {},
   "source": [
    "| ID (int) | context (string) | question (string) | answers (json) |\n",
    "| -: | :- | :- | :- |\n",
    "| 1 | In der letzten Spalte der Signalanbindungstabelle kann eine Standardeinheit für ein generisches Signal angegeben werden. Der Defaulteintrag don’t care bezeichnet die Übernahme der Quelleinheit aus der Aufnahmedatei. | Wo kann die Einheit für genererisches Signal angegeben werden? | { \"text\": [In der letzten Spalte der Signalanbindungstabelle], \"answer_start\": [1] } |\n",
    "| ... | ... | ... | ... | ... |"
   ]
  },
  {
   "cell_type": "markdown",
   "id": "7da3e7f1",
   "metadata": {},
   "source": [
    "Dabei muss sich die ID dem Kontext in der geparsden Doku zuzuordenen sein. Für einen Kontext können mehrere Fragen formuliert werden, auch können mehrere Antworten gegeben werden (Im SQUAD ist der Standard 3, wobei eine Antwort (Antwort-Text und Start-Token) dann wiederholt wird, wenn es im gegeben Kontext nur eine Stelle mit der passenden Antwort gibt, so dass immer drei Antworten pro Fragen annotiert sind). Es sollte ausreichend sein, sich hier auf eine Antwort pro Frage zu beschränken. Für die Ermittlung des Start-Tokens werden Buchstaben, keine Wörter gezählt."
   ]
  },
  {
   "cell_type": "markdown",
   "id": "60278bd4",
   "metadata": {},
   "source": [
    "Die Idee ist ein zufälliges Dokument auszuwählen und dann eine oder mehrer Fragen zu formulieren. Die Antwort kann dann aus dem Text herausgesucht werden. Über Rückwärtssuche im gegebenen Text / Kontext, kann dann die Antwort im json-Format automatisch erzeugt werden."
   ]
  },
  {
   "cell_type": "markdown",
   "id": "4098c093",
   "metadata": {},
   "source": [
    "### Laden der Dokumente"
   ]
  },
  {
   "cell_type": "code",
   "execution_count": 1,
   "id": "091df2e7",
   "metadata": {},
   "outputs": [
    {
     "name": "stdout",
     "output_type": "stream",
     "text": [
      "2022-05-10 20:03:39,910 - kedro.io.data_catalog - INFO - Loading data from `ecu_test_doku_parsed` (CSVDataSet)...\n"
     ]
    }
   ],
   "source": [
    "documents = catalog.load(\"ecu_test_doku_parsed\")"
   ]
  },
  {
   "cell_type": "markdown",
   "id": "9fca75fd",
   "metadata": {},
   "source": [
    "### Definieren der nötigen Funtkionen"
   ]
  },
  {
   "cell_type": "code",
   "execution_count": 74,
   "id": "d8233a93",
   "metadata": {},
   "outputs": [],
   "source": [
    "import pandas as pd"
   ]
  },
  {
   "cell_type": "code",
   "execution_count": 108,
   "id": "63dbc9d4",
   "metadata": {},
   "outputs": [],
   "source": [
    "def get_random_document():\n",
    "    _id = documents.sample()['body'].index[0]\n",
    "    context = str(documents.sample()['body'].iloc[0])\n",
    "    return _id, context\n",
    "\n",
    "def get_start_token_of_string_in_context(context, query_string):\n",
    "    res = context.find(query_string)\n",
    "    if res == -1:\n",
    "        print(\"context does not contain string\")\n",
    "        return {}\n",
    "    else:\n",
    "        return {\"text\": query_string, \"answer_start\": res}"
   ]
  },
  {
   "cell_type": "markdown",
   "id": "c9ece140",
   "metadata": {},
   "source": [
    "### Beispiel Anwendung"
   ]
  },
  {
   "cell_type": "code",
   "execution_count": 90,
   "id": "f5785738",
   "metadata": {},
   "outputs": [],
   "source": [
    "# define output\n",
    "answers = []"
   ]
  },
  {
   "cell_type": "markdown",
   "id": "bf4df8d2",
   "metadata": {},
   "source": [
    "#### Wahl eines zufälligen Dokumentes"
   ]
  },
  {
   "cell_type": "code",
   "execution_count": 103,
   "id": "c8dbd02c",
   "metadata": {},
   "outputs": [
    {
     "name": "stdout",
     "output_type": "stream",
     "text": [
      "Picked Document with id: 438, context is: Port ENVSIM ? — ECU-TEST ...\n"
     ]
    }
   ],
   "source": [
    "_id, context = get_random_document()\n",
    "print(f'Picked Document with id: {_id}, context is: {context[:25]}...')"
   ]
  },
  {
   "cell_type": "markdown",
   "id": "a509e561",
   "metadata": {},
   "source": [
    "#### DEBUG: Überschreiben des generierten Kontextes, da html Parser noch nicht geupdatet."
   ]
  },
  {
   "cell_type": "code",
   "execution_count": 105,
   "id": "1c6eecd2",
   "metadata": {},
   "outputs": [
    {
     "data": {
      "text/plain": [
       "'Das ist ein Dummytext. In der echten Anwendung würde hier ein Dokument stehen.'"
      ]
     },
     "execution_count": 105,
     "metadata": {},
     "output_type": "execute_result"
    }
   ],
   "source": [
    "context = \"Das ist ein Dummytext. In der echten Anwendung würde hier ein Dokument stehen.\"\n",
    "context"
   ]
  },
  {
   "cell_type": "markdown",
   "id": "786bc8ac",
   "metadata": {},
   "source": [
    "#### Stellen und Beantworte der Frage"
   ]
  },
  {
   "cell_type": "code",
   "execution_count": 107,
   "id": "31b64dd5",
   "metadata": {},
   "outputs": [],
   "source": [
    "question = \"Was würde hier in der echten Anwendung stehen?\"\n",
    "answer = \"ein Dokument\"\n",
    "\n",
    "answer_json = get_start_token_of_string_in_context(context, answer)\n",
    "answers.append([_id, context, question, answer])"
   ]
  },
  {
   "cell_type": "markdown",
   "id": "4fa06483",
   "metadata": {},
   "source": [
    "### Überführen der Anworten in DataFrame und Speichern als CSV"
   ]
  },
  {
   "cell_type": "code",
   "execution_count": 94,
   "id": "ffbf694f",
   "metadata": {},
   "outputs": [
    {
     "data": {
      "text/html": [
       "<div>\n",
       "<style scoped>\n",
       "    .dataframe tbody tr th:only-of-type {\n",
       "        vertical-align: middle;\n",
       "    }\n",
       "\n",
       "    .dataframe tbody tr th {\n",
       "        vertical-align: top;\n",
       "    }\n",
       "\n",
       "    .dataframe thead th {\n",
       "        text-align: right;\n",
       "    }\n",
       "</style>\n",
       "<table border=\"1\" class=\"dataframe\">\n",
       "  <thead>\n",
       "    <tr style=\"text-align: right;\">\n",
       "      <th></th>\n",
       "      <th>id</th>\n",
       "      <th>context</th>\n",
       "      <th>question</th>\n",
       "      <th>answers</th>\n",
       "    </tr>\n",
       "  </thead>\n",
       "  <tbody>\n",
       "    <tr>\n",
       "      <th>0</th>\n",
       "      <td>362</td>\n",
       "      <td>Das ist ein Dummytext. In der echten Anwendung...</td>\n",
       "      <td>Was würde hier in der echten Anwendung stehen?</td>\n",
       "      <td>{'text': 'ein Dokument', 'answer_start': 58}</td>\n",
       "    </tr>\n",
       "  </tbody>\n",
       "</table>\n",
       "</div>"
      ],
      "text/plain": [
       "    id                                            context  \\\n",
       "0  362  Das ist ein Dummytext. In der echten Anwendung...   \n",
       "\n",
       "                                         question  \\\n",
       "0  Was würde hier in der echten Anwendung stehen?   \n",
       "\n",
       "                                        answers  \n",
       "0  {'text': 'ein Dokument', 'answer_start': 58}  "
      ]
     },
     "metadata": {},
     "output_type": "display_data"
    }
   ],
   "source": [
    "answers_df = pd.DataFrame(answers)\n",
    "answers_df.columns = ['id', 'context', 'question', 'answers']\n",
    "display(answers_df)"
   ]
  },
  {
   "cell_type": "code",
   "execution_count": 109,
   "id": "e5f95b69",
   "metadata": {},
   "outputs": [],
   "source": [
    "answers_df.to_csv(\"../data/03_primary/test_data.csv\")"
   ]
  }
 ],
 "metadata": {
  "kernelspec": {
   "display_name": "Kedro (quaseldoku)",
   "language": "python",
   "name": "kedro_quaseldoku"
  },
  "language_info": {
   "codemirror_mode": {
    "name": "ipython",
    "version": 3
   },
   "file_extension": ".py",
   "mimetype": "text/x-python",
   "name": "python",
   "nbconvert_exporter": "python",
   "pygments_lexer": "ipython3",
   "version": "3.8.2"
  }
 },
 "nbformat": 4,
 "nbformat_minor": 5
}
