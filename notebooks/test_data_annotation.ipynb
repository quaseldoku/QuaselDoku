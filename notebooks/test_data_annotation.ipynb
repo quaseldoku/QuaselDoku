{
 "cells": [
  {
   "cell_type": "markdown",
   "id": "f38cc496",
   "metadata": {},
   "source": [
    "# Annotation der Test Daten"
   ]
  },
  {
   "cell_type": "markdown",
   "id": "a5e1f538",
   "metadata": {},
   "source": [
    "Hier sollen zu einigen Passagen / Dokumenten Fragen formuliert und die Antworten dazu annotiert werden. Dabei soll dem SQUAD-Standard gefolgt werden:"
   ]
  },
  {
   "cell_type": "markdown",
   "id": "bed794bb",
   "metadata": {},
   "source": [
    "| ID (int) | context (string) | question (string) | answers (json) |\n",
    "| -: | :- | :- | :- |\n",
    "| 1 | In der letzten Spalte der Signalanbindungstabelle kann eine Standardeinheit für ein generisches Signal angegeben werden. Der Defaulteintrag don’t care bezeichnet die Übernahme der Quelleinheit aus der Aufnahmedatei. | Wo kann die Einheit für genererisches Signal angegeben werden? | { \"text\": [In der letzten Spalte der Signalanbindungstabelle], \"answer_start\": [1] } |\n",
    "| ... | ... | ... | ... | ... |"
   ]
  },
  {
   "cell_type": "markdown",
   "id": "cd396e4e",
   "metadata": {},
   "source": [
    "Dabei muss sich die ID dem Kontext in der geparsden Doku zuzuordenen sein. Für einen Kontext können mehrere Fragen formuliert werden, auch können mehrere Antworten gegeben werden (Im SQUAD ist der Standard 3, wobei eine Antwort (Antwort-Text und Start-Token) dann wiederholt wird, wenn es im gegeben Kontext nur eine Stelle mit der passenden Antwort gibt, so dass immer drei Antworten pro Fragen annotiert sind). Es sollte ausreichend sein, sich hier auf eine Antwort pro Frage zu beschränken. Für die Ermittlung des Start-Tokens werden Buchstaben, keine Wörter gezählt."
   ]
  },
  {
   "cell_type": "markdown",
   "id": "03a18d93",
   "metadata": {},
   "source": [
    "Die Idee ist ein zufälliges Dokument auszuwählen und dann eine oder mehrer Fragen zu formulieren. Die Antwort kann dann aus dem Text herausgesucht werden. Über Rückwärtssuche im gegebenen Text / Kontext, kann dann die Antwort im json-Format automatisch erzeugt werden."
   ]
  },
  {
   "cell_type": "markdown",
   "id": "168b722c",
   "metadata": {},
   "source": [
    "### Laden der Dokumente"
   ]
  },
  {
   "cell_type": "code",
   "execution_count": 1,
   "id": "bffe9dfc",
   "metadata": {},
   "outputs": [
    {
     "name": "stdout",
     "output_type": "stream",
     "text": [
      "2022-05-25 10:19:27,244 - kedro.io.data_catalog - INFO - Loading data from `ecu_test_doku_parsed` (CSVDataSet)...\n"
     ]
    }
   ],
   "source": [
    "documents = catalog.load(\"ecu_test_doku_parsed\")"
   ]
  },
  {
   "cell_type": "markdown",
   "id": "b1e90268",
   "metadata": {},
   "source": [
    "### Definieren der nötigen Funtkionen"
   ]
  },
  {
   "cell_type": "code",
   "execution_count": 2,
   "id": "882d4afb",
   "metadata": {},
   "outputs": [],
   "source": [
    "import pandas as pd"
   ]
  },
  {
   "cell_type": "code",
   "execution_count": 15,
   "id": "f9b90fd8",
   "metadata": {},
   "outputs": [],
   "source": [
    "def get_random_document():\n",
    "    _id = documents.sample()['Body'].index[0]\n",
    "    context = str(documents.sample()['Body'].iloc[0])\n",
    "    return _id, context\n",
    "\n",
    "def get_start_token_of_string_in_context(context, query_string):\n",
    "    res = context.find(query_string)\n",
    "    if res == -1:\n",
    "        print(\"context does not contain string\")\n",
    "        return {}\n",
    "    else:\n",
    "        return {\"text\": [query_string], \"answer_start\": [res]}"
   ]
  },
  {
   "cell_type": "markdown",
   "id": "28bac955",
   "metadata": {},
   "source": [
    "### Beispiel Anwendung"
   ]
  },
  {
   "cell_type": "code",
   "execution_count": 150,
   "id": "db853ba5",
   "metadata": {},
   "outputs": [],
   "source": [
    "# define output\n",
    "answers = []"
   ]
  },
  {
   "cell_type": "markdown",
   "id": "75b412a1",
   "metadata": {},
   "source": [
    "### Laden bereits erstellter Test Daten"
   ]
  },
  {
   "cell_type": "code",
   "execution_count": 151,
   "id": "657a3b39",
   "metadata": {},
   "outputs": [],
   "source": [
    "import csv\n",
    "\n",
    "with open(\"../data/03_primary/test_data.csv\", newline='', encoding =\"utf-8\") as f:\n",
    "    reader = csv.reader(f)\n",
    "    next(reader, None)\n",
    "    for row in reader:\n",
    "        answers.append([row[1],row[2],row[3],row[4]])\n",
    "#print(answers)"
   ]
  },
  {
   "cell_type": "markdown",
   "id": "7a562a75",
   "metadata": {},
   "source": [
    "#### Wahl eines zufälligen Dokumentes"
   ]
  },
  {
   "cell_type": "code",
   "execution_count": 181,
   "id": "0820f252",
   "metadata": {},
   "outputs": [
    {
     "name": "stdout",
     "output_type": "stream",
     "text": [
      "2103\n",
      "Die Zuweisung der Pins erfolgt über eine XML-Mapping-Datei, die dem folgenden Schema entspricht.\n"
     ]
    }
   ],
   "source": [
    "_id, context = get_random_document()\n",
    "print(_id)\n",
    "print(context)"
   ]
  },
  {
   "cell_type": "markdown",
   "id": "ca9bfef3",
   "metadata": {},
   "source": [
    "#### DEBUG: Überschreiben des generierten Kontextes, da html Parser noch nicht geupdatet."
   ]
  },
  {
   "cell_type": "code",
   "execution_count": 7,
   "id": "64c059c8",
   "metadata": {},
   "outputs": [
    {
     "data": {
      "text/plain": [
       "'Das ist ein Dummytext. In der echten Anwendung würde hier ein Dokument stehen.'"
      ]
     },
     "execution_count": 7,
     "metadata": {},
     "output_type": "execute_result"
    }
   ],
   "source": [
    "context = \"Das ist ein Dummytext. In der echten Anwendung würde hier ein Dokument stehen.\"\n",
    "context"
   ]
  },
  {
   "cell_type": "markdown",
   "id": "5d109394",
   "metadata": {},
   "source": [
    "#### Stellen und Beantworte der Frage"
   ]
  },
  {
   "cell_type": "code",
   "execution_count": 182,
   "id": "8974c93b",
   "metadata": {},
   "outputs": [],
   "source": [
    "_q = \"Wie weise ich Pins zu?\"\n",
    "_a = \"Die Zuweisung der Pins erfolgt über eine XML-Mapping-Datei, die dem folgenden Schema entspricht.\"\n",
    "\n",
    "#answer_json = get_start_token_of_string_in_context(context, _a)\n",
    "answers.append([_id, context, _q,_a])"
   ]
  },
  {
   "cell_type": "markdown",
   "id": "ddde7587",
   "metadata": {},
   "source": [
    "### Überführen der Anworten in DataFrame und Speichern als CSV"
   ]
  },
  {
   "cell_type": "code",
   "execution_count": null,
   "id": "9d72e327",
   "metadata": {},
   "outputs": [],
   "source": [
    "answers_df = pd.DataFrame(answers)\n",
    "answers_df.columns = ['id', 'context', 'question', 'answers']\n",
    "display(answers_df)"
   ]
  },
  {
   "cell_type": "code",
   "execution_count": 184,
   "id": "fb8a06d1",
   "metadata": {},
   "outputs": [],
   "source": [
    "answers_df.to_csv(\"../data/03_primary/test_data.csv\")"
   ]
  },
  {
   "cell_type": "code",
   "execution_count": null,
   "id": "f97d99ee",
   "metadata": {},
   "outputs": [],
   "source": []
  }
 ],
 "metadata": {
  "kernelspec": {
   "display_name": "Kedro (quaseldoku)",
   "language": "python",
   "name": "kedro_quaseldoku"
  },
  "language_info": {
   "codemirror_mode": {
    "name": "ipython",
    "version": 3
   },
   "file_extension": ".py",
   "mimetype": "text/x-python",
   "name": "python",
   "nbconvert_exporter": "python",
   "pygments_lexer": "ipython3",
   "version": "3.10.4"
  }
 },
 "nbformat": 4,
 "nbformat_minor": 5
}
