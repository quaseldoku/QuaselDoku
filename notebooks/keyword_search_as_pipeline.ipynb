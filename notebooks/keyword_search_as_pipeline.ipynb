{
 "cells": [
  {
   "cell_type": "markdown",
   "id": "cecca703",
   "metadata": {},
   "source": [
    "### Erstellen des Suchindex"
   ]
  },
  {
   "cell_type": "markdown",
   "id": "e9583c35",
   "metadata": {},
   "source": [
    "Die Keyword Search ist in Kedro angelegt. Um etwa eine query auf der Test-Doku auszuführen, muss zunächst der Suchindex auf der Doku erstellt werden. Dafür kann einfach die pre_processing pipeline ausgeführt werden. Sie enthält nodes, die sowohl die Doku parsen, als auch im nächsten Schritt einen Suchindex auf den geparsten Paragraphen erstellt."
   ]
  },
  {
   "cell_type": "code",
   "execution_count": 1,
   "id": "de0afd92",
   "metadata": {
    "scrolled": true
   },
   "outputs": [
    {
     "name": "stdout",
     "output_type": "stream",
     "text": [
      "2022-05-30 14:23:22,938 - kedro.framework.session.session - INFO - ** Kedro project QuaselDoku\n"
     ]
    },
    {
     "name": "stderr",
     "output_type": "stream",
     "text": [
      "/mnt/Data/Studium/tracetronic/QuaselDoku/src/quaseldoku/pipelines/data_pre_processing/nodes.py:79: DeprecationWarning: invalid escape sequence \\W\n",
      "  clean_text = re.sub('\\W+', ' ', clean_text)\n"
     ]
    },
    {
     "name": "stdout",
     "output_type": "stream",
     "text": [
      "2022-05-30 14:23:23,659 - kedro.io.data_catalog - INFO - Loading data from `ecu_test_doku` (PartitionedDataSet)...\n",
      "2022-05-30 14:23:23,769 - kedro.io.data_catalog - INFO - Loading data from `params:preprocessing` (MemoryDataSet)...\n",
      "2022-05-30 14:23:23,770 - kedro.pipeline.node - INFO - Running node: filter_and_flatten_doku: filter_doku([ecu_test_doku,params:preprocessing]) -> [ecu_test_doku_flat_only_html]\n"
     ]
    },
    {
     "name": "stderr",
     "output_type": "stream",
     "text": [
      "/home/martin/miniconda3/envs/quaseldoku/lib/python3.8/site-packages/kedro/framework/context/context.py:333: UserWarning: Credentials not found in your Kedro project config.\n",
      "No files found in ['/mnt/Data/Studium/tracetronic/QuaselDoku/conf/base', '/mnt/Data/Studium/tracetronic/QuaselDoku/conf/local'] matching the glob pattern(s): ['credentials*', 'credentials*/**', '**/credentials*']\n",
      "  warn(f\"Credentials not found in your Kedro project config.\\n{str(exc)}\")\n"
     ]
    },
    {
     "name": "stdout",
     "output_type": "stream",
     "text": [
      "filtering out relevant html files from doku ...\n"
     ]
    },
    {
     "name": "stderr",
     "output_type": "stream",
     "text": [
      "100%|█████████████████████████████████████████████████████████████████████████████████████████████████████████████████████████████████████████████| 571/571 [00:00<00:00, 512507.51it/s]"
     ]
    },
    {
     "name": "stdout",
     "output_type": "stream",
     "text": [
      "2022-05-30 14:23:23,775 - kedro.io.data_catalog - INFO - Saving data to `ecu_test_doku_flat_only_html` (PartitionedDataSet)...\n"
     ]
    },
    {
     "name": "stderr",
     "output_type": "stream",
     "text": [
      "\n"
     ]
    },
    {
     "name": "stdout",
     "output_type": "stream",
     "text": [
      "2022-05-30 14:23:23,932 - kedro.runner.sequential_runner - INFO - Completed 1 out of 6 tasks\n",
      "2022-05-30 14:23:23,933 - kedro.io.data_catalog - INFO - Loading data from `params:germanquad_load_script` (MemoryDataSet)...\n",
      "2022-05-30 14:23:23,934 - kedro.pipeline.node - INFO - Running node: download_germanquad: download_germanquad([params:germanquad_load_script]) -> [germanquad_validation]\n",
      "2022-05-30 14:23:23,942 - datasets.builder - WARNING - Reusing dataset german_dpr (/home/martin/.cache/huggingface/datasets/german_dpr/plain_text/1.0.0/c104b2eee2baee81f71e650e48c71a94e6926c31532bc053d1bbefcff0dd7ead)\n"
     ]
    },
    {
     "data": {
      "application/vnd.jupyter.widget-view+json": {
       "model_id": "4d5cba3156b2415a96af8d34ff1b1ed1",
       "version_major": 2,
       "version_minor": 0
      },
      "text/plain": [
       "  0%|          | 0/2 [00:00<?, ?it/s]"
      ]
     },
     "metadata": {},
     "output_type": "display_data"
    },
    {
     "name": "stdout",
     "output_type": "stream",
     "text": [
      "2022-05-30 14:23:24,016 - kedro.io.data_catalog - INFO - Saving data to `germanquad_validation` (CSVDataSet)...\n",
      "2022-05-30 14:23:24,150 - kedro.runner.sequential_runner - INFO - Completed 2 out of 6 tasks\n",
      "2022-05-30 14:23:24,151 - kedro.io.data_catalog - INFO - Loading data from `ecu_test_doku_flat_only_html` (PartitionedDataSet)...\n",
      "2022-05-30 14:23:24,177 - kedro.io.data_catalog - INFO - Loading data from `params:preprocessing` (MemoryDataSet)...\n",
      "2022-05-30 14:23:24,179 - kedro.pipeline.node - INFO - Running node: parse_html_doku_to_csv: parse_html_and_combine([ecu_test_doku_flat_only_html,params:preprocessing]) -> [ecu_test_doku_parsed]\n",
      "parsing html files ...\n"
     ]
    },
    {
     "name": "stderr",
     "output_type": "stream",
     "text": [
      "100%|█████████████████████████████████████████████████████████████████████████████████████████████████████████████████████████████████████████████████| 227/227 [00:03<00:00, 69.93it/s]"
     ]
    },
    {
     "name": "stdout",
     "output_type": "stream",
     "text": [
      "2022-05-30 14:23:27,429 - kedro.io.data_catalog - INFO - Saving data to `ecu_test_doku_parsed` (CSVDataSet)...\n"
     ]
    },
    {
     "name": "stderr",
     "output_type": "stream",
     "text": [
      "\n"
     ]
    },
    {
     "name": "stdout",
     "output_type": "stream",
     "text": [
      "2022-05-30 14:23:27,463 - kedro.runner.sequential_runner - INFO - Completed 3 out of 6 tasks\n",
      "2022-05-30 14:23:27,464 - kedro.io.data_catalog - INFO - Loading data from `germanquad_validation` (CSVDataSet)...\n",
      "2022-05-30 14:23:27,501 - kedro.io.data_catalog - INFO - Loading data from `params:germanquad_search_index` (MemoryDataSet)...\n",
      "2022-05-30 14:23:27,502 - kedro.pipeline.node - INFO - Running node: index_germanquad: create_document_index([germanquad_validation,params:germanquad_search_index]) -> None\n",
      "document index will be strored to: /mnt/Data/Studium/tracetronic/QuaselDoku/data/03_primary/search_indices/germanquad/\n",
      "2022-05-30 14:23:31,531 - kedro.runner.sequential_runner - INFO - Completed 4 out of 6 tasks\n",
      "2022-05-30 14:23:31,532 - kedro.io.data_catalog - INFO - Loading data from `ecu_test_doku_parsed` (CSVDataSet)...\n",
      "2022-05-30 14:23:31,556 - kedro.pipeline.node - INFO - Running node: parse_paragraphs: blocks_to_paragraphs([ecu_test_doku_parsed]) -> [paragraph_elements]\n",
      "2022-05-30 14:23:31,590 - kedro.io.data_catalog - INFO - Saving data to `paragraph_elements` (CSVDataSet)...\n",
      "2022-05-30 14:23:31,608 - kedro.runner.sequential_runner - INFO - Completed 5 out of 6 tasks\n",
      "2022-05-30 14:23:31,609 - kedro.io.data_catalog - INFO - Loading data from `paragraph_elements` (CSVDataSet)...\n",
      "2022-05-30 14:23:31,618 - kedro.io.data_catalog - INFO - Loading data from `params:doku_search_index` (MemoryDataSet)...\n",
      "2022-05-30 14:23:31,619 - kedro.pipeline.node - INFO - Running node: index_ecu_test_doku: create_document_index([paragraph_elements,params:doku_search_index]) -> None\n",
      "document index will be strored to: /mnt/Data/Studium/tracetronic/QuaselDoku/data/03_primary/search_indices/ecu_test/\n",
      "2022-05-30 14:23:33,441 - kedro.runner.sequential_runner - INFO - Completed 6 out of 6 tasks\n",
      "2022-05-30 14:23:33,442 - kedro.runner.sequential_runner - INFO - Pipeline execution completed successfully.\n"
     ]
    },
    {
     "data": {
      "text/plain": [
       "{}"
      ]
     },
     "execution_count": 1,
     "metadata": {},
     "output_type": "execute_result"
    }
   ],
   "source": [
    "session.run(pipeline_name='dp')"
   ]
  },
  {
   "cell_type": "markdown",
   "id": "6f70b2dd",
   "metadata": {},
   "source": [
    "### Anfrage auf dem Suchindex"
   ]
  },
  {
   "cell_type": "markdown",
   "id": "882d8d60",
   "metadata": {},
   "source": [
    "Um eine Suchanfrage auf einem Suchindex zu erstellen kann dann einfach die Funktion 'keyword_search.query' verwendet werden. Neben der Anfrage (Query) muss lediglich der Pfad zum Suchindex angegeben werden. Über den Parameter 'return_context' kann angegeben werden ob nur der Hash der gefundenen Kontexte oder der Kontext selbst zurückgegeben werden soll."
   ]
  },
  {
   "cell_type": "code",
   "execution_count": 1,
   "id": "3f58a75f",
   "metadata": {},
   "outputs": [],
   "source": [
    "from quaseldoku.qa_methods import keyword_search"
   ]
  },
  {
   "cell_type": "code",
   "execution_count": 2,
   "id": "b27ea076",
   "metadata": {},
   "outputs": [],
   "source": [
    "docu_search_index = '../data/03_primary/search_indices/ecu_test/' "
   ]
  },
  {
   "cell_type": "code",
   "execution_count": 6,
   "id": "a302333a",
   "metadata": {},
   "outputs": [],
   "source": [
    "res = keyword_search.query(\"Was ist ein Traceschritt?\", docu_search_index, return_context=True)"
   ]
  },
  {
   "cell_type": "code",
   "execution_count": 7,
   "id": "d4ef0212",
   "metadata": {},
   "outputs": [
    {
     "data": {
      "text/plain": [
       "dict_keys(['hits', 'query', 'parsed_query'])"
      ]
     },
     "execution_count": 7,
     "metadata": {},
     "output_type": "execute_result"
    }
   ],
   "source": [
    "res.keys()"
   ]
  },
  {
   "cell_type": "code",
   "execution_count": 12,
   "id": "a12f3041",
   "metadata": {},
   "outputs": [
    {
     "name": "stdout",
     "output_type": "stream",
     "text": [
      "question was: Was ist ein Traceschritt?\n",
      "question was parsed at: traceschritt\n",
      "search yielded 33 results\n",
      "best result is:\n",
      "Der Testschritt Traceschrittergebnis übernehmen ermöglicht es, das Reportergebnis eines beliebigen T ...\n",
      "with hash: swBoqU/Aj0KJ1qKrXNgXrA==\n"
     ]
    }
   ],
   "source": [
    "print('question was:', res['query'])\n",
    "print('question was parsed at:', res['parsed_query'])\n",
    "print(f\"search yielded {len(res['hits'])} results\")\n",
    "print('best result is:')\n",
    "print(res['hits'][0][1][:100], '...')\n",
    "print('with hash:', res['hits'][0][0])"
   ]
  }
 ],
 "metadata": {
  "kernelspec": {
   "display_name": "Kedro (quaseldoku)",
   "language": "python",
   "name": "kedro_quaseldoku"
  },
  "language_info": {
   "codemirror_mode": {
    "name": "ipython",
    "version": 3
   },
   "file_extension": ".py",
   "mimetype": "text/x-python",
   "name": "python",
   "nbconvert_exporter": "python",
   "pygments_lexer": "ipython3",
   "version": "3.8.2"
  }
 },
 "nbformat": 4,
 "nbformat_minor": 5
}
