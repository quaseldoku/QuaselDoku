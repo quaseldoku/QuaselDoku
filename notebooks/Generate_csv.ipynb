{
 "cells": [
  {
   "cell_type": "markdown",
   "id": "1f265b85",
   "metadata": {},
   "source": [
    "# Generieren neuer CSV-Dateien zur praktischen Anwendung\n",
    "\n",
    "- der erste Schritt war das Auslesen und Filtern der Daten aus den html-Files\n",
    "    - das so entstandene CSV-File enthält nun einzelne Block-Elemente (p,ul,table) zu verschiedenen Paragraphen\n",
    "- dieses CSV war nützlich zum Erstellen von testweisen Frage-Antwort Paaren\n",
    "- für den  Input in unser Q&A System eignet es sich aber mehr die Daten Paragraphen oder Dokumentenweise zu sammeln \n",
    "    - daher werden in diesem Notebook die Block-Elemente zunächst zu Parapgraphen zusammengefasst."
   ]
  },
  {
   "cell_type": "code",
   "execution_count": null,
   "id": "b8624bda",
   "metadata": {},
   "outputs": [],
   "source": [
    "import pandas as pd"
   ]
  },
  {
   "cell_type": "markdown",
   "id": "478db4b1",
   "metadata": {},
   "source": [
    "## Laden der geparsten CSV als Grundlage"
   ]
  },
  {
   "cell_type": "code",
   "execution_count": null,
   "id": "466a7d54",
   "metadata": {},
   "outputs": [],
   "source": [
    "block_elements = catalog.load(\"ecu_test_doku_parsed\")"
   ]
  },
  {
   "cell_type": "markdown",
   "id": "12e0c627",
   "metadata": {},
   "source": [
    "- Elemente eines Paragraphen besitzen den gleichen Hash-Wert, Title und File "
   ]
  },
  {
   "cell_type": "code",
   "execution_count": null,
   "id": "e423978f",
   "metadata": {},
   "outputs": [],
   "source": [
    "paragraphs = block_elements.groupby(['Hash','Title','Filename'],sort=False)['Body'].apply(' '.join).reset_index()\n",
    "paragraphs.head()"
   ]
  },
  {
   "cell_type": "code",
   "execution_count": null,
   "id": "9d854ffd",
   "metadata": {},
   "outputs": [],
   "source": [
    "real_df.to_csv('../data/04_feature/paragraphs.csv', index=False)\n"
   ]
  },
  {
   "cell_type": "markdown",
   "id": "323f5a2b",
   "metadata": {},
   "source": [
    "## Generieren eines Test-Datensatzes\n",
    "\n",
    "Ein weiterer wichtiger Punkt für unsere Arbeit, ist das Erstellen eines Test-Fragen-Antwort Satzes.\n",
    "Dafür wurden representativ 100 Frage-Antwort Paare generiert. \n",
    "Die Paare referenzieren aktuell nur ein Block-Element, es wäre aber praktischer wenn diese auf einen ganzen Paragraph zeigen würden.\n",
    "Daher soll im folgenden eine Verknüpfung zwischen Paragraphen und Frage-Antwort Paaren erzeugt werden. Das kann über den eindeutigen Hash eines Paragraphen geschehen."
   ]
  },
  {
   "cell_type": "code",
   "execution_count": null,
   "id": "66b80c3a",
   "metadata": {},
   "outputs": [],
   "source": [
    "paragraph = catalog.load(\"pargraph_elements\")\n",
    "paragraph.head()"
   ]
  },
  {
   "cell_type": "code",
   "execution_count": null,
   "id": "01beb837",
   "metadata": {},
   "outputs": [],
   "source": [
    "fragen_catalog = pd.read_csv(\"../data/03_primary/test_data.csv\")\n",
    "fragen_catalog.head()"
   ]
  },
  {
   "cell_type": "code",
   "execution_count": null,
   "id": "5c548519",
   "metadata": {},
   "outputs": [],
   "source": [
    "merged_liste = []\n",
    "for index, row in fragen_catalog.iterrows():\n",
    "    #print(row[\"answers\"])\n",
    "    #print(row[\"question\"])\n",
    "    df = paragraph[paragraph['Body'].str.contains(row[\"answers\"],regex=False)]\n",
    "    merged_liste.append([df['Hash'].to_string(index=False),row[\"question\"],row[\"answers\"]])\n",
    "    "
   ]
  },
  {
   "cell_type": "code",
   "execution_count": null,
   "id": "e8d65a65",
   "metadata": {},
   "outputs": [],
   "source": [
    "merged_liste[:5]"
   ]
  },
  {
   "cell_type": "code",
   "execution_count": null,
   "id": "1ce8489e",
   "metadata": {},
   "outputs": [],
   "source": [
    "df = pd.DataFrame(merged_liste, columns= [\"Hash\",\"Question\",\"Answer\"])\n",
    "df.head()"
   ]
  },
  {
   "cell_type": "code",
   "execution_count": null,
   "id": "8f1a9607",
   "metadata": {},
   "outputs": [],
   "source": [
    "df.to_csv('../data/04_feature/hash_quest_answ.csv', index=False)"
   ]
  },
  {
   "cell_type": "code",
   "execution_count": null,
   "id": "5fe75f62",
   "metadata": {},
   "outputs": [],
   "source": []
  }
 ],
 "metadata": {
  "kernelspec": {
   "display_name": "Kedro (quaseldoku)",
   "language": "python",
   "name": "kedro_quaseldoku"
  },
  "language_info": {
   "codemirror_mode": {
    "name": "ipython",
    "version": 3
   },
   "file_extension": ".py",
   "mimetype": "text/x-python",
   "name": "python",
   "nbconvert_exporter": "python",
   "pygments_lexer": "ipython3",
   "version": "3.10.4"
  }
 },
 "nbformat": 4,
 "nbformat_minor": 5
}
