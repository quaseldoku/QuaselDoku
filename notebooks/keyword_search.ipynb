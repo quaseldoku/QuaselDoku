{
 "cells": [
  {
   "cell_type": "code",
   "execution_count": 1,
   "id": "19a3bc9f",
   "metadata": {},
   "outputs": [],
   "source": [
    "import os\n",
    "import sys\n",
    "\n",
    "from whoosh.index import create_in\n",
    "from whoosh.fields import Schema, TEXT, ID\n",
    "from whoosh.qparser import QueryParser\n",
    "from whoosh import scoring\n",
    "from whoosh.index import open_dir\n",
    "# from whoosh.lang.porter import stem\n",
    "import snowballstemmer\n",
    "\n",
    "import pandas as pd"
   ]
  },
  {
   "cell_type": "markdown",
   "id": "db03d6d6",
   "metadata": {},
   "source": [
    "Die Stichwortsuche des Sphinx Framework soll als Baseline für die getesteten Sprachmodelle dienen. Diese ist jedoch so nicht leicht portiertbar, da sie in Javascript verfasst und auf Dependencies wie JQuery aufbaut. Weitaus einfacher ist die Implementierung einer ähnlichen Search-Enginge mit **whoosh**, die aus vier Elementen besteht:\n",
    "\n",
    "- Stemmer (Reduktion der Wörter in Dokumenten und Anfragen auf Wortstamm)\n",
    "- Herausfiltern von Stoppwörtern aus Suchanfragen\n",
    "- Suche nach Stichwörtern in Dokumenten\n",
    "- Ranking von Dokumenten nach Relevanz nach erfolgreichem Auffinden von Stichwörtern"
   ]
  },
  {
   "cell_type": "markdown",
   "id": "bdd978ca",
   "metadata": {},
   "source": [
    "Für den Stemmer wird **snowball** genutzt (wie auch in der Sphinx Search Engine)\n",
    "\n",
    "Überprüfen, ob Stemming auch auf deutschen Wörtern funktioniert"
   ]
  },
  {
   "cell_type": "code",
   "execution_count": 2,
   "id": "e51680f1",
   "metadata": {},
   "outputs": [
    {
     "name": "stdout",
     "output_type": "stream",
     "text": [
      "['Viel', 'Schritt']\n"
     ]
    }
   ],
   "source": [
    "stemmer = snowballstemmer.stemmer('german')\n",
    "print(stemmer.stemWords(\"Viele Schritte\".split()))"
   ]
  },
  {
   "cell_type": "markdown",
   "id": "9e138895",
   "metadata": {},
   "source": [
    "Diese Liste an deutschen Stopp-Wörtern ist der Doku selbst entnommen."
   ]
  },
  {
   "cell_type": "code",
   "execution_count": 3,
   "id": "3a0a2076",
   "metadata": {},
   "outputs": [],
   "source": [
    "stopwords = [\"aber\",\"alle\",\"allem\",\"allen\",\"aller\",\"alles\",\"als\",\"also\",\"am\",\"an\",\"ander\",\"andere\",\"anderem\",\"anderen\",\"anderer\",\"anderes\",\"anderm\",\"andern\",\"anderr\",\"anders\",\"auch\",\"auf\",\"aus\",\"bei\",\"bin\",\"bis\",\"bist\",\"da\",\"damit\",\"dann\",\"das\",\"dasselbe\",\"dazu\",\"da\\u00df\",\"dein\",\"deine\",\"deinem\",\"deinen\",\"deiner\",\"deines\",\"dem\",\"demselben\",\"den\",\"denn\",\"denselben\",\"der\",\"derer\",\"derselbe\",\"derselben\",\"des\",\"desselben\",\"dessen\",\"dich\",\"die\",\"dies\",\"diese\",\"dieselbe\",\"dieselben\",\"diesem\",\"diesen\",\"dieser\",\"dieses\",\"dir\",\"doch\",\"dort\",\"du\",\"durch\",\"ein\",\"eine\",\"einem\",\"einen\",\"einer\",\"eines\",\"einig\",\"einige\",\"einigem\",\"einigen\",\"einiger\",\"einiges\",\"einmal\",\"er\",\"es\",\"etwas\",\"euch\",\"euer\",\"eure\",\"eurem\",\"euren\",\"eurer\",\"eures\",\"f\\u00fcr\",\"gegen\",\"gewesen\",\"hab\",\"habe\",\"haben\",\"hat\",\"hatte\",\"hatten\",\"hier\",\"hin\",\"hinter\",\"ich\",\"ihm\",\"ihn\",\"ihnen\",\"ihr\",\"ihre\",\"ihrem\",\"ihren\",\"ihrer\",\"ihres\",\"im\",\"in\",\"indem\",\"ins\",\"ist\",\"jede\",\"jedem\",\"jeden\",\"jeder\",\"jedes\",\"jene\",\"jenem\",\"jenen\",\"jener\",\"jenes\",\"jetzt\",\"kann\",\"kein\",\"keine\",\"keinem\",\"keinen\",\"keiner\",\"keines\",\"k\\u00f6nnen\",\"k\\u00f6nnte\",\"machen\",\"man\",\"manche\",\"manchem\",\"manchen\",\"mancher\",\"manches\",\"mein\",\"meine\",\"meinem\",\"meinen\",\"meiner\",\"meines\",\"mich\",\"mir\",\"mit\",\"muss\",\"musste\",\"nach\",\"nicht\",\"nichts\",\"noch\",\"nun\",\"nur\",\"ob\",\"oder\",\"ohne\",\"sehr\",\"sein\",\"seine\",\"seinem\",\"seinen\",\"seiner\",\"seines\",\"selbst\",\"sich\",\"sie\",\"sind\",\"so\",\"solche\",\"solchem\",\"solchen\",\"solcher\",\"solches\",\"soll\",\"sollte\",\"sondern\",\"sonst\",\"um\",\"und\",\"uns\",\"unse\",\"unsem\",\"unsen\",\"unser\",\"unses\",\"unter\",\"viel\",\"vom\",\"von\",\"vor\",\"war\",\"waren\",\"warst\",\"was\",\"weg\",\"weil\",\"weiter\",\"welche\",\"welchem\",\"welchen\",\"welcher\",\"welches\",\"wenn\",\"werde\",\"werden\",\"wie\",\"wieder\",\"will\",\"wir\",\"wird\",\"wirst\",\"wo\",\"wollen\",\"wollte\",\"w\\u00e4hrend\",\"w\\u00fcrde\",\"w\\u00fcrden\",\"zu\",\"zum\",\"zur\",\"zwar\",\"zwischen\",\"\\u00fcber\"];"
   ]
  },
  {
   "cell_type": "code",
   "execution_count": 4,
   "id": "96ea3615",
   "metadata": {},
   "outputs": [
    {
     "data": {
      "text/plain": [
       "231"
      ]
     },
     "execution_count": 4,
     "metadata": {},
     "output_type": "execute_result"
    }
   ],
   "source": [
    "len(stopwords)"
   ]
  },
  {
   "cell_type": "markdown",
   "id": "87476e24",
   "metadata": {},
   "source": [
    "Anfragen sind *case sensitive*, also muss alles *to lower* konvertiert werden."
   ]
  },
  {
   "cell_type": "code",
   "execution_count": 5,
   "id": "11508cee",
   "metadata": {},
   "outputs": [
    {
     "data": {
      "text/plain": [
       "True"
      ]
     },
     "execution_count": 5,
     "metadata": {},
     "output_type": "execute_result"
    }
   ],
   "source": [
    "\"was\" in stopwords"
   ]
  },
  {
   "cell_type": "code",
   "execution_count": 6,
   "id": "bcc396ce",
   "metadata": {},
   "outputs": [
    {
     "data": {
      "text/plain": [
       "False"
      ]
     },
     "execution_count": 6,
     "metadata": {},
     "output_type": "execute_result"
    }
   ],
   "source": [
    "\"Was\" in stopwords"
   ]
  },
  {
   "cell_type": "code",
   "execution_count": 7,
   "id": "708ac9f5",
   "metadata": {},
   "outputs": [],
   "source": [
    "def prepare_string(string, stopwords):\n",
    "   \n",
    "    # replace question mark\n",
    "    query_str = string.replace('?', '')\n",
    "    \n",
    "    # stem words\n",
    "    query_tokens = stemmer.stemWords(query_str.split())\n",
    "    \n",
    "    # remove stopwords and convert to lower\n",
    "    query_filter = [token.lower() for token in query_tokens if token.lower() not in stopwords]\n",
    "\n",
    "    # re-assemble string\n",
    "    return ' '.join(e for e in query_filter)    "
   ]
  },
  {
   "cell_type": "markdown",
   "id": "8ff4b019",
   "metadata": {},
   "source": [
    "Basis für die Suche ist das Bauen eindes Indexes aus allen Dokumenten"
   ]
  },
  {
   "cell_type": "code",
   "execution_count": 27,
   "id": "f7b4724a",
   "metadata": {},
   "outputs": [],
   "source": [
    "def createSearchableData(documents, indexdir_path, ending='.html'):   \n",
    " \n",
    "    '''\n",
    "    Schema definition: title(name of file), path(as ID), content(indexed\n",
    "    but not stored),textdata (stored text content)\n",
    "    '''\n",
    "    \n",
    "    # create Schema for indexing documents\n",
    "    schema = Schema(\n",
    "        title=TEXT(stored=True),\n",
    "        path=ID(stored=True), \n",
    "        content=TEXT,\n",
    "        textdata=TEXT(stored=True)\n",
    "    )\n",
    "    \n",
    "    # create dir for storing indexing results\n",
    "    if not os.path.exists(indexdir_path):\n",
    "        os.mkdir(indexdir_path)\n",
    " \n",
    "    # Creating a index writer to add document as per schema\n",
    "    ix = create_in(\"indexdir\", schema)\n",
    "    writer = ix.writer()\n",
    " \n",
    "    # add every document to index\n",
    "    for index, row in documents.iterrows():\n",
    "\n",
    "        path = row['filename']\n",
    "        title = row['title']\n",
    "        text = prepare_string(row['body'], stopwords)\n",
    "        # print(f'title: {title}, path: {path}')\n",
    "        writer.add_document(title=title, path=path, content=text, textdata=text)\n",
    "    \n",
    "    writer.commit()"
   ]
  },
  {
   "cell_type": "markdown",
   "id": "e9f1689f",
   "metadata": {},
   "source": [
    "### Erstellen des Suchindex aus Dokumenten"
   ]
  },
  {
   "cell_type": "code",
   "execution_count": 12,
   "id": "7be71dbb",
   "metadata": {},
   "outputs": [
    {
     "name": "stdout",
     "output_type": "stream",
     "text": [
      "2022-05-10 11:35:43,392 - kedro.io.data_catalog - INFO - Loading data from `ecu_test_doku_parsed` (CSVDataSet)...\n"
     ]
    }
   ],
   "source": [
    "documents = catalog.load(\"ecu_test_doku_parsed\")"
   ]
  },
  {
   "cell_type": "code",
   "execution_count": 13,
   "id": "23a23deb",
   "metadata": {},
   "outputs": [
    {
     "data": {
      "text/html": [
       "<div>\n",
       "<style scoped>\n",
       "    .dataframe tbody tr th:only-of-type {\n",
       "        vertical-align: middle;\n",
       "    }\n",
       "\n",
       "    .dataframe tbody tr th {\n",
       "        vertical-align: top;\n",
       "    }\n",
       "\n",
       "    .dataframe thead th {\n",
       "        text-align: right;\n",
       "    }\n",
       "</style>\n",
       "<table border=\"1\" class=\"dataframe\">\n",
       "  <thead>\n",
       "    <tr style=\"text-align: right;\">\n",
       "      <th></th>\n",
       "      <th>filename</th>\n",
       "      <th>title</th>\n",
       "      <th>sub_topics</th>\n",
       "      <th>body</th>\n",
       "      <th>links</th>\n",
       "      <th>imgs</th>\n",
       "    </tr>\n",
       "  </thead>\n",
       "  <tbody>\n",
       "    <tr>\n",
       "      <th>0</th>\n",
       "      <td>Bedienung_EasyInsert.html</td>\n",
       "      <td>EasyInsert</td>\n",
       "      <td>['Tastenkombinationen\\uf0c1']</td>\n",
       "      <td>EasyInsert — ECU-TEST 2022.2 Anwenderhandbuch ...</td>\n",
       "      <td>['../index.html', '../Getting_Started/GettingS...</td>\n",
       "      <td>['../_static/logo.png', '../_images/EasyInsert...</td>\n",
       "    </tr>\n",
       "  </tbody>\n",
       "</table>\n",
       "</div>"
      ],
      "text/plain": [
       "                    filename        title                     sub_topics  \\\n",
       "0  Bedienung_EasyInsert.html  EasyInsert  ['Tastenkombinationen\\uf0c1']   \n",
       "\n",
       "                                                body  \\\n",
       "0  EasyInsert — ECU-TEST 2022.2 Anwenderhandbuch ...   \n",
       "\n",
       "                                               links  \\\n",
       "0  ['../index.html', '../Getting_Started/GettingS...   \n",
       "\n",
       "                                                imgs  \n",
       "0  ['../_static/logo.png', '../_images/EasyInsert...  "
      ]
     },
     "execution_count": 13,
     "metadata": {},
     "output_type": "execute_result"
    }
   ],
   "source": [
    "documents.head(1)"
   ]
  },
  {
   "cell_type": "code",
   "execution_count": 28,
   "id": "82b24e0d",
   "metadata": {},
   "outputs": [],
   "source": [
    "indexdir = \"../data/03_primary/keyword_search/\"\n",
    "createSearchableData(documents, indexdir)"
   ]
  },
  {
   "cell_type": "markdown",
   "id": "9458690e",
   "metadata": {},
   "source": [
    "### Testen der Suchfunktion und Ausgabe gefundener Resultate in DataFrame"
   ]
  },
  {
   "cell_type": "code",
   "execution_count": 23,
   "id": "997c2e73",
   "metadata": {},
   "outputs": [],
   "source": [
    "def query(query_str, topN_results=5):\n",
    "    \n",
    "    result_rows = []   \n",
    "\n",
    "    query_str = prepare_string(query_str, stopwords)\n",
    "    print(f'the query is: \"{query_str}\"')\n",
    "\n",
    "    ix = open_dir(\"indexdir\") \n",
    "    with ix.searcher(weighting=scoring.Frequency) as searcher:\n",
    "        query = QueryParser(\"content\", ix.schema).parse(query_str)\n",
    "\n",
    "        results = searcher.search(query)\n",
    "\n",
    "        if len(results) > 0:\n",
    "            print(f'\\nsearch yielded {len(results)} results in total')\n",
    "            num_res = topN_results if topN_results <= len(results) else len(results)\n",
    "            for i in range(num_res):\n",
    "                result_rows.append([results[i].score, results[i]['title'], results[i]['path']])\n",
    "        else:\n",
    "            print('search yielded no hits')\n",
    "\n",
    "    # convert results to dataframe and display\n",
    "    df = pd.DataFrame(result_rows)\n",
    "    if len(results) > 0:\n",
    "        df.columns = ['Score', 'Title', 'Path']\n",
    "    \n",
    "    return df"
   ]
  },
  {
   "cell_type": "markdown",
   "id": "cddd1bdc",
   "metadata": {},
   "source": [
    "### Testquery 1"
   ]
  },
  {
   "cell_type": "code",
   "execution_count": 29,
   "id": "e1cc3844",
   "metadata": {},
   "outputs": [
    {
     "name": "stdout",
     "output_type": "stream",
     "text": [
      "the query is: \"traceschritt\"\n",
      "\n",
      "search yielded 34 results in total\n"
     ]
    },
    {
     "data": {
      "text/html": [
       "<div>\n",
       "<style scoped>\n",
       "    .dataframe tbody tr th:only-of-type {\n",
       "        vertical-align: middle;\n",
       "    }\n",
       "\n",
       "    .dataframe tbody tr th {\n",
       "        vertical-align: top;\n",
       "    }\n",
       "\n",
       "    .dataframe thead th {\n",
       "        text-align: right;\n",
       "    }\n",
       "</style>\n",
       "<table border=\"1\" class=\"dataframe\">\n",
       "  <thead>\n",
       "    <tr style=\"text-align: right;\">\n",
       "      <th></th>\n",
       "      <th>Score</th>\n",
       "      <th>Title</th>\n",
       "      <th>Path</th>\n",
       "    </tr>\n",
       "  </thead>\n",
       "  <tbody>\n",
       "    <tr>\n",
       "      <th>0</th>\n",
       "      <td>25.0</td>\n",
       "      <td>Generische Signale</td>\n",
       "      <td>TRACE-CHECK_Handbuch_Traceanalyse-Entwurf_Gene...</td>\n",
       "    </tr>\n",
       "    <tr>\n",
       "      <th>1</th>\n",
       "      <td>21.0</td>\n",
       "      <td>Traceschritte verwenden</td>\n",
       "      <td>TRACE-CHECK_Handbuch_Traceanalyse-Entwurf_Trac...</td>\n",
       "    </tr>\n",
       "    <tr>\n",
       "      <th>2</th>\n",
       "      <td>15.0</td>\n",
       "      <td>Signalverarbeitung mit Traceschritten</td>\n",
       "      <td>TRACE-CHECK_Handbuch_Traceanalyse-Entwurf_Sign...</td>\n",
       "    </tr>\n",
       "    <tr>\n",
       "      <th>3</th>\n",
       "      <td>14.0</td>\n",
       "      <td>Analysen mit Triggern und Berechnungen</td>\n",
       "      <td>TRACE-CHECK_Handbuch_Traceanalyse-Entwurf_Bere...</td>\n",
       "    </tr>\n",
       "    <tr>\n",
       "      <th>4</th>\n",
       "      <td>12.0</td>\n",
       "      <td>Assertion</td>\n",
       "      <td>TRACE-CHECK_Handbuch_Traceanalyse-Entwurf_Asse...</td>\n",
       "    </tr>\n",
       "  </tbody>\n",
       "</table>\n",
       "</div>"
      ],
      "text/plain": [
       "   Score                                    Title  \\\n",
       "0   25.0                      Generische Signale   \n",
       "1   21.0                 Traceschritte verwenden   \n",
       "2   15.0   Signalverarbeitung mit Traceschritten   \n",
       "3   14.0  Analysen mit Triggern und Berechnungen   \n",
       "4   12.0                               Assertion   \n",
       "\n",
       "                                                Path  \n",
       "0  TRACE-CHECK_Handbuch_Traceanalyse-Entwurf_Gene...  \n",
       "1  TRACE-CHECK_Handbuch_Traceanalyse-Entwurf_Trac...  \n",
       "2  TRACE-CHECK_Handbuch_Traceanalyse-Entwurf_Sign...  \n",
       "3  TRACE-CHECK_Handbuch_Traceanalyse-Entwurf_Bere...  \n",
       "4  TRACE-CHECK_Handbuch_Traceanalyse-Entwurf_Asse...  "
      ]
     },
     "execution_count": 29,
     "metadata": {},
     "output_type": "execute_result"
    }
   ],
   "source": [
    "query(\"Was ist ein Traceschritt?\")"
   ]
  },
  {
   "cell_type": "markdown",
   "id": "a60ba827",
   "metadata": {},
   "source": [
    "### Testquery 2"
   ]
  },
  {
   "cell_type": "code",
   "execution_count": 33,
   "id": "39ee34e1",
   "metadata": {},
   "outputs": [
    {
     "name": "stdout",
     "output_type": "stream",
     "text": [
      "the query is: \"erstellt traceschritt analys\"\n",
      "\n",
      "search yielded 15 results in total\n"
     ]
    },
    {
     "data": {
      "text/html": [
       "<div>\n",
       "<style scoped>\n",
       "    .dataframe tbody tr th:only-of-type {\n",
       "        vertical-align: middle;\n",
       "    }\n",
       "\n",
       "    .dataframe tbody tr th {\n",
       "        vertical-align: top;\n",
       "    }\n",
       "\n",
       "    .dataframe thead th {\n",
       "        text-align: right;\n",
       "    }\n",
       "</style>\n",
       "<table border=\"1\" class=\"dataframe\">\n",
       "  <thead>\n",
       "    <tr style=\"text-align: right;\">\n",
       "      <th></th>\n",
       "      <th>Score</th>\n",
       "      <th>Title</th>\n",
       "      <th>Path</th>\n",
       "    </tr>\n",
       "  </thead>\n",
       "  <tbody>\n",
       "    <tr>\n",
       "      <th>0</th>\n",
       "      <td>31.0</td>\n",
       "      <td>Generische Signale</td>\n",
       "      <td>TRACE-CHECK_Handbuch_Traceanalyse-Entwurf_Gene...</td>\n",
       "    </tr>\n",
       "    <tr>\n",
       "      <th>1</th>\n",
       "      <td>22.0</td>\n",
       "      <td>Analysen mit Triggern und Berechnungen</td>\n",
       "      <td>TRACE-CHECK_Handbuch_Traceanalyse-Entwurf_Bere...</td>\n",
       "    </tr>\n",
       "    <tr>\n",
       "      <th>2</th>\n",
       "      <td>18.0</td>\n",
       "      <td>Konzepte und Vorgehen</td>\n",
       "      <td>TRACE-CHECK_Handbuch_Traceanalyse-Entwurf_Konz...</td>\n",
       "    </tr>\n",
       "    <tr>\n",
       "      <th>3</th>\n",
       "      <td>13.0</td>\n",
       "      <td>Diagrammerstellung (Plot)</td>\n",
       "      <td>TRACE-CHECK_Handbuch_Traceanalyse-Entwurf_Diag...</td>\n",
       "    </tr>\n",
       "    <tr>\n",
       "      <th>4</th>\n",
       "      <td>12.0</td>\n",
       "      <td>Analyseablaufsteuerung</td>\n",
       "      <td>TRACE-CHECK_Handbuch_Traceanalyse-Entwurf_Abla...</td>\n",
       "    </tr>\n",
       "  </tbody>\n",
       "</table>\n",
       "</div>"
      ],
      "text/plain": [
       "   Score                                    Title  \\\n",
       "0   31.0                      Generische Signale   \n",
       "1   22.0  Analysen mit Triggern und Berechnungen   \n",
       "2   18.0                   Konzepte und Vorgehen   \n",
       "3   13.0               Diagrammerstellung (Plot)   \n",
       "4   12.0                  Analyseablaufsteuerung   \n",
       "\n",
       "                                                Path  \n",
       "0  TRACE-CHECK_Handbuch_Traceanalyse-Entwurf_Gene...  \n",
       "1  TRACE-CHECK_Handbuch_Traceanalyse-Entwurf_Bere...  \n",
       "2  TRACE-CHECK_Handbuch_Traceanalyse-Entwurf_Konz...  \n",
       "3  TRACE-CHECK_Handbuch_Traceanalyse-Entwurf_Diag...  \n",
       "4  TRACE-CHECK_Handbuch_Traceanalyse-Entwurf_Abla...  "
      ]
     },
     "execution_count": 33,
     "metadata": {},
     "output_type": "execute_result"
    }
   ],
   "source": [
    "query(\"Wie erstellt man eine Traceschritt Analyse?\")"
   ]
  },
  {
   "cell_type": "markdown",
   "id": "07dd775f",
   "metadata": {},
   "source": [
    "### Testquery 3"
   ]
  },
  {
   "cell_type": "code",
   "execution_count": 31,
   "id": "5320ecb8",
   "metadata": {},
   "outputs": [
    {
     "name": "stdout",
     "output_type": "stream",
     "text": [
      "the query is: \"testfall erstellt\"\n",
      "\n",
      "search yielded 57 results in total\n"
     ]
    },
    {
     "data": {
      "text/html": [
       "<div>\n",
       "<style scoped>\n",
       "    .dataframe tbody tr th:only-of-type {\n",
       "        vertical-align: middle;\n",
       "    }\n",
       "\n",
       "    .dataframe tbody tr th {\n",
       "        vertical-align: top;\n",
       "    }\n",
       "\n",
       "    .dataframe thead th {\n",
       "        text-align: right;\n",
       "    }\n",
       "</style>\n",
       "<table border=\"1\" class=\"dataframe\">\n",
       "  <thead>\n",
       "    <tr style=\"text-align: right;\">\n",
       "      <th></th>\n",
       "      <th>Score</th>\n",
       "      <th>Title</th>\n",
       "      <th>Path</th>\n",
       "    </tr>\n",
       "  </thead>\n",
       "  <tbody>\n",
       "    <tr>\n",
       "      <th>0</th>\n",
       "      <td>32.0</td>\n",
       "      <td>Testausführung</td>\n",
       "      <td>Testausfuehrung_Testausfuehrung.html</td>\n",
       "    </tr>\n",
       "    <tr>\n",
       "      <th>1</th>\n",
       "      <td>21.0</td>\n",
       "      <td>Erster Start</td>\n",
       "      <td>Getting_Started_GettingStarted.html</td>\n",
       "    </tr>\n",
       "    <tr>\n",
       "      <th>2</th>\n",
       "      <td>15.0</td>\n",
       "      <td>Schnittstelle zur Traceanalyse</td>\n",
       "      <td>Testausfuehrung_Analyse-Jobs.html</td>\n",
       "    </tr>\n",
       "    <tr>\n",
       "      <th>3</th>\n",
       "      <td>14.0</td>\n",
       "      <td>Projekt-Editor</td>\n",
       "      <td>Hauptprogramm_Editor_Projekteditor.html</td>\n",
       "    </tr>\n",
       "    <tr>\n",
       "      <th>4</th>\n",
       "      <td>13.0</td>\n",
       "      <td>Wie werden Tests erstellt?</td>\n",
       "      <td>Einfuehrung_Testen.html</td>\n",
       "    </tr>\n",
       "  </tbody>\n",
       "</table>\n",
       "</div>"
      ],
      "text/plain": [
       "   Score                            Title  \\\n",
       "0   32.0                  Testausführung   \n",
       "1   21.0                    Erster Start   \n",
       "2   15.0  Schnittstelle zur Traceanalyse   \n",
       "3   14.0                  Projekt-Editor   \n",
       "4   13.0      Wie werden Tests erstellt?   \n",
       "\n",
       "                                      Path  \n",
       "0     Testausfuehrung_Testausfuehrung.html  \n",
       "1      Getting_Started_GettingStarted.html  \n",
       "2        Testausfuehrung_Analyse-Jobs.html  \n",
       "3  Hauptprogramm_Editor_Projekteditor.html  \n",
       "4                  Einfuehrung_Testen.html  "
      ]
     },
     "execution_count": 31,
     "metadata": {},
     "output_type": "execute_result"
    }
   ],
   "source": [
    "query(\"Wie wird ein Testfall erstellt?\")"
   ]
  }
 ],
 "metadata": {
  "kernelspec": {
   "display_name": "Kedro (quaseldoku)",
   "language": "python",
   "name": "kedro_quaseldoku"
  },
  "language_info": {
   "codemirror_mode": {
    "name": "ipython",
    "version": 3
   },
   "file_extension": ".py",
   "mimetype": "text/x-python",
   "name": "python",
   "nbconvert_exporter": "python",
   "pygments_lexer": "ipython3",
   "version": "3.8.2"
  }
 },
 "nbformat": 4,
 "nbformat_minor": 5
}
