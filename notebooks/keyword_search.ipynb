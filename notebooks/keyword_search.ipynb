{
 "cells": [
  {
   "cell_type": "code",
   "execution_count": 1,
   "id": "19a3bc9f",
   "metadata": {},
   "outputs": [],
   "source": [
    "import os\n",
    "import sys\n",
    "\n",
    "from whoosh.index import create_in\n",
    "from whoosh.fields import Schema, TEXT, ID\n",
    "from whoosh.qparser import QueryParser, OrGroup\n",
    "from whoosh import scoring\n",
    "from whoosh.index import open_dir\n",
    "# from whoosh.lang.porter import stem\n",
    "import snowballstemmer\n",
    "\n",
    "import pandas as pd"
   ]
  },
  {
   "cell_type": "markdown",
   "id": "db03d6d6",
   "metadata": {},
   "source": [
    "Die Stichwortsuche des Sphinx Framework soll als Baseline für die getesteten Sprachmodelle dienen. Diese ist jedoch so nicht leicht portiertbar, da sie in Javascript verfasst und auf Dependencies wie JQuery aufbaut. Weitaus einfacher ist die Implementierung einer ähnlichen Search-Enginge mit **whoosh**, die aus vier Elementen besteht:\n",
    "\n",
    "- Stemmer (Reduktion der Wörter in Dokumenten und Anfragen auf Wortstamm)\n",
    "- Herausfiltern von Stoppwörtern aus Suchanfragen\n",
    "- Suche nach Stichwörtern in Dokumenten\n",
    "- Ranking von Dokumenten nach Relevanz nach erfolgreichem Auffinden von Stichwörtern"
   ]
  },
  {
   "cell_type": "markdown",
   "id": "bdd978ca",
   "metadata": {},
   "source": [
    "Für den Stemmer wird **snowball** genutzt (wie auch in der Sphinx Search Engine)\n",
    "\n",
    "Überprüfen, ob Stemming auch auf deutschen Wörtern funktioniert"
   ]
  },
  {
   "cell_type": "code",
   "execution_count": 2,
   "id": "e51680f1",
   "metadata": {},
   "outputs": [
    {
     "name": "stdout",
     "output_type": "stream",
     "text": [
      "['Viel', 'Schritt']\n"
     ]
    }
   ],
   "source": [
    "stemmer = snowballstemmer.stemmer('german')\n",
    "print(stemmer.stemWords(\"Viele Schritte\".split()))"
   ]
  },
  {
   "cell_type": "markdown",
   "id": "9e138895",
   "metadata": {},
   "source": [
    "Diese Liste an deutschen Stopp-Wörtern ist der Doku selbst entnommen."
   ]
  },
  {
   "cell_type": "code",
   "execution_count": 3,
   "id": "3a0a2076",
   "metadata": {},
   "outputs": [],
   "source": [
    "stopwords = [\"aber\",\"alle\",\"allem\",\"allen\",\"aller\",\"alles\",\"als\",\"also\",\"am\",\"an\",\"ander\",\"andere\",\"anderem\",\"anderen\",\"anderer\",\"anderes\",\"anderm\",\"andern\",\"anderr\",\"anders\",\"auch\",\"auf\",\"aus\",\"bei\",\"bin\",\"bis\",\"bist\",\"da\",\"damit\",\"dann\",\"das\",\"dasselbe\",\"dazu\",\"da\\u00df\",\"dein\",\"deine\",\"deinem\",\"deinen\",\"deiner\",\"deines\",\"dem\",\"demselben\",\"den\",\"denn\",\"denselben\",\"der\",\"derer\",\"derselbe\",\"derselben\",\"des\",\"desselben\",\"dessen\",\"dich\",\"die\",\"dies\",\"diese\",\"dieselbe\",\"dieselben\",\"diesem\",\"diesen\",\"dieser\",\"dieses\",\"dir\",\"doch\",\"dort\",\"du\",\"durch\",\"ein\",\"eine\",\"einem\",\"einen\",\"einer\",\"eines\",\"einig\",\"einige\",\"einigem\",\"einigen\",\"einiger\",\"einiges\",\"einmal\",\"er\",\"es\",\"etwas\",\"euch\",\"euer\",\"eure\",\"eurem\",\"euren\",\"eurer\",\"eures\",\"f\\u00fcr\",\"gegen\",\"gewesen\",\"hab\",\"habe\",\"haben\",\"hat\",\"hatte\",\"hatten\",\"hier\",\"hin\",\"hinter\",\"ich\",\"ihm\",\"ihn\",\"ihnen\",\"ihr\",\"ihre\",\"ihrem\",\"ihren\",\"ihrer\",\"ihres\",\"im\",\"in\",\"indem\",\"ins\",\"ist\",\"jede\",\"jedem\",\"jeden\",\"jeder\",\"jedes\",\"jene\",\"jenem\",\"jenen\",\"jener\",\"jenes\",\"jetzt\",\"kann\",\"kein\",\"keine\",\"keinem\",\"keinen\",\"keiner\",\"keines\",\"k\\u00f6nnen\",\"k\\u00f6nnte\",\"machen\",\"man\",\"manche\",\"manchem\",\"manchen\",\"mancher\",\"manches\",\"mein\",\"meine\",\"meinem\",\"meinen\",\"meiner\",\"meines\",\"mich\",\"mir\",\"mit\",\"muss\",\"musste\",\"nach\",\"nicht\",\"nichts\",\"noch\",\"nun\",\"nur\",\"ob\",\"oder\",\"ohne\",\"sehr\",\"sein\",\"seine\",\"seinem\",\"seinen\",\"seiner\",\"seines\",\"selbst\",\"sich\",\"sie\",\"sind\",\"so\",\"solche\",\"solchem\",\"solchen\",\"solcher\",\"solches\",\"soll\",\"sollte\",\"sondern\",\"sonst\",\"um\",\"und\",\"uns\",\"unse\",\"unsem\",\"unsen\",\"unser\",\"unses\",\"unter\",\"viel\",\"vom\",\"von\",\"vor\",\"war\",\"waren\",\"warst\",\"was\",\"weg\",\"weil\",\"weiter\",\"welche\",\"welchem\",\"welchen\",\"welcher\",\"welches\",\"wenn\",\"werde\",\"werden\",\"wie\",\"wieder\",\"will\",\"wir\",\"wird\",\"wirst\",\"wo\",\"wollen\",\"wollte\",\"w\\u00e4hrend\",\"w\\u00fcrde\",\"w\\u00fcrden\",\"zu\",\"zum\",\"zur\",\"zwar\",\"zwischen\",\"\\u00fcber\"];"
   ]
  },
  {
   "cell_type": "code",
   "execution_count": 4,
   "id": "96ea3615",
   "metadata": {},
   "outputs": [
    {
     "data": {
      "text/plain": [
       "231"
      ]
     },
     "execution_count": 4,
     "metadata": {},
     "output_type": "execute_result"
    }
   ],
   "source": [
    "len(stopwords)"
   ]
  },
  {
   "cell_type": "markdown",
   "id": "87476e24",
   "metadata": {},
   "source": [
    "Anfragen sind *case sensitive*, also muss alles *to lower* konvertiert werden."
   ]
  },
  {
   "cell_type": "code",
   "execution_count": 5,
   "id": "11508cee",
   "metadata": {},
   "outputs": [
    {
     "data": {
      "text/plain": [
       "True"
      ]
     },
     "execution_count": 5,
     "metadata": {},
     "output_type": "execute_result"
    }
   ],
   "source": [
    "\"was\" in stopwords"
   ]
  },
  {
   "cell_type": "code",
   "execution_count": 6,
   "id": "bcc396ce",
   "metadata": {},
   "outputs": [
    {
     "data": {
      "text/plain": [
       "False"
      ]
     },
     "execution_count": 6,
     "metadata": {},
     "output_type": "execute_result"
    }
   ],
   "source": [
    "\"Was\" in stopwords"
   ]
  },
  {
   "cell_type": "code",
   "execution_count": 7,
   "id": "708ac9f5",
   "metadata": {},
   "outputs": [],
   "source": [
    "def prepare_string(string, stopwords):\n",
    "   \n",
    "    # replace question mark\n",
    "    query_str = string.replace('?', '')\n",
    "    \n",
    "    # stem words\n",
    "    query_tokens = stemmer.stemWords(query_str.split())\n",
    "    \n",
    "    # remove stopwords and convert to lower\n",
    "    query_filter = [token.lower() for token in query_tokens if token.lower() not in stopwords]\n",
    "\n",
    "    # re-assemble string\n",
    "    return ' '.join(e for e in query_filter)    "
   ]
  },
  {
   "cell_type": "markdown",
   "id": "8ff4b019",
   "metadata": {},
   "source": [
    "Basis für die Suche ist das Bauen eindes Indexes aus allen Dokumenten"
   ]
  },
  {
   "cell_type": "code",
   "execution_count": 8,
   "id": "f7b4724a",
   "metadata": {},
   "outputs": [],
   "source": [
    "def createSearchableData(documents, indexdir_path, title_col=None, path_col=None, text_col=None, ending='.html'):   \n",
    " \n",
    "    '''\n",
    "    Schema definition: title(name of file), path(as ID), content(indexed\n",
    "    but not stored),textdata (stored text content)\n",
    "    '''\n",
    "    \n",
    "    # create Schema for indexing documents\n",
    "    schema = Schema(\n",
    "        title    = TEXT(stored=True),\n",
    "        path     = ID(stored=True), \n",
    "        content  = TEXT,\n",
    "        textdata = TEXT(stored=True)\n",
    "    )\n",
    "    \n",
    "    # create dir for storing indexing results\n",
    "    if not os.path.exists(indexdir_path):\n",
    "        print(\"writing index to:\", indexdir_path)\n",
    "        os.mkdir(indexdir_path)\n",
    " \n",
    "    # Creating a index writer to add document as per schema\n",
    "    ix = create_in(indexdir_path, schema)\n",
    "    writer = ix.writer()\n",
    " \n",
    "    # add every document to index\n",
    "    for index, row in documents.iterrows():\n",
    "\n",
    "        path = row[path_col] if path_col else None\n",
    "        title = row[title_col] if title_col else None\n",
    "        text = prepare_string(row[text_col], stopwords)\n",
    "\n",
    "        writer.add_document(title=title, path=path, content=text, textdata=text)\n",
    "    \n",
    "    writer.commit()"
   ]
  },
  {
   "cell_type": "markdown",
   "id": "e9f1689f",
   "metadata": {},
   "source": [
    "### Erstellen des Suchindex aus Dokumenten"
   ]
  },
  {
   "cell_type": "code",
   "execution_count": 9,
   "id": "7be71dbb",
   "metadata": {},
   "outputs": [
    {
     "name": "stdout",
     "output_type": "stream",
     "text": [
      "2022-05-12 13:03:40,072 - kedro.io.data_catalog - INFO - Loading data from `ecu_test_doku_parsed` (CSVDataSet)...\n"
     ]
    }
   ],
   "source": [
    "documents = catalog.load(\"ecu_test_doku_parsed\")"
   ]
  },
  {
   "cell_type": "code",
   "execution_count": 10,
   "id": "23a23deb",
   "metadata": {},
   "outputs": [
    {
     "data": {
      "text/html": [
       "<div>\n",
       "<style scoped>\n",
       "    .dataframe tbody tr th:only-of-type {\n",
       "        vertical-align: middle;\n",
       "    }\n",
       "\n",
       "    .dataframe tbody tr th {\n",
       "        vertical-align: top;\n",
       "    }\n",
       "\n",
       "    .dataframe thead th {\n",
       "        text-align: right;\n",
       "    }\n",
       "</style>\n",
       "<table border=\"1\" class=\"dataframe\">\n",
       "  <thead>\n",
       "    <tr style=\"text-align: right;\">\n",
       "      <th></th>\n",
       "      <th>filename</th>\n",
       "      <th>title</th>\n",
       "      <th>sub_topics</th>\n",
       "      <th>body</th>\n",
       "      <th>links</th>\n",
       "      <th>imgs</th>\n",
       "    </tr>\n",
       "  </thead>\n",
       "  <tbody>\n",
       "    <tr>\n",
       "      <th>0</th>\n",
       "      <td>Bedienung_EasyInsert.html</td>\n",
       "      <td>EasyInsert</td>\n",
       "      <td>['Tastenkombinationen\\uf0c1']</td>\n",
       "      <td>EasyInsert — ECU-TEST 2022.2 Anwenderhandbuch ...</td>\n",
       "      <td>['../index.html', '../Getting_Started/GettingS...</td>\n",
       "      <td>['../_static/logo.png', '../_images/EasyInsert...</td>\n",
       "    </tr>\n",
       "  </tbody>\n",
       "</table>\n",
       "</div>"
      ],
      "text/plain": [
       "                    filename        title                     sub_topics  \\\n",
       "0  Bedienung_EasyInsert.html  EasyInsert  ['Tastenkombinationen\\uf0c1']   \n",
       "\n",
       "                                                body  \\\n",
       "0  EasyInsert — ECU-TEST 2022.2 Anwenderhandbuch ...   \n",
       "\n",
       "                                               links  \\\n",
       "0  ['../index.html', '../Getting_Started/GettingS...   \n",
       "\n",
       "                                                imgs  \n",
       "0  ['../_static/logo.png', '../_images/EasyInsert...  "
      ]
     },
     "execution_count": 10,
     "metadata": {},
     "output_type": "execute_result"
    }
   ],
   "source": [
    "documents.head(1)"
   ]
  },
  {
   "cell_type": "code",
   "execution_count": 11,
   "id": "82b24e0d",
   "metadata": {},
   "outputs": [],
   "source": [
    "indexdir = \"../data/03_primary/ecu_test_index/\"\n",
    "createSearchableData(documents, indexdir, title_col='title', path_col='filename', text_col='body')"
   ]
  },
  {
   "cell_type": "markdown",
   "id": "9458690e",
   "metadata": {},
   "source": [
    "### Testen der Suchfunktion und Ausgabe gefundener Resultate in DataFrame"
   ]
  },
  {
   "cell_type": "code",
   "execution_count": 12,
   "id": "997c2e73",
   "metadata": {},
   "outputs": [],
   "source": [
    "def query(query_str, parser='all', topN_results=10, verbose=True):\n",
    "    \n",
    "    result_rows = []   \n",
    "\n",
    "    query_str = prepare_string(query_str, stopwords)\n",
    "    if verbose: print(f'the query is: \"{query_str}\"')\n",
    "\n",
    "    ix = open_dir(indexdir) \n",
    "    with ix.searcher(weighting=scoring.Frequency) as searcher:\n",
    "        if parser == 'all':\n",
    "            query = QueryParser(\"content\", ix.schema).parse(query_str)\n",
    "        elif parser == 'any':\n",
    "            query = QueryParser(\"content\", ix.schema, group=OrGroup).parse(query_str)\n",
    "\n",
    "        results = searcher.search(query)\n",
    "\n",
    "        if len(results) > 0:\n",
    "            if verbose: print(f'\\nsearch yielded {len(results)} results in total')\n",
    "            num_res = topN_results if topN_results <= len(results) else len(results)\n",
    "            for i in range(num_res):\n",
    "                # result_rows.append([results[i].score, results[i]['title'], results[i]['path']])\n",
    "                result_rows.append([results[i].score, results[i]['path']])\n",
    "        else:\n",
    "            if verbose: print('search yielded no hits')\n",
    "            return []\n",
    "\n",
    "    # convert results to dataframe and display\n",
    "    df = pd.DataFrame(result_rows)\n",
    "    # df.columns = ['Score', 'Title', 'Path']\n",
    "    df.columns = ['Score', 'Path']\n",
    "    \n",
    "    return df"
   ]
  },
  {
   "cell_type": "markdown",
   "id": "cddd1bdc",
   "metadata": {},
   "source": [
    "### Testquery 1"
   ]
  },
  {
   "cell_type": "code",
   "execution_count": 13,
   "id": "e1cc3844",
   "metadata": {},
   "outputs": [
    {
     "name": "stdout",
     "output_type": "stream",
     "text": [
      "the query is: \"traceschritt\"\n",
      "\n",
      "search yielded 34 results in total\n"
     ]
    },
    {
     "data": {
      "text/html": [
       "<div>\n",
       "<style scoped>\n",
       "    .dataframe tbody tr th:only-of-type {\n",
       "        vertical-align: middle;\n",
       "    }\n",
       "\n",
       "    .dataframe tbody tr th {\n",
       "        vertical-align: top;\n",
       "    }\n",
       "\n",
       "    .dataframe thead th {\n",
       "        text-align: right;\n",
       "    }\n",
       "</style>\n",
       "<table border=\"1\" class=\"dataframe\">\n",
       "  <thead>\n",
       "    <tr style=\"text-align: right;\">\n",
       "      <th></th>\n",
       "      <th>Score</th>\n",
       "      <th>Path</th>\n",
       "    </tr>\n",
       "  </thead>\n",
       "  <tbody>\n",
       "    <tr>\n",
       "      <th>0</th>\n",
       "      <td>25.0</td>\n",
       "      <td>TRACE-CHECK_Handbuch_Traceanalyse-Entwurf_Gene...</td>\n",
       "    </tr>\n",
       "    <tr>\n",
       "      <th>1</th>\n",
       "      <td>21.0</td>\n",
       "      <td>TRACE-CHECK_Handbuch_Traceanalyse-Entwurf_Trac...</td>\n",
       "    </tr>\n",
       "    <tr>\n",
       "      <th>2</th>\n",
       "      <td>15.0</td>\n",
       "      <td>TRACE-CHECK_Handbuch_Traceanalyse-Entwurf_Sign...</td>\n",
       "    </tr>\n",
       "    <tr>\n",
       "      <th>3</th>\n",
       "      <td>14.0</td>\n",
       "      <td>TRACE-CHECK_Handbuch_Traceanalyse-Entwurf_Bere...</td>\n",
       "    </tr>\n",
       "    <tr>\n",
       "      <th>4</th>\n",
       "      <td>12.0</td>\n",
       "      <td>TRACE-CHECK_Handbuch_Traceanalyse-Entwurf_Asse...</td>\n",
       "    </tr>\n",
       "    <tr>\n",
       "      <th>5</th>\n",
       "      <td>10.0</td>\n",
       "      <td>TRACE-CHECK_Handbuch_Traceanalyse-Entwurf_Konz...</td>\n",
       "    </tr>\n",
       "    <tr>\n",
       "      <th>6</th>\n",
       "      <td>9.0</td>\n",
       "      <td>TRACE-CHECK_Handbuch_Traceanalyse-Entwurf_Abla...</td>\n",
       "    </tr>\n",
       "    <tr>\n",
       "      <th>7</th>\n",
       "      <td>8.0</td>\n",
       "      <td>TRACE-CHECK_Handbuch_Traceanalyse-Entwurf_Diag...</td>\n",
       "    </tr>\n",
       "    <tr>\n",
       "      <th>8</th>\n",
       "      <td>7.0</td>\n",
       "      <td>Bedienung_Tastenkombinationen.html</td>\n",
       "    </tr>\n",
       "    <tr>\n",
       "      <th>9</th>\n",
       "      <td>6.0</td>\n",
       "      <td>TRACE-CHECK_Handbuch_Traceschrittvorlagen_Arra...</td>\n",
       "    </tr>\n",
       "  </tbody>\n",
       "</table>\n",
       "</div>"
      ],
      "text/plain": [
       "   Score                                               Path\n",
       "0   25.0  TRACE-CHECK_Handbuch_Traceanalyse-Entwurf_Gene...\n",
       "1   21.0  TRACE-CHECK_Handbuch_Traceanalyse-Entwurf_Trac...\n",
       "2   15.0  TRACE-CHECK_Handbuch_Traceanalyse-Entwurf_Sign...\n",
       "3   14.0  TRACE-CHECK_Handbuch_Traceanalyse-Entwurf_Bere...\n",
       "4   12.0  TRACE-CHECK_Handbuch_Traceanalyse-Entwurf_Asse...\n",
       "5   10.0  TRACE-CHECK_Handbuch_Traceanalyse-Entwurf_Konz...\n",
       "6    9.0  TRACE-CHECK_Handbuch_Traceanalyse-Entwurf_Abla...\n",
       "7    8.0  TRACE-CHECK_Handbuch_Traceanalyse-Entwurf_Diag...\n",
       "8    7.0                 Bedienung_Tastenkombinationen.html\n",
       "9    6.0  TRACE-CHECK_Handbuch_Traceschrittvorlagen_Arra..."
      ]
     },
     "execution_count": 13,
     "metadata": {},
     "output_type": "execute_result"
    }
   ],
   "source": [
    "query(\"Was ist ein Traceschritt?\")"
   ]
  },
  {
   "cell_type": "markdown",
   "id": "a60ba827",
   "metadata": {},
   "source": [
    "### Testquery 2"
   ]
  },
  {
   "cell_type": "code",
   "execution_count": 14,
   "id": "39ee34e1",
   "metadata": {},
   "outputs": [
    {
     "name": "stdout",
     "output_type": "stream",
     "text": [
      "the query is: \"erstellt traceschritt analys\"\n",
      "\n",
      "search yielded 15 results in total\n"
     ]
    },
    {
     "data": {
      "text/html": [
       "<div>\n",
       "<style scoped>\n",
       "    .dataframe tbody tr th:only-of-type {\n",
       "        vertical-align: middle;\n",
       "    }\n",
       "\n",
       "    .dataframe tbody tr th {\n",
       "        vertical-align: top;\n",
       "    }\n",
       "\n",
       "    .dataframe thead th {\n",
       "        text-align: right;\n",
       "    }\n",
       "</style>\n",
       "<table border=\"1\" class=\"dataframe\">\n",
       "  <thead>\n",
       "    <tr style=\"text-align: right;\">\n",
       "      <th></th>\n",
       "      <th>Score</th>\n",
       "      <th>Path</th>\n",
       "    </tr>\n",
       "  </thead>\n",
       "  <tbody>\n",
       "    <tr>\n",
       "      <th>0</th>\n",
       "      <td>31.0</td>\n",
       "      <td>TRACE-CHECK_Handbuch_Traceanalyse-Entwurf_Gene...</td>\n",
       "    </tr>\n",
       "    <tr>\n",
       "      <th>1</th>\n",
       "      <td>22.0</td>\n",
       "      <td>TRACE-CHECK_Handbuch_Traceanalyse-Entwurf_Bere...</td>\n",
       "    </tr>\n",
       "    <tr>\n",
       "      <th>2</th>\n",
       "      <td>18.0</td>\n",
       "      <td>TRACE-CHECK_Handbuch_Traceanalyse-Entwurf_Konz...</td>\n",
       "    </tr>\n",
       "    <tr>\n",
       "      <th>3</th>\n",
       "      <td>13.0</td>\n",
       "      <td>TRACE-CHECK_Handbuch_Traceanalyse-Entwurf_Diag...</td>\n",
       "    </tr>\n",
       "    <tr>\n",
       "      <th>4</th>\n",
       "      <td>12.0</td>\n",
       "      <td>TRACE-CHECK_Handbuch_Traceanalyse-Entwurf_Abla...</td>\n",
       "    </tr>\n",
       "    <tr>\n",
       "      <th>5</th>\n",
       "      <td>12.0</td>\n",
       "      <td>TRACE-CHECK_Tutorial_Erste_Traceanalyse_Beispi...</td>\n",
       "    </tr>\n",
       "    <tr>\n",
       "      <th>6</th>\n",
       "      <td>11.0</td>\n",
       "      <td>TRACE-CHECK_Handbuch_Traceschrittvorlagen_Arra...</td>\n",
       "    </tr>\n",
       "    <tr>\n",
       "      <th>7</th>\n",
       "      <td>11.0</td>\n",
       "      <td>TRACE-CHECK_Referenz_Referenz_Timing-Diagramme...</td>\n",
       "    </tr>\n",
       "    <tr>\n",
       "      <th>8</th>\n",
       "      <td>11.0</td>\n",
       "      <td>TRACE-CHECK_Tutorial_Erste_Traceanalyse_Beispi...</td>\n",
       "    </tr>\n",
       "    <tr>\n",
       "      <th>9</th>\n",
       "      <td>10.0</td>\n",
       "      <td>Hauptprogramm_Aktionsfenster_Testschritte-Kart...</td>\n",
       "    </tr>\n",
       "  </tbody>\n",
       "</table>\n",
       "</div>"
      ],
      "text/plain": [
       "   Score                                               Path\n",
       "0   31.0  TRACE-CHECK_Handbuch_Traceanalyse-Entwurf_Gene...\n",
       "1   22.0  TRACE-CHECK_Handbuch_Traceanalyse-Entwurf_Bere...\n",
       "2   18.0  TRACE-CHECK_Handbuch_Traceanalyse-Entwurf_Konz...\n",
       "3   13.0  TRACE-CHECK_Handbuch_Traceanalyse-Entwurf_Diag...\n",
       "4   12.0  TRACE-CHECK_Handbuch_Traceanalyse-Entwurf_Abla...\n",
       "5   12.0  TRACE-CHECK_Tutorial_Erste_Traceanalyse_Beispi...\n",
       "6   11.0  TRACE-CHECK_Handbuch_Traceschrittvorlagen_Arra...\n",
       "7   11.0  TRACE-CHECK_Referenz_Referenz_Timing-Diagramme...\n",
       "8   11.0  TRACE-CHECK_Tutorial_Erste_Traceanalyse_Beispi...\n",
       "9   10.0  Hauptprogramm_Aktionsfenster_Testschritte-Kart..."
      ]
     },
     "execution_count": 14,
     "metadata": {},
     "output_type": "execute_result"
    }
   ],
   "source": [
    "query(\"Wie erstellt man eine Traceschritt Analyse?\")"
   ]
  },
  {
   "cell_type": "markdown",
   "id": "07dd775f",
   "metadata": {},
   "source": [
    "### Testquery 3"
   ]
  },
  {
   "cell_type": "code",
   "execution_count": 15,
   "id": "5320ecb8",
   "metadata": {},
   "outputs": [
    {
     "name": "stdout",
     "output_type": "stream",
     "text": [
      "the query is: \"testfall erstellt\"\n",
      "\n",
      "search yielded 57 results in total\n"
     ]
    },
    {
     "data": {
      "text/html": [
       "<div>\n",
       "<style scoped>\n",
       "    .dataframe tbody tr th:only-of-type {\n",
       "        vertical-align: middle;\n",
       "    }\n",
       "\n",
       "    .dataframe tbody tr th {\n",
       "        vertical-align: top;\n",
       "    }\n",
       "\n",
       "    .dataframe thead th {\n",
       "        text-align: right;\n",
       "    }\n",
       "</style>\n",
       "<table border=\"1\" class=\"dataframe\">\n",
       "  <thead>\n",
       "    <tr style=\"text-align: right;\">\n",
       "      <th></th>\n",
       "      <th>Score</th>\n",
       "      <th>Path</th>\n",
       "    </tr>\n",
       "  </thead>\n",
       "  <tbody>\n",
       "    <tr>\n",
       "      <th>0</th>\n",
       "      <td>32.0</td>\n",
       "      <td>Testausfuehrung_Testausfuehrung.html</td>\n",
       "    </tr>\n",
       "    <tr>\n",
       "      <th>1</th>\n",
       "      <td>21.0</td>\n",
       "      <td>Getting_Started_GettingStarted.html</td>\n",
       "    </tr>\n",
       "    <tr>\n",
       "      <th>2</th>\n",
       "      <td>15.0</td>\n",
       "      <td>Testausfuehrung_Analyse-Jobs.html</td>\n",
       "    </tr>\n",
       "    <tr>\n",
       "      <th>3</th>\n",
       "      <td>14.0</td>\n",
       "      <td>Hauptprogramm_Editor_Projekteditor.html</td>\n",
       "    </tr>\n",
       "    <tr>\n",
       "      <th>4</th>\n",
       "      <td>13.0</td>\n",
       "      <td>Einfuehrung_Testen.html</td>\n",
       "    </tr>\n",
       "    <tr>\n",
       "      <th>5</th>\n",
       "      <td>9.0</td>\n",
       "      <td>Einfuehrung_Grundlagen_Mappingkonzept.html</td>\n",
       "    </tr>\n",
       "    <tr>\n",
       "      <th>6</th>\n",
       "      <td>9.0</td>\n",
       "      <td>Einfuehrung_Grundlagen_Zeitkonzept.html</td>\n",
       "    </tr>\n",
       "    <tr>\n",
       "      <th>7</th>\n",
       "      <td>8.0</td>\n",
       "      <td>Hauptprogramm_Aktionsfenster_WORKSPACE-Karte.html</td>\n",
       "    </tr>\n",
       "    <tr>\n",
       "      <th>8</th>\n",
       "      <td>8.0</td>\n",
       "      <td>Hauptprogramm_Reportviewer.html</td>\n",
       "    </tr>\n",
       "    <tr>\n",
       "      <th>9</th>\n",
       "      <td>7.0</td>\n",
       "      <td>Einfuehrung_Erster_Start_Erstellen_Package.html</td>\n",
       "    </tr>\n",
       "  </tbody>\n",
       "</table>\n",
       "</div>"
      ],
      "text/plain": [
       "   Score                                               Path\n",
       "0   32.0               Testausfuehrung_Testausfuehrung.html\n",
       "1   21.0                Getting_Started_GettingStarted.html\n",
       "2   15.0                  Testausfuehrung_Analyse-Jobs.html\n",
       "3   14.0            Hauptprogramm_Editor_Projekteditor.html\n",
       "4   13.0                            Einfuehrung_Testen.html\n",
       "5    9.0         Einfuehrung_Grundlagen_Mappingkonzept.html\n",
       "6    9.0            Einfuehrung_Grundlagen_Zeitkonzept.html\n",
       "7    8.0  Hauptprogramm_Aktionsfenster_WORKSPACE-Karte.html\n",
       "8    8.0                    Hauptprogramm_Reportviewer.html\n",
       "9    7.0    Einfuehrung_Erster_Start_Erstellen_Package.html"
      ]
     },
     "execution_count": 15,
     "metadata": {},
     "output_type": "execute_result"
    }
   ],
   "source": [
    "query(\"Wie wird ein Testfall erstellt?\")"
   ]
  },
  {
   "cell_type": "markdown",
   "id": "ca538b0c",
   "metadata": {},
   "source": [
    "### Testquery 4"
   ]
  },
  {
   "cell_type": "code",
   "execution_count": 16,
   "id": "dd0589d0",
   "metadata": {},
   "outputs": [
    {
     "name": "stdout",
     "output_type": "stream",
     "text": [
      "the query is: \"unterschied zwisch testfall traceschritt\"\n",
      "\n",
      "search yielded 2 results in total\n"
     ]
    },
    {
     "data": {
      "text/html": [
       "<div>\n",
       "<style scoped>\n",
       "    .dataframe tbody tr th:only-of-type {\n",
       "        vertical-align: middle;\n",
       "    }\n",
       "\n",
       "    .dataframe tbody tr th {\n",
       "        vertical-align: top;\n",
       "    }\n",
       "\n",
       "    .dataframe thead th {\n",
       "        text-align: right;\n",
       "    }\n",
       "</style>\n",
       "<table border=\"1\" class=\"dataframe\">\n",
       "  <thead>\n",
       "    <tr style=\"text-align: right;\">\n",
       "      <th></th>\n",
       "      <th>Score</th>\n",
       "      <th>Path</th>\n",
       "    </tr>\n",
       "  </thead>\n",
       "  <tbody>\n",
       "    <tr>\n",
       "      <th>0</th>\n",
       "      <td>22.0</td>\n",
       "      <td>Testausfuehrung_Analyse-Jobs.html</td>\n",
       "    </tr>\n",
       "    <tr>\n",
       "      <th>1</th>\n",
       "      <td>7.0</td>\n",
       "      <td>TRACE-CHECK_Handbuch_Traceanalyse_im_Projekt_S...</td>\n",
       "    </tr>\n",
       "  </tbody>\n",
       "</table>\n",
       "</div>"
      ],
      "text/plain": [
       "   Score                                               Path\n",
       "0   22.0                  Testausfuehrung_Analyse-Jobs.html\n",
       "1    7.0  TRACE-CHECK_Handbuch_Traceanalyse_im_Projekt_S..."
      ]
     },
     "execution_count": 16,
     "metadata": {},
     "output_type": "execute_result"
    }
   ],
   "source": [
    "query(\"Was ist der Unterschied zwischen Testfall und Traceschritt?\", parser='all')"
   ]
  },
  {
   "cell_type": "code",
   "execution_count": 17,
   "id": "f8a80f75",
   "metadata": {},
   "outputs": [
    {
     "name": "stdout",
     "output_type": "stream",
     "text": [
      "the query is: \"unterschied zwisch testfall traceschritt\"\n",
      "\n",
      "search yielded 257 results in total\n"
     ]
    },
    {
     "data": {
      "text/html": [
       "<div>\n",
       "<style scoped>\n",
       "    .dataframe tbody tr th:only-of-type {\n",
       "        vertical-align: middle;\n",
       "    }\n",
       "\n",
       "    .dataframe tbody tr th {\n",
       "        vertical-align: top;\n",
       "    }\n",
       "\n",
       "    .dataframe thead th {\n",
       "        text-align: right;\n",
       "    }\n",
       "</style>\n",
       "<table border=\"1\" class=\"dataframe\">\n",
       "  <thead>\n",
       "    <tr style=\"text-align: right;\">\n",
       "      <th></th>\n",
       "      <th>Score</th>\n",
       "      <th>Path</th>\n",
       "    </tr>\n",
       "  </thead>\n",
       "  <tbody>\n",
       "    <tr>\n",
       "      <th>0</th>\n",
       "      <td>32.0</td>\n",
       "      <td>Testausfuehrung_Testausfuehrung.html</td>\n",
       "    </tr>\n",
       "    <tr>\n",
       "      <th>1</th>\n",
       "      <td>28.0</td>\n",
       "      <td>TRACE-CHECK_Handbuch_Traceanalyse-Entwurf_Gene...</td>\n",
       "    </tr>\n",
       "    <tr>\n",
       "      <th>2</th>\n",
       "      <td>23.0</td>\n",
       "      <td>TRACE-CHECK_Handbuch_Traceanalyse-Entwurf_Bere...</td>\n",
       "    </tr>\n",
       "    <tr>\n",
       "      <th>3</th>\n",
       "      <td>23.0</td>\n",
       "      <td>TRACE-CHECK_Handbuch_Traceanalyse-Entwurf_Trac...</td>\n",
       "    </tr>\n",
       "    <tr>\n",
       "      <th>4</th>\n",
       "      <td>22.0</td>\n",
       "      <td>Testausfuehrung_Analyse-Jobs.html</td>\n",
       "    </tr>\n",
       "    <tr>\n",
       "      <th>5</th>\n",
       "      <td>18.0</td>\n",
       "      <td>Testausfuehrung_Interaktives_Testen.html</td>\n",
       "    </tr>\n",
       "    <tr>\n",
       "      <th>6</th>\n",
       "      <td>16.0</td>\n",
       "      <td>Hauptprogramm_Aktionsfenster_Testschritte-Kart...</td>\n",
       "    </tr>\n",
       "    <tr>\n",
       "      <th>7</th>\n",
       "      <td>16.0</td>\n",
       "      <td>TRACE-CHECK_Handbuch_Traceanalyse-Entwurf_Sign...</td>\n",
       "    </tr>\n",
       "    <tr>\n",
       "      <th>8</th>\n",
       "      <td>15.0</td>\n",
       "      <td>Bedienung_Tastenkombinationen.html</td>\n",
       "    </tr>\n",
       "    <tr>\n",
       "      <th>9</th>\n",
       "      <td>15.0</td>\n",
       "      <td>TRACE-CHECK_Referenz_Referenz_Timing-Diagramme...</td>\n",
       "    </tr>\n",
       "  </tbody>\n",
       "</table>\n",
       "</div>"
      ],
      "text/plain": [
       "   Score                                               Path\n",
       "0   32.0               Testausfuehrung_Testausfuehrung.html\n",
       "1   28.0  TRACE-CHECK_Handbuch_Traceanalyse-Entwurf_Gene...\n",
       "2   23.0  TRACE-CHECK_Handbuch_Traceanalyse-Entwurf_Bere...\n",
       "3   23.0  TRACE-CHECK_Handbuch_Traceanalyse-Entwurf_Trac...\n",
       "4   22.0                  Testausfuehrung_Analyse-Jobs.html\n",
       "5   18.0           Testausfuehrung_Interaktives_Testen.html\n",
       "6   16.0  Hauptprogramm_Aktionsfenster_Testschritte-Kart...\n",
       "7   16.0  TRACE-CHECK_Handbuch_Traceanalyse-Entwurf_Sign...\n",
       "8   15.0                 Bedienung_Tastenkombinationen.html\n",
       "9   15.0  TRACE-CHECK_Referenz_Referenz_Timing-Diagramme..."
      ]
     },
     "execution_count": 17,
     "metadata": {},
     "output_type": "execute_result"
    }
   ],
   "source": [
    "query(\"Was ist der Unterschied zwischen Testfall und Traceschritt?\", parser='any')"
   ]
  },
  {
   "cell_type": "markdown",
   "id": "11dc3c24",
   "metadata": {},
   "source": [
    "## Testen der Suchfunktion an Germanquad Datensatz"
   ]
  },
  {
   "cell_type": "markdown",
   "id": "e586df64",
   "metadata": {},
   "source": [
    "### Laden des Datensatzes als DataFrame"
   ]
  },
  {
   "cell_type": "code",
   "execution_count": 18,
   "id": "0f0fca15",
   "metadata": {},
   "outputs": [
    {
     "name": "stdout",
     "output_type": "stream",
     "text": [
      "2022-05-12 13:04:12,969 - kedro.io.data_catalog - INFO - Loading data from `germanquad_validation` (CSVDataSet)...\n"
     ]
    }
   ],
   "source": [
    "germanquad = catalog.load(\"germanquad_validation\")"
   ]
  },
  {
   "cell_type": "code",
   "execution_count": 19,
   "id": "1a2f1171",
   "metadata": {},
   "outputs": [
    {
     "data": {
      "text/html": [
       "<div>\n",
       "<style scoped>\n",
       "    .dataframe tbody tr th:only-of-type {\n",
       "        vertical-align: middle;\n",
       "    }\n",
       "\n",
       "    .dataframe tbody tr th {\n",
       "        vertical-align: top;\n",
       "    }\n",
       "\n",
       "    .dataframe thead th {\n",
       "        text-align: right;\n",
       "    }\n",
       "</style>\n",
       "<table border=\"1\" class=\"dataframe\">\n",
       "  <thead>\n",
       "    <tr style=\"text-align: right;\">\n",
       "      <th></th>\n",
       "      <th>id</th>\n",
       "      <th>context</th>\n",
       "      <th>question</th>\n",
       "      <th>answers</th>\n",
       "    </tr>\n",
       "  </thead>\n",
       "  <tbody>\n",
       "    <tr>\n",
       "      <th>0</th>\n",
       "      <td>40369</td>\n",
       "      <td>Aufzugsanlage\\n\\n=== Seilloser Aufzug ===\\nAn ...</td>\n",
       "      <td>Was kann den Verschleiß des seillosen Aufzuges...</td>\n",
       "      <td>{'text': array(['elektromagnetischer Linearfüh...</td>\n",
       "    </tr>\n",
       "    <tr>\n",
       "      <th>1</th>\n",
       "      <td>40370</td>\n",
       "      <td>Aufzugsanlage\\n\\n=== Seilloser Aufzug ===\\nAn ...</td>\n",
       "      <td>In welcher deutschen Stadt wird der seillose A...</td>\n",
       "      <td>{'text': array(['Rottweil', 'Rottweil'], dtype...</td>\n",
       "    </tr>\n",
       "    <tr>\n",
       "      <th>2</th>\n",
       "      <td>40366</td>\n",
       "      <td>Aufzugsanlage\\n\\n=== Seilloser Aufzug ===\\nAn ...</td>\n",
       "      <td>Wo wurde ein seilloser Aufzug entwickelt?</td>\n",
       "      <td>{'text': array(['An der RWTH Aachen im Institu...</td>\n",
       "    </tr>\n",
       "    <tr>\n",
       "      <th>3</th>\n",
       "      <td>40367</td>\n",
       "      <td>Aufzugsanlage\\n\\n=== Seilloser Aufzug ===\\nAn ...</td>\n",
       "      <td>Wie funktioniert ein seilloser Aufzug?</td>\n",
       "      <td>{'text': array(['Die Kabine wird hierbei durch...</td>\n",
       "    </tr>\n",
       "    <tr>\n",
       "      <th>4</th>\n",
       "      <td>40368</td>\n",
       "      <td>Aufzugsanlage\\n\\n=== Seilloser Aufzug ===\\nAn ...</td>\n",
       "      <td>Wann muss man die Zieletage in seillosen Aufzü...</td>\n",
       "      <td>{'text': array(['vor Fahrtantritt (d.\\xa0h. no...</td>\n",
       "    </tr>\n",
       "  </tbody>\n",
       "</table>\n",
       "</div>"
      ],
      "text/plain": [
       "      id                                            context  \\\n",
       "0  40369  Aufzugsanlage\\n\\n=== Seilloser Aufzug ===\\nAn ...   \n",
       "1  40370  Aufzugsanlage\\n\\n=== Seilloser Aufzug ===\\nAn ...   \n",
       "2  40366  Aufzugsanlage\\n\\n=== Seilloser Aufzug ===\\nAn ...   \n",
       "3  40367  Aufzugsanlage\\n\\n=== Seilloser Aufzug ===\\nAn ...   \n",
       "4  40368  Aufzugsanlage\\n\\n=== Seilloser Aufzug ===\\nAn ...   \n",
       "\n",
       "                                            question  \\\n",
       "0  Was kann den Verschleiß des seillosen Aufzuges...   \n",
       "1  In welcher deutschen Stadt wird der seillose A...   \n",
       "2          Wo wurde ein seilloser Aufzug entwickelt?   \n",
       "3             Wie funktioniert ein seilloser Aufzug?   \n",
       "4  Wann muss man die Zieletage in seillosen Aufzü...   \n",
       "\n",
       "                                             answers  \n",
       "0  {'text': array(['elektromagnetischer Linearfüh...  \n",
       "1  {'text': array(['Rottweil', 'Rottweil'], dtype...  \n",
       "2  {'text': array(['An der RWTH Aachen im Institu...  \n",
       "3  {'text': array(['Die Kabine wird hierbei durch...  \n",
       "4  {'text': array(['vor Fahrtantritt (d.\\xa0h. no...  "
      ]
     },
     "execution_count": 19,
     "metadata": {},
     "output_type": "execute_result"
    }
   ],
   "source": [
    "germanquad.head()"
   ]
  },
  {
   "cell_type": "markdown",
   "id": "28525bbb",
   "metadata": {},
   "source": [
    "### Hashen aller Kontexte, da Kontexte mehrfach auftreten (mehrere Fragen pro Kontext)"
   ]
  },
  {
   "cell_type": "code",
   "execution_count": 20,
   "id": "46eb3ff9",
   "metadata": {},
   "outputs": [],
   "source": [
    "import hashlib\n",
    "import base64\n",
    "\n",
    "def hash_context(text):\n",
    "    return base64.b64encode(hashlib.md5(text.encode('utf-8')).digest()).decode()"
   ]
  },
  {
   "cell_type": "code",
   "execution_count": 21,
   "id": "bef7be82",
   "metadata": {},
   "outputs": [
    {
     "data": {
      "text/plain": [
       "'Aufzugsanlage\\n\\n=== Seilloser Aufzug ===\\nAn der RWTH Aachen im Institut für Elektrische Maschinen wur'"
      ]
     },
     "execution_count": 21,
     "metadata": {},
     "output_type": "execute_result"
    }
   ],
   "source": [
    "_test_context = germanquad['context'].iloc[1]\n",
    "_test_context[:100]"
   ]
  },
  {
   "cell_type": "code",
   "execution_count": 22,
   "id": "a4c11acd",
   "metadata": {},
   "outputs": [
    {
     "data": {
      "text/plain": [
       "'1Hu25PJK/VZwj72Is7G8vw=='"
      ]
     },
     "execution_count": 22,
     "metadata": {},
     "output_type": "execute_result"
    }
   ],
   "source": [
    "hsh = hashlib.md5(_test_context.encode('utf-8')).digest()\n",
    "base64.b64encode(hsh).decode()"
   ]
  },
  {
   "cell_type": "code",
   "execution_count": 23,
   "id": "ce8ed8d2",
   "metadata": {},
   "outputs": [
    {
     "data": {
      "text/plain": [
       "'1Hu25PJK/VZwj72Is7G8vw=='"
      ]
     },
     "execution_count": 23,
     "metadata": {},
     "output_type": "execute_result"
    }
   ],
   "source": [
    "hash_context(_test_context)"
   ]
  },
  {
   "cell_type": "markdown",
   "id": "22ba689b",
   "metadata": {},
   "source": [
    "### Erstellen eines Index für Germanquad\n",
    "Dabei werden nur unique Kontexte indiziert. Der Inhalt (Text) wird gehashed und dient als Pfad um später beim Testen einen Fragekontext einem Kontext im Index zuordnen zu können."
   ]
  },
  {
   "cell_type": "code",
   "execution_count": 24,
   "id": "5412b775",
   "metadata": {},
   "outputs": [],
   "source": [
    "germanquad_contexts = germanquad['context']"
   ]
  },
  {
   "cell_type": "code",
   "execution_count": 25,
   "id": "bf86fd47",
   "metadata": {},
   "outputs": [
    {
     "data": {
      "text/plain": [
       "(474,)"
      ]
     },
     "execution_count": 25,
     "metadata": {},
     "output_type": "execute_result"
    }
   ],
   "source": [
    "germanquad_contexts.unique().shape"
   ]
  },
  {
   "cell_type": "code",
   "execution_count": 26,
   "id": "92e1585c",
   "metadata": {},
   "outputs": [],
   "source": [
    "unique_contexts_with_hash = []\n",
    "for c in germanquad_contexts.unique():\n",
    "    hsh = hash_context(c)\n",
    "    unique_contexts_with_hash.append({\"hash\": hsh, \"context\": c})"
   ]
  },
  {
   "cell_type": "code",
   "execution_count": 27,
   "id": "e2422015",
   "metadata": {},
   "outputs": [
    {
     "data": {
      "text/html": [
       "<div>\n",
       "<style scoped>\n",
       "    .dataframe tbody tr th:only-of-type {\n",
       "        vertical-align: middle;\n",
       "    }\n",
       "\n",
       "    .dataframe tbody tr th {\n",
       "        vertical-align: top;\n",
       "    }\n",
       "\n",
       "    .dataframe thead th {\n",
       "        text-align: right;\n",
       "    }\n",
       "</style>\n",
       "<table border=\"1\" class=\"dataframe\">\n",
       "  <thead>\n",
       "    <tr style=\"text-align: right;\">\n",
       "      <th></th>\n",
       "      <th>hash</th>\n",
       "      <th>context</th>\n",
       "    </tr>\n",
       "  </thead>\n",
       "  <tbody>\n",
       "    <tr>\n",
       "      <th>0</th>\n",
       "      <td>1Hu25PJK/VZwj72Is7G8vw==</td>\n",
       "      <td>Aufzugsanlage\\n\\n=== Seilloser Aufzug ===\\nAn ...</td>\n",
       "    </tr>\n",
       "    <tr>\n",
       "      <th>1</th>\n",
       "      <td>60+PszMaTC1g1qvjxof4ng==</td>\n",
       "      <td>Sichuan\\n\\n=== Landwirtschaft ===\\nSichuan gil...</td>\n",
       "    </tr>\n",
       "    <tr>\n",
       "      <th>2</th>\n",
       "      <td>BNjqad/eGjINJp6eKBXS1g==</td>\n",
       "      <td>Antenne\\n\\n==== Polarisation ====\\nAntennen st...</td>\n",
       "    </tr>\n",
       "    <tr>\n",
       "      <th>3</th>\n",
       "      <td>pfO/sDJuLD9rxUNBLlzYVQ==</td>\n",
       "      <td>Softwaretest\\n\\n== Ziele ==\\n''Globales Ziel''...</td>\n",
       "    </tr>\n",
       "    <tr>\n",
       "      <th>4</th>\n",
       "      <td>FN6vYWPIl+LT4/A3IfIEqg==</td>\n",
       "      <td>Tuberkulose\\n\\n=== 19. Jahrhundert ===\\nAufgru...</td>\n",
       "    </tr>\n",
       "  </tbody>\n",
       "</table>\n",
       "</div>"
      ],
      "text/plain": [
       "                       hash                                            context\n",
       "0  1Hu25PJK/VZwj72Is7G8vw==  Aufzugsanlage\\n\\n=== Seilloser Aufzug ===\\nAn ...\n",
       "1  60+PszMaTC1g1qvjxof4ng==  Sichuan\\n\\n=== Landwirtschaft ===\\nSichuan gil...\n",
       "2  BNjqad/eGjINJp6eKBXS1g==  Antenne\\n\\n==== Polarisation ====\\nAntennen st...\n",
       "3  pfO/sDJuLD9rxUNBLlzYVQ==  Softwaretest\\n\\n== Ziele ==\\n''Globales Ziel''...\n",
       "4  FN6vYWPIl+LT4/A3IfIEqg==  Tuberkulose\\n\\n=== 19. Jahrhundert ===\\nAufgru..."
      ]
     },
     "execution_count": 27,
     "metadata": {},
     "output_type": "execute_result"
    }
   ],
   "source": [
    "pd.DataFrame(unique_contexts_with_hash).head(5)"
   ]
  },
  {
   "cell_type": "code",
   "execution_count": 28,
   "id": "60d3fcb8",
   "metadata": {},
   "outputs": [],
   "source": [
    "indexdir = \"../data/03_primary/germanquad_index/\"\n",
    "createSearchableData(pd.DataFrame(unique_contexts_with_hash), indexdir, path_col='hash', text_col='context')"
   ]
  },
  {
   "cell_type": "markdown",
   "id": "c6366b28",
   "metadata": {},
   "source": [
    "### Zufällige Frage wählen und prüfen ob richtiger Kontext von Stichwortsuche gefunden wird"
   ]
  },
  {
   "cell_type": "code",
   "execution_count": 69,
   "id": "96c766a0",
   "metadata": {},
   "outputs": [
    {
     "name": "stdout",
     "output_type": "stream",
     "text": [
      "question is : Welchen Platz belegte Arnold Schwarzenegger bei seinem ersten IFBB Meisterschaft?\n",
      "the query is: \"welch platz belegt arnold schwarzenegg erst ifbb meisterschaft\"\n",
      "\n",
      "search yielded 1 results in total\n",
      "context is: ZvwEmZZolKvfidgl5SGi+A== and is \n",
      "        among top 5 answers\n"
     ]
    },
    {
     "data": {
      "text/html": [
       "<div>\n",
       "<style scoped>\n",
       "    .dataframe tbody tr th:only-of-type {\n",
       "        vertical-align: middle;\n",
       "    }\n",
       "\n",
       "    .dataframe tbody tr th {\n",
       "        vertical-align: top;\n",
       "    }\n",
       "\n",
       "    .dataframe thead th {\n",
       "        text-align: right;\n",
       "    }\n",
       "</style>\n",
       "<table border=\"1\" class=\"dataframe\">\n",
       "  <thead>\n",
       "    <tr style=\"text-align: right;\">\n",
       "      <th></th>\n",
       "      <th>Score</th>\n",
       "      <th>Path</th>\n",
       "    </tr>\n",
       "  </thead>\n",
       "  <tbody>\n",
       "    <tr>\n",
       "      <th>0</th>\n",
       "      <td>47.0</td>\n",
       "      <td>ZvwEmZZolKvfidgl5SGi+A==</td>\n",
       "    </tr>\n",
       "  </tbody>\n",
       "</table>\n",
       "</div>"
      ],
      "text/plain": [
       "   Score                      Path\n",
       "0   47.0  ZvwEmZZolKvfidgl5SGi+A=="
      ]
     },
     "metadata": {},
     "output_type": "display_data"
    }
   ],
   "source": [
    "# pick random sample and query the question\n",
    "s = germanquad.sample()\n",
    "\n",
    "s_q = s['question'].iloc[0]\n",
    "s_id = s['id'].iloc[0]\n",
    "print(\"question is :\", s_q)\n",
    "\n",
    "# calculate results\n",
    "result = query(s_q)\n",
    "\n",
    "# check wether hash of context - question pair is within top 5 answers\n",
    "correct_context = hash_context(s['context'].iloc[0])\n",
    "if len(result) > 0:\n",
    "    print(f'''context is: {correct_context} and is \n",
    "        {'not ' if correct_context not in list(result['Path'])[:5] else ''}among top 5 answers''')\n",
    "    \n",
    "display(result)"
   ]
  },
  {
   "cell_type": "markdown",
   "id": "90730e41",
   "metadata": {},
   "source": [
    "### Berechne Top5-Score für alle Fragen + Kontexte\n",
    "Frage gilt dann als richtig beantwortet, wenn Kontext zur Frage innerhalb der ersten 5 Suchergebnisse ist. Dabei müssen **alle** Tokens der Query (nach Filtern der Suchanfrage) im Kontext enthalten sein (Suchtyp: all)"
   ]
  },
  {
   "cell_type": "code",
   "execution_count": 30,
   "id": "26f3352a",
   "metadata": {},
   "outputs": [],
   "source": [
    "hit_count = 0\n",
    "for index, row in germanquad.iterrows():\n",
    "    _q = row['question']\n",
    "    _id = row['id']\n",
    "    _res = query(_q, verbose=False, parser='all')\n",
    "    _corr_ctxt = hash_context(row['context'])\n",
    "    if len(_res) == 0: continue\n",
    "    if _corr_ctxt in list(_res['Path'])[:5]:\n",
    "        hit_count += 1      "
   ]
  },
  {
   "cell_type": "code",
   "execution_count": 31,
   "id": "c448f5ad",
   "metadata": {},
   "outputs": [
    {
     "name": "stdout",
     "output_type": "stream",
     "text": [
      "accuracy is: 0.12\n"
     ]
    }
   ],
   "source": [
    "print('accuracy is:', round(hit_count / len(germanquad), 2))"
   ]
  },
  {
   "cell_type": "markdown",
   "id": "93e7541a",
   "metadata": {},
   "source": [
    "### Berechnung Top5-Score mit Suchtyp: 'any'\n",
    "Anstelle von allen Wörtern (Wortstämmen) der Suchanfragen muss jetzt nur **eins** der Wörter im Kontext enthalten sein, um gefunden zu werden. "
   ]
  },
  {
   "cell_type": "code",
   "execution_count": 32,
   "id": "a13e5403",
   "metadata": {},
   "outputs": [],
   "source": [
    "hit_count = 0\n",
    "for index, row in germanquad.iterrows():\n",
    "    _q = row['question']\n",
    "    _id = row['id']\n",
    "    _res = query(_q, verbose=False, parser='any')\n",
    "    _corr_ctxt = hash_context(row['context'])\n",
    "    if len(_res) == 0: continue\n",
    "    if _corr_ctxt in list(_res['Path'])[:5]:\n",
    "        hit_count += 1      "
   ]
  },
  {
   "cell_type": "code",
   "execution_count": 33,
   "id": "da977aad",
   "metadata": {},
   "outputs": [
    {
     "name": "stdout",
     "output_type": "stream",
     "text": [
      "accuracy is: 0.77\n"
     ]
    }
   ],
   "source": [
    "print('accuracy is:', round(hit_count / len(germanquad), 2))"
   ]
  },
  {
   "cell_type": "markdown",
   "id": "48229990",
   "metadata": {},
   "source": [
    "### Berechnung Top1-Score mit Suchtyp: 'any'"
   ]
  },
  {
   "cell_type": "code",
   "execution_count": 34,
   "id": "ce94cd3f",
   "metadata": {},
   "outputs": [],
   "source": [
    "hit_count = 0\n",
    "for index, row in germanquad.iterrows():\n",
    "    _q = row['question']\n",
    "    _id = row['id']\n",
    "    _res = query(_q, verbose=False, parser='any')\n",
    "    _corr_ctxt = hash_context(row['context'])\n",
    "    if len(_res) == 0: continue\n",
    "    if _corr_ctxt in list(_res['Path'])[:1]:\n",
    "        hit_count += 1      "
   ]
  },
  {
   "cell_type": "code",
   "execution_count": 35,
   "id": "0da6383b",
   "metadata": {},
   "outputs": [
    {
     "name": "stdout",
     "output_type": "stream",
     "text": [
      "accuracy is: 0.48\n"
     ]
    }
   ],
   "source": [
    "print('accuracy is:', round(hit_count / len(germanquad), 2))"
   ]
  }
 ],
 "metadata": {
  "kernelspec": {
   "display_name": "Kedro (quaseldoku)",
   "language": "python",
   "name": "kedro_quaseldoku"
  },
  "language_info": {
   "codemirror_mode": {
    "name": "ipython",
    "version": 3
   },
   "file_extension": ".py",
   "mimetype": "text/x-python",
   "name": "python",
   "nbconvert_exporter": "python",
   "pygments_lexer": "ipython3",
   "version": "3.8.2"
  }
 },
 "nbformat": 4,
 "nbformat_minor": 5
}
