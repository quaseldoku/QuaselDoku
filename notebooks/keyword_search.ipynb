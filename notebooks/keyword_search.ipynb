{
 "cells": [
  {
   "cell_type": "code",
   "execution_count": 1,
   "id": "19a3bc9f",
   "metadata": {},
   "outputs": [],
   "source": [
    "import os\n",
    "import sys\n",
    "import pandas as pd\n",
    "\n",
    "from whoosh.index import create_in\n",
    "from whoosh.fields import Schema, TEXT, ID\n",
    "from whoosh.qparser import QueryParser, OrGroup\n",
    "from whoosh import scoring\n",
    "from whoosh.index import open_dir\n",
    "from whoosh.analysis import StemFilter, RegexTokenizer, LowercaseFilter, StopFilter"
   ]
  },
  {
   "cell_type": "markdown",
   "id": "db03d6d6",
   "metadata": {},
   "source": [
    "Die Stichwortsuche des Sphinx Framework soll als Baseline für die getesteten Sprachmodelle dienen. Diese ist jedoch so nicht leicht portiertbar, da sie in Javascript verfasst und auf Dependencies wie JQuery aufbaut. Weitaus einfacher ist die Implementierung einer ähnlichen Search-Enginge mit **whoosh**, die aus vier Elementen besteht:\n",
    "\n",
    "- Stemmer (Reduktion der Wörter in Dokumenten und Anfragen auf Wortstamm)\n",
    "- Herausfiltern von Stoppwörtern aus Suchanfragen\n",
    "- Suche nach Stichwörtern in Dokumenten\n",
    "- Ranking von Dokumenten nach Relevanz nach erfolgreichem Auffinden von Stichwörtern"
   ]
  },
  {
   "cell_type": "markdown",
   "id": "f0352501",
   "metadata": {},
   "source": [
    "#### Woosh geht dabei folgendermaßen vor:\n",
    "\n",
    "Für eine Anzahl n Dokumente (zusammenhängender Textkörper - in unserem Fall Paragraphen) wird ein Suchindex erstellt. Dafür wird eine *Analyzer* genutzt. Dieser wandelt die Sätze / Wörter des Textkörpers in Tokens um. Hierbei kann nun spezifiziert werden, nach welchen Regeln die Wörter geparsed werden. Hier wird ein *Analyzer* genutzt, der aus einem *RegexTokenizer* besteht, der Wörter einzeln parsed und dabei Satz- und Leerzeichen ignoriert, einem *LowerCaseFilter* der alle Worte in lower case umwandelt und einem *StopFilter*, welcher eine Stopwort-Liste übernimmt, die aus der Sphinx Suche übernommen wurde. Die Stoppwörter - welche in jener Liste vorhanden sind - werden beim Indizieren ignoriert. Für jedes Dokument wird also eine Liste an Worttokens erstellt, zudem werden Position des Vorkommens jener Tokens im Text abgespeichert. Zudem wird noch ein *Stemmer* eingesetzt, der Wörter auf ihren Wortstamm reduziert.\n",
    "\n",
    "Bei einer Suchquery werden dann die Tokens der Query im Index gesucht und Dokumente, die jene Tokens enthalten zurückgegeben. Jene Dokumente werden dann noch geranked. Hierbei nutzt whoosh per Default *Okapi BM25* (https://en.wikipedia.org/wiki/Okapi_BM25), was eine Weiterentwicklung von *TF-IDF* ist, wobei die Häufikeit eines Terms in einem bestimmten Dokument (Term-Frequency) als auch die Häufigkeit eines Suchterms in allen Dokumenten (inverse Document-Frequency) eine Rolle spielt. Höhere Scores vermitteln hierbei eine höhere Relevanz bezogen auf die Query."
   ]
  },
  {
   "cell_type": "markdown",
   "id": "96056ccf",
   "metadata": {},
   "source": [
    "### Liste deutscher Stopwörter"
   ]
  },
  {
   "cell_type": "code",
   "execution_count": 2,
   "id": "3a0a2076",
   "metadata": {},
   "outputs": [],
   "source": [
    "stopwords = [\"aber\",\"alle\",\"allem\",\"allen\",\"aller\",\"alles\",\"als\",\"also\",\"am\",\"an\",\"ander\",\"andere\",\"anderem\",\"anderen\",\"anderer\",\"anderes\",\"anderm\",\"andern\",\"anderr\",\"anders\",\"auch\",\"auf\",\"aus\",\"bei\",\"bin\",\"bis\",\"bist\",\"da\",\"damit\",\"dann\",\"das\",\"dasselbe\",\"dazu\",\"da\\u00df\",\"dein\",\"deine\",\"deinem\",\"deinen\",\"deiner\",\"deines\",\"dem\",\"demselben\",\"den\",\"denn\",\"denselben\",\"der\",\"derer\",\"derselbe\",\"derselben\",\"des\",\"desselben\",\"dessen\",\"dich\",\"die\",\"dies\",\"diese\",\"dieselbe\",\"dieselben\",\"diesem\",\"diesen\",\"dieser\",\"dieses\",\"dir\",\"doch\",\"dort\",\"du\",\"durch\",\"ein\",\"eine\",\"einem\",\"einen\",\"einer\",\"eines\",\"einig\",\"einige\",\"einigem\",\"einigen\",\"einiger\",\"einiges\",\"einmal\",\"er\",\"es\",\"etwas\",\"euch\",\"euer\",\"eure\",\"eurem\",\"euren\",\"eurer\",\"eures\",\"f\\u00fcr\",\"gegen\",\"gewesen\",\"hab\",\"habe\",\"haben\",\"hat\",\"hatte\",\"hatten\",\"hier\",\"hin\",\"hinter\",\"ich\",\"ihm\",\"ihn\",\"ihnen\",\"ihr\",\"ihre\",\"ihrem\",\"ihren\",\"ihrer\",\"ihres\",\"im\",\"in\",\"indem\",\"ins\",\"ist\",\"jede\",\"jedem\",\"jeden\",\"jeder\",\"jedes\",\"jene\",\"jenem\",\"jenen\",\"jener\",\"jenes\",\"jetzt\",\"kann\",\"kein\",\"keine\",\"keinem\",\"keinen\",\"keiner\",\"keines\",\"k\\u00f6nnen\",\"k\\u00f6nnte\",\"machen\",\"man\",\"manche\",\"manchem\",\"manchen\",\"mancher\",\"manches\",\"mein\",\"meine\",\"meinem\",\"meinen\",\"meiner\",\"meines\",\"mich\",\"mir\",\"mit\",\"muss\",\"musste\",\"nach\",\"nicht\",\"nichts\",\"noch\",\"nun\",\"nur\",\"ob\",\"oder\",\"ohne\",\"sehr\",\"sein\",\"seine\",\"seinem\",\"seinen\",\"seiner\",\"seines\",\"selbst\",\"sich\",\"sie\",\"sind\",\"so\",\"solche\",\"solchem\",\"solchen\",\"solcher\",\"solches\",\"soll\",\"sollte\",\"sondern\",\"sonst\",\"um\",\"und\",\"uns\",\"unse\",\"unsem\",\"unsen\",\"unser\",\"unses\",\"unter\",\"viel\",\"vom\",\"von\",\"vor\",\"war\",\"waren\",\"warst\",\"was\",\"weg\",\"weil\",\"weiter\",\"welche\",\"welchem\",\"welchen\",\"welcher\",\"welches\",\"wenn\",\"werde\",\"werden\",\"wie\",\"wieder\",\"will\",\"wir\",\"wird\",\"wirst\",\"wo\",\"wollen\",\"wollte\",\"w\\u00e4hrend\",\"w\\u00fcrde\",\"w\\u00fcrden\",\"zu\",\"zum\",\"zur\",\"zwar\",\"zwischen\",\"\\u00fcber\"];"
   ]
  },
  {
   "cell_type": "code",
   "execution_count": 3,
   "id": "96ea3615",
   "metadata": {},
   "outputs": [
    {
     "data": {
      "text/plain": [
       "231"
      ]
     },
     "execution_count": 3,
     "metadata": {},
     "output_type": "execute_result"
    }
   ],
   "source": [
    "len(stopwords)"
   ]
  },
  {
   "cell_type": "markdown",
   "id": "15cfbe04",
   "metadata": {},
   "source": [
    "### Bauen und Testen des Analyzers"
   ]
  },
  {
   "cell_type": "code",
   "execution_count": 64,
   "id": "bd022f7b",
   "metadata": {},
   "outputs": [
    {
     "data": {
      "text/plain": [
       "['traceschritt', 'traceschrittanalys', 'analysiert']"
      ]
     },
     "execution_count": 64,
     "metadata": {},
     "output_type": "execute_result"
    }
   ],
   "source": [
    "custom_analyzer = RegexTokenizer() | LowercaseFilter() | StopFilter(stoplist=stopwords) | StemFilter(lang=\"de\")\n",
    "[token.text for token in ana(\"Traceschritte werden mit der Traceschrittanalyse analysiert.\")]"
   ]
  },
  {
   "cell_type": "code",
   "execution_count": 65,
   "id": "f7b4724a",
   "metadata": {},
   "outputs": [],
   "source": [
    "def createSearchableData(documents, indexdir_path, title_col=None, path_col=None, text_col=None, ending='.html'):   \n",
    " \n",
    "    '''\n",
    "    Schema definition: title(name of file), path(as ID), content(indexed\n",
    "    but not stored), textdata (stored text content)\n",
    "    '''\n",
    "    \n",
    "    # create Schema for indexing documents\n",
    "    schema = Schema(\n",
    "        title    = TEXT(stored=True),\n",
    "        path     = ID(stored=True), \n",
    "        content  = TEXT(analyzer=custom_analyzer),\n",
    "        textdata = TEXT(stored=True)\n",
    "    )\n",
    "    \n",
    "    # create dir for storing indexing results\n",
    "    if not os.path.exists(indexdir_path):\n",
    "        print(\"writing index to:\", indexdir_path)\n",
    "        os.mkdir(indexdir_path)\n",
    " \n",
    "    # Creating a index writer to add document as per schema\n",
    "    ix = create_in(indexdir_path, schema)\n",
    "    writer = ix.writer()\n",
    " \n",
    "    # add every document to index\n",
    "    for index, row in documents.iterrows():\n",
    "\n",
    "        path = row[path_col] if path_col else None\n",
    "        title = row[title_col] if title_col else None\n",
    "        text = row[text_col]\n",
    "\n",
    "        writer.add_document(title=title, path=path, content=text, textdata=text)\n",
    "    \n",
    "    writer.commit()"
   ]
  },
  {
   "cell_type": "markdown",
   "id": "e9f1689f",
   "metadata": {},
   "source": [
    "### Erstellen des Suchindex aus Dokumenten"
   ]
  },
  {
   "cell_type": "code",
   "execution_count": 7,
   "id": "7be71dbb",
   "metadata": {},
   "outputs": [
    {
     "name": "stdout",
     "output_type": "stream",
     "text": [
      "2022-05-23 21:33:27,932 - kedro.io.data_catalog - INFO - Loading data from `ecu_test_doku_parsed` (CSVDataSet)...\n"
     ]
    }
   ],
   "source": [
    "documents = catalog.load(\"ecu_test_doku_parsed\")"
   ]
  },
  {
   "cell_type": "code",
   "execution_count": 8,
   "id": "23a23deb",
   "metadata": {},
   "outputs": [
    {
     "data": {
      "text/html": [
       "<div>\n",
       "<style scoped>\n",
       "    .dataframe tbody tr th:only-of-type {\n",
       "        vertical-align: middle;\n",
       "    }\n",
       "\n",
       "    .dataframe tbody tr th {\n",
       "        vertical-align: top;\n",
       "    }\n",
       "\n",
       "    .dataframe thead th {\n",
       "        text-align: right;\n",
       "    }\n",
       "</style>\n",
       "<table border=\"1\" class=\"dataframe\">\n",
       "  <thead>\n",
       "    <tr style=\"text-align: right;\">\n",
       "      <th></th>\n",
       "      <th>Hash</th>\n",
       "      <th>Title</th>\n",
       "      <th>Filename</th>\n",
       "      <th>Body</th>\n",
       "    </tr>\n",
       "  </thead>\n",
       "  <tbody>\n",
       "    <tr>\n",
       "      <th>0</th>\n",
       "      <td>uYiNfC+uN3oa3EJut1CoRA==</td>\n",
       "      <td>EasyInsert</td>\n",
       "      <td>Bedienung/EasyInsert.html</td>\n",
       "      <td>['ECU-TEST bietet eine kontextsensitive Funkti...</td>\n",
       "    </tr>\n",
       "  </tbody>\n",
       "</table>\n",
       "</div>"
      ],
      "text/plain": [
       "                       Hash       Title                   Filename  \\\n",
       "0  uYiNfC+uN3oa3EJut1CoRA==  EasyInsert  Bedienung/EasyInsert.html   \n",
       "\n",
       "                                                Body  \n",
       "0  ['ECU-TEST bietet eine kontextsensitive Funkti...  "
      ]
     },
     "execution_count": 8,
     "metadata": {},
     "output_type": "execute_result"
    }
   ],
   "source": [
    "documents.head(1)"
   ]
  },
  {
   "cell_type": "code",
   "execution_count": 9,
   "id": "82b24e0d",
   "metadata": {},
   "outputs": [],
   "source": [
    "indexdir = \"../data/03_primary/ecu_test_index/\"\n",
    "createSearchableData(documents, indexdir, title_col='Title', path_col='Filename', text_col='Body')"
   ]
  },
  {
   "cell_type": "markdown",
   "id": "9458690e",
   "metadata": {},
   "source": [
    "### Testen der Suchfunktion und Ausgabe gefundener Resultate in DataFrame"
   ]
  },
  {
   "cell_type": "code",
   "execution_count": 66,
   "id": "997c2e73",
   "metadata": {},
   "outputs": [],
   "source": [
    "def query(query_str, parser='all', topN_results=10, verbose=True):\n",
    "    \n",
    "    result_rows = []   \n",
    "\n",
    "    # use same analyzer for preparing query string that has been used for indexing documents\n",
    "    query_str = \" \".join([token.text for token in custom_analyzer(query_str)])\n",
    "    if verbose: print(f'the query is: \"{query_str}\"')\n",
    "\n",
    "    ix = open_dir(indexdir) \n",
    "    with ix.searcher(weighting=scoring.BM25F) as searcher:\n",
    "        if parser == 'all':\n",
    "            query = QueryParser(\"content\", ix.schema).parse(query_str)\n",
    "        elif parser == 'any':\n",
    "            query = QueryParser(\"content\", ix.schema, group=OrGroup).parse(query_str)\n",
    "\n",
    "        results = searcher.search(query)\n",
    "\n",
    "        if len(results) > 0:\n",
    "            if verbose: print(f'\\nsearch yielded {len(results)} results in total')\n",
    "            num_res = topN_results if topN_results <= len(results) else len(results)\n",
    "            for i in range(num_res):\n",
    "                result_rows.append([results[i].score, results[i]['path']])\n",
    "        else:\n",
    "            if verbose: print('search yielded no hits')\n",
    "            return []\n",
    "\n",
    "    # convert results to dataframe and display\n",
    "    df = pd.DataFrame(result_rows)\n",
    "    df.columns = ['Score', 'Path']\n",
    "    \n",
    "    return df"
   ]
  },
  {
   "cell_type": "markdown",
   "id": "cddd1bdc",
   "metadata": {},
   "source": [
    "### Testquery 1"
   ]
  },
  {
   "cell_type": "code",
   "execution_count": 33,
   "id": "e1cc3844",
   "metadata": {},
   "outputs": [
    {
     "name": "stdout",
     "output_type": "stream",
     "text": [
      "the query is: \"traceschritt\"\n",
      "\n",
      "search yielded 34 results in total\n"
     ]
    },
    {
     "data": {
      "text/html": [
       "<div>\n",
       "<style scoped>\n",
       "    .dataframe tbody tr th:only-of-type {\n",
       "        vertical-align: middle;\n",
       "    }\n",
       "\n",
       "    .dataframe tbody tr th {\n",
       "        vertical-align: top;\n",
       "    }\n",
       "\n",
       "    .dataframe thead th {\n",
       "        text-align: right;\n",
       "    }\n",
       "</style>\n",
       "<table border=\"1\" class=\"dataframe\">\n",
       "  <thead>\n",
       "    <tr style=\"text-align: right;\">\n",
       "      <th></th>\n",
       "      <th>Score</th>\n",
       "      <th>Path</th>\n",
       "    </tr>\n",
       "  </thead>\n",
       "  <tbody>\n",
       "    <tr>\n",
       "      <th>0</th>\n",
       "      <td>8.535843</td>\n",
       "      <td>Hauptprogramm/Aktionsfenster/Testschritte-Kart...</td>\n",
       "    </tr>\n",
       "    <tr>\n",
       "      <th>1</th>\n",
       "      <td>7.213696</td>\n",
       "      <td>TRACE-CHECK/Handbuch/Traceanalyse-Entwurf/Asse...</td>\n",
       "    </tr>\n",
       "    <tr>\n",
       "      <th>2</th>\n",
       "      <td>7.060910</td>\n",
       "      <td>TRACE-CHECK/Handbuch/Traceanalyse-Entwurf/Sign...</td>\n",
       "    </tr>\n",
       "    <tr>\n",
       "      <th>3</th>\n",
       "      <td>6.988246</td>\n",
       "      <td>TRACE-CHECK/Handbuch/Traceanalyse-Entwurf/Abla...</td>\n",
       "    </tr>\n",
       "    <tr>\n",
       "      <th>4</th>\n",
       "      <td>6.903731</td>\n",
       "      <td>TRACE-CHECK/Handbuch/Traceanalyse-Entwurf/Gene...</td>\n",
       "    </tr>\n",
       "    <tr>\n",
       "      <th>5</th>\n",
       "      <td>6.594633</td>\n",
       "      <td>Testausfuehrung/Analyse-Jobs.html</td>\n",
       "    </tr>\n",
       "    <tr>\n",
       "      <th>6</th>\n",
       "      <td>6.594633</td>\n",
       "      <td>Workspace/Einstellungen/Workspace/Einstellunge...</td>\n",
       "    </tr>\n",
       "    <tr>\n",
       "      <th>7</th>\n",
       "      <td>6.449702</td>\n",
       "      <td>TRACE-CHECK/Handbuch/Traceanalyse-Entwurf/Gene...</td>\n",
       "    </tr>\n",
       "    <tr>\n",
       "      <th>8</th>\n",
       "      <td>6.038557</td>\n",
       "      <td>TRACE-CHECK/Handbuch/Traceanalyse-Entwurf/Trac...</td>\n",
       "    </tr>\n",
       "    <tr>\n",
       "      <th>9</th>\n",
       "      <td>5.645109</td>\n",
       "      <td>TRACE-CHECK/Handbuch/Traceanalyse-Entwurf/Konz...</td>\n",
       "    </tr>\n",
       "  </tbody>\n",
       "</table>\n",
       "</div>"
      ],
      "text/plain": [
       "      Score                                               Path\n",
       "0  8.535843  Hauptprogramm/Aktionsfenster/Testschritte-Kart...\n",
       "1  7.213696  TRACE-CHECK/Handbuch/Traceanalyse-Entwurf/Asse...\n",
       "2  7.060910  TRACE-CHECK/Handbuch/Traceanalyse-Entwurf/Sign...\n",
       "3  6.988246  TRACE-CHECK/Handbuch/Traceanalyse-Entwurf/Abla...\n",
       "4  6.903731  TRACE-CHECK/Handbuch/Traceanalyse-Entwurf/Gene...\n",
       "5  6.594633                  Testausfuehrung/Analyse-Jobs.html\n",
       "6  6.594633  Workspace/Einstellungen/Workspace/Einstellunge...\n",
       "7  6.449702  TRACE-CHECK/Handbuch/Traceanalyse-Entwurf/Gene...\n",
       "8  6.038557  TRACE-CHECK/Handbuch/Traceanalyse-Entwurf/Trac...\n",
       "9  5.645109  TRACE-CHECK/Handbuch/Traceanalyse-Entwurf/Konz..."
      ]
     },
     "execution_count": 33,
     "metadata": {},
     "output_type": "execute_result"
    }
   ],
   "source": [
    "query(\"Was ist ein Traceschritt?\")"
   ]
  },
  {
   "cell_type": "markdown",
   "id": "a60ba827",
   "metadata": {},
   "source": [
    "### Testquery 2"
   ]
  },
  {
   "cell_type": "code",
   "execution_count": 34,
   "id": "39ee34e1",
   "metadata": {},
   "outputs": [
    {
     "name": "stdout",
     "output_type": "stream",
     "text": [
      "the query is: \"erstellt traceschritt analys\"\n",
      "\n",
      "search yielded 8 results in total\n"
     ]
    },
    {
     "data": {
      "text/html": [
       "<div>\n",
       "<style scoped>\n",
       "    .dataframe tbody tr th:only-of-type {\n",
       "        vertical-align: middle;\n",
       "    }\n",
       "\n",
       "    .dataframe tbody tr th {\n",
       "        vertical-align: top;\n",
       "    }\n",
       "\n",
       "    .dataframe thead th {\n",
       "        text-align: right;\n",
       "    }\n",
       "</style>\n",
       "<table border=\"1\" class=\"dataframe\">\n",
       "  <thead>\n",
       "    <tr style=\"text-align: right;\">\n",
       "      <th></th>\n",
       "      <th>Score</th>\n",
       "      <th>Path</th>\n",
       "    </tr>\n",
       "  </thead>\n",
       "  <tbody>\n",
       "    <tr>\n",
       "      <th>0</th>\n",
       "      <td>12.141172</td>\n",
       "      <td>TRACE-CHECK/Handbuch/Traceanalyse-Entwurf/Konz...</td>\n",
       "    </tr>\n",
       "    <tr>\n",
       "      <th>1</th>\n",
       "      <td>8.530657</td>\n",
       "      <td>TRACE-CHECK/Handbuch/Traceanalyse-Entwurf/Abla...</td>\n",
       "    </tr>\n",
       "    <tr>\n",
       "      <th>2</th>\n",
       "      <td>8.129059</td>\n",
       "      <td>TRACE-CHECK/Tutorial/Erste/Traceanalyse/Beispi...</td>\n",
       "    </tr>\n",
       "    <tr>\n",
       "      <th>3</th>\n",
       "      <td>6.557274</td>\n",
       "      <td>TRACE-CHECK/Tutorial/Erste/Traceanalyse/Beispi...</td>\n",
       "    </tr>\n",
       "    <tr>\n",
       "      <th>4</th>\n",
       "      <td>5.120392</td>\n",
       "      <td>TRACE-CHECK/Tutorial/Erste/Traceanalyse/Beispi...</td>\n",
       "    </tr>\n",
       "    <tr>\n",
       "      <th>5</th>\n",
       "      <td>4.883498</td>\n",
       "      <td>TRACE-CHECK/Tutorial/Erste/Traceanalyse/Beispi...</td>\n",
       "    </tr>\n",
       "    <tr>\n",
       "      <th>6</th>\n",
       "      <td>3.688930</td>\n",
       "      <td>TRACE-CHECK/Handbuch/Traceanalyse-Entwurf/Diag...</td>\n",
       "    </tr>\n",
       "    <tr>\n",
       "      <th>7</th>\n",
       "      <td>3.554727</td>\n",
       "      <td>TRACE-CHECK/Handbuch/Traceanalyse-Entwurf/Bere...</td>\n",
       "    </tr>\n",
       "  </tbody>\n",
       "</table>\n",
       "</div>"
      ],
      "text/plain": [
       "       Score                                               Path\n",
       "0  12.141172  TRACE-CHECK/Handbuch/Traceanalyse-Entwurf/Konz...\n",
       "1   8.530657  TRACE-CHECK/Handbuch/Traceanalyse-Entwurf/Abla...\n",
       "2   8.129059  TRACE-CHECK/Tutorial/Erste/Traceanalyse/Beispi...\n",
       "3   6.557274  TRACE-CHECK/Tutorial/Erste/Traceanalyse/Beispi...\n",
       "4   5.120392  TRACE-CHECK/Tutorial/Erste/Traceanalyse/Beispi...\n",
       "5   4.883498  TRACE-CHECK/Tutorial/Erste/Traceanalyse/Beispi...\n",
       "6   3.688930  TRACE-CHECK/Handbuch/Traceanalyse-Entwurf/Diag...\n",
       "7   3.554727  TRACE-CHECK/Handbuch/Traceanalyse-Entwurf/Bere..."
      ]
     },
     "execution_count": 34,
     "metadata": {},
     "output_type": "execute_result"
    }
   ],
   "source": [
    "query(\"Wie erstellt man eine Traceschritt Analyse?\")"
   ]
  },
  {
   "cell_type": "markdown",
   "id": "07dd775f",
   "metadata": {},
   "source": [
    "### Testquery 3"
   ]
  },
  {
   "cell_type": "code",
   "execution_count": 35,
   "id": "5320ecb8",
   "metadata": {},
   "outputs": [
    {
     "name": "stdout",
     "output_type": "stream",
     "text": [
      "the query is: \"testfall erstellt\"\n",
      "\n",
      "search yielded 28 results in total\n"
     ]
    },
    {
     "data": {
      "text/html": [
       "<div>\n",
       "<style scoped>\n",
       "    .dataframe tbody tr th:only-of-type {\n",
       "        vertical-align: middle;\n",
       "    }\n",
       "\n",
       "    .dataframe tbody tr th {\n",
       "        vertical-align: top;\n",
       "    }\n",
       "\n",
       "    .dataframe thead th {\n",
       "        text-align: right;\n",
       "    }\n",
       "</style>\n",
       "<table border=\"1\" class=\"dataframe\">\n",
       "  <thead>\n",
       "    <tr style=\"text-align: right;\">\n",
       "      <th></th>\n",
       "      <th>Score</th>\n",
       "      <th>Path</th>\n",
       "    </tr>\n",
       "  </thead>\n",
       "  <tbody>\n",
       "    <tr>\n",
       "      <th>0</th>\n",
       "      <td>11.520841</td>\n",
       "      <td>Testausfuehrung/Testausfuehrung.html</td>\n",
       "    </tr>\n",
       "    <tr>\n",
       "      <th>1</th>\n",
       "      <td>9.453027</td>\n",
       "      <td>Hauptprogramm/Aktionsfenster/Testschritte-Kart...</td>\n",
       "    </tr>\n",
       "    <tr>\n",
       "      <th>2</th>\n",
       "      <td>8.576262</td>\n",
       "      <td>Testausfuehrung/Analyse-Jobs.html</td>\n",
       "    </tr>\n",
       "    <tr>\n",
       "      <th>3</th>\n",
       "      <td>7.498254</td>\n",
       "      <td>Getting/Started/GettingStarted.html</td>\n",
       "    </tr>\n",
       "    <tr>\n",
       "      <th>4</th>\n",
       "      <td>6.918499</td>\n",
       "      <td>TRACE-CHECK/Handbuch/Hinweise.html</td>\n",
       "    </tr>\n",
       "    <tr>\n",
       "      <th>5</th>\n",
       "      <td>5.930701</td>\n",
       "      <td>Getting/Started/GettingStarted.html</td>\n",
       "    </tr>\n",
       "    <tr>\n",
       "      <th>6</th>\n",
       "      <td>5.658978</td>\n",
       "      <td>Einfuehrung/Testen.html</td>\n",
       "    </tr>\n",
       "    <tr>\n",
       "      <th>7</th>\n",
       "      <td>5.623973</td>\n",
       "      <td>Einfuehrung/Workspace/Erstellen.html</td>\n",
       "    </tr>\n",
       "    <tr>\n",
       "      <th>8</th>\n",
       "      <td>5.500788</td>\n",
       "      <td>Tutorials/Tutorial/RealtimeTesting.html</td>\n",
       "    </tr>\n",
       "    <tr>\n",
       "      <th>9</th>\n",
       "      <td>5.238597</td>\n",
       "      <td>Hauptprogramm/Editor/Maskeneditor.html</td>\n",
       "    </tr>\n",
       "  </tbody>\n",
       "</table>\n",
       "</div>"
      ],
      "text/plain": [
       "       Score                                               Path\n",
       "0  11.520841               Testausfuehrung/Testausfuehrung.html\n",
       "1   9.453027  Hauptprogramm/Aktionsfenster/Testschritte-Kart...\n",
       "2   8.576262                  Testausfuehrung/Analyse-Jobs.html\n",
       "3   7.498254                Getting/Started/GettingStarted.html\n",
       "4   6.918499                 TRACE-CHECK/Handbuch/Hinweise.html\n",
       "5   5.930701                Getting/Started/GettingStarted.html\n",
       "6   5.658978                            Einfuehrung/Testen.html\n",
       "7   5.623973               Einfuehrung/Workspace/Erstellen.html\n",
       "8   5.500788            Tutorials/Tutorial/RealtimeTesting.html\n",
       "9   5.238597             Hauptprogramm/Editor/Maskeneditor.html"
      ]
     },
     "execution_count": 35,
     "metadata": {},
     "output_type": "execute_result"
    }
   ],
   "source": [
    "query(\"Wie wird ein Testfall erstellt?\")"
   ]
  },
  {
   "cell_type": "markdown",
   "id": "ca538b0c",
   "metadata": {},
   "source": [
    "### Testquery 4"
   ]
  },
  {
   "cell_type": "code",
   "execution_count": 36,
   "id": "dd0589d0",
   "metadata": {},
   "outputs": [
    {
     "name": "stdout",
     "output_type": "stream",
     "text": [
      "the query is: \"unterschied testfall traceschritt\"\n",
      "search yielded no hits\n"
     ]
    },
    {
     "data": {
      "text/plain": [
       "[]"
      ]
     },
     "execution_count": 36,
     "metadata": {},
     "output_type": "execute_result"
    }
   ],
   "source": [
    "query(\"Was ist der Unterschied zwischen Testfall und Traceschritt?\", parser='all')"
   ]
  },
  {
   "cell_type": "code",
   "execution_count": 37,
   "id": "f8a80f75",
   "metadata": {},
   "outputs": [
    {
     "name": "stdout",
     "output_type": "stream",
     "text": [
      "the query is: \"unterschied testfall traceschritt\"\n",
      "\n",
      "search yielded 213 results in total\n"
     ]
    },
    {
     "data": {
      "text/html": [
       "<div>\n",
       "<style scoped>\n",
       "    .dataframe tbody tr th:only-of-type {\n",
       "        vertical-align: middle;\n",
       "    }\n",
       "\n",
       "    .dataframe tbody tr th {\n",
       "        vertical-align: top;\n",
       "    }\n",
       "\n",
       "    .dataframe thead th {\n",
       "        text-align: right;\n",
       "    }\n",
       "</style>\n",
       "<table border=\"1\" class=\"dataframe\">\n",
       "  <thead>\n",
       "    <tr style=\"text-align: right;\">\n",
       "      <th></th>\n",
       "      <th>Score</th>\n",
       "      <th>Path</th>\n",
       "    </tr>\n",
       "  </thead>\n",
       "  <tbody>\n",
       "    <tr>\n",
       "      <th>0</th>\n",
       "      <td>10.033405</td>\n",
       "      <td>Testausfuehrung/Analyse-Jobs.html</td>\n",
       "    </tr>\n",
       "    <tr>\n",
       "      <th>1</th>\n",
       "      <td>8.946212</td>\n",
       "      <td>Einfuehrung/Grundlagen/Aufbau.html</td>\n",
       "    </tr>\n",
       "    <tr>\n",
       "      <th>2</th>\n",
       "      <td>8.535843</td>\n",
       "      <td>Hauptprogramm/Aktionsfenster/Testschritte-Kart...</td>\n",
       "    </tr>\n",
       "    <tr>\n",
       "      <th>3</th>\n",
       "      <td>8.283153</td>\n",
       "      <td>Testausfuehrung/Analyse-Jobs.html</td>\n",
       "    </tr>\n",
       "    <tr>\n",
       "      <th>4</th>\n",
       "      <td>8.283153</td>\n",
       "      <td>Tutorials/Tutorial/InteractiveTesting.html</td>\n",
       "    </tr>\n",
       "    <tr>\n",
       "      <th>5</th>\n",
       "      <td>8.189568</td>\n",
       "      <td>TRACE-CHECK/Handbuch/Traceanalyse-Entwurf/Sign...</td>\n",
       "    </tr>\n",
       "    <tr>\n",
       "      <th>6</th>\n",
       "      <td>7.755496</td>\n",
       "      <td>/build/Tools/Software/Schnittstellen/INCA/APPL...</td>\n",
       "    </tr>\n",
       "    <tr>\n",
       "      <th>7</th>\n",
       "      <td>7.755496</td>\n",
       "      <td>/build/Tools/Software/Schnittstellen/INCA/APPL...</td>\n",
       "    </tr>\n",
       "    <tr>\n",
       "      <th>8</th>\n",
       "      <td>7.553762</td>\n",
       "      <td>Einfuehrung/Tool/Anbinden.html</td>\n",
       "    </tr>\n",
       "    <tr>\n",
       "      <th>9</th>\n",
       "      <td>7.213696</td>\n",
       "      <td>TRACE-CHECK/Handbuch/Traceanalyse-Entwurf/Asse...</td>\n",
       "    </tr>\n",
       "  </tbody>\n",
       "</table>\n",
       "</div>"
      ],
      "text/plain": [
       "       Score                                               Path\n",
       "0  10.033405                  Testausfuehrung/Analyse-Jobs.html\n",
       "1   8.946212                 Einfuehrung/Grundlagen/Aufbau.html\n",
       "2   8.535843  Hauptprogramm/Aktionsfenster/Testschritte-Kart...\n",
       "3   8.283153                  Testausfuehrung/Analyse-Jobs.html\n",
       "4   8.283153         Tutorials/Tutorial/InteractiveTesting.html\n",
       "5   8.189568  TRACE-CHECK/Handbuch/Traceanalyse-Entwurf/Sign...\n",
       "6   7.755496  /build/Tools/Software/Schnittstellen/INCA/APPL...\n",
       "7   7.755496  /build/Tools/Software/Schnittstellen/INCA/APPL...\n",
       "8   7.553762                     Einfuehrung/Tool/Anbinden.html\n",
       "9   7.213696  TRACE-CHECK/Handbuch/Traceanalyse-Entwurf/Asse..."
      ]
     },
     "execution_count": 37,
     "metadata": {},
     "output_type": "execute_result"
    }
   ],
   "source": [
    "query(\"Was ist der Unterschied zwischen Testfall und Traceschritt?\", parser='any')"
   ]
  },
  {
   "cell_type": "markdown",
   "id": "11dc3c24",
   "metadata": {},
   "source": [
    "## Testen der Suchfunktion an Germanquad Datensatz"
   ]
  },
  {
   "cell_type": "markdown",
   "id": "e586df64",
   "metadata": {},
   "source": [
    "### Laden des Datensatzes als DataFrame"
   ]
  },
  {
   "cell_type": "code",
   "execution_count": 38,
   "id": "0f0fca15",
   "metadata": {},
   "outputs": [
    {
     "name": "stdout",
     "output_type": "stream",
     "text": [
      "2022-05-23 21:43:06,233 - kedro.io.data_catalog - INFO - Loading data from `germanquad_validation` (CSVDataSet)...\n"
     ]
    }
   ],
   "source": [
    "germanquad = catalog.load(\"germanquad_validation\")"
   ]
  },
  {
   "cell_type": "code",
   "execution_count": 39,
   "id": "1a2f1171",
   "metadata": {},
   "outputs": [
    {
     "data": {
      "text/html": [
       "<div>\n",
       "<style scoped>\n",
       "    .dataframe tbody tr th:only-of-type {\n",
       "        vertical-align: middle;\n",
       "    }\n",
       "\n",
       "    .dataframe tbody tr th {\n",
       "        vertical-align: top;\n",
       "    }\n",
       "\n",
       "    .dataframe thead th {\n",
       "        text-align: right;\n",
       "    }\n",
       "</style>\n",
       "<table border=\"1\" class=\"dataframe\">\n",
       "  <thead>\n",
       "    <tr style=\"text-align: right;\">\n",
       "      <th></th>\n",
       "      <th>id</th>\n",
       "      <th>context</th>\n",
       "      <th>question</th>\n",
       "      <th>answers</th>\n",
       "    </tr>\n",
       "  </thead>\n",
       "  <tbody>\n",
       "    <tr>\n",
       "      <th>0</th>\n",
       "      <td>40369</td>\n",
       "      <td>Aufzugsanlage\\n\\n=== Seilloser Aufzug ===\\nAn ...</td>\n",
       "      <td>Was kann den Verschleiß des seillosen Aufzuges...</td>\n",
       "      <td>{'text': array(['elektromagnetischer Linearfüh...</td>\n",
       "    </tr>\n",
       "    <tr>\n",
       "      <th>1</th>\n",
       "      <td>40370</td>\n",
       "      <td>Aufzugsanlage\\n\\n=== Seilloser Aufzug ===\\nAn ...</td>\n",
       "      <td>In welcher deutschen Stadt wird der seillose A...</td>\n",
       "      <td>{'text': array(['Rottweil', 'Rottweil'], dtype...</td>\n",
       "    </tr>\n",
       "    <tr>\n",
       "      <th>2</th>\n",
       "      <td>40366</td>\n",
       "      <td>Aufzugsanlage\\n\\n=== Seilloser Aufzug ===\\nAn ...</td>\n",
       "      <td>Wo wurde ein seilloser Aufzug entwickelt?</td>\n",
       "      <td>{'text': array(['An der RWTH Aachen im Institu...</td>\n",
       "    </tr>\n",
       "    <tr>\n",
       "      <th>3</th>\n",
       "      <td>40367</td>\n",
       "      <td>Aufzugsanlage\\n\\n=== Seilloser Aufzug ===\\nAn ...</td>\n",
       "      <td>Wie funktioniert ein seilloser Aufzug?</td>\n",
       "      <td>{'text': array(['Die Kabine wird hierbei durch...</td>\n",
       "    </tr>\n",
       "    <tr>\n",
       "      <th>4</th>\n",
       "      <td>40368</td>\n",
       "      <td>Aufzugsanlage\\n\\n=== Seilloser Aufzug ===\\nAn ...</td>\n",
       "      <td>Wann muss man die Zieletage in seillosen Aufzü...</td>\n",
       "      <td>{'text': array(['vor Fahrtantritt (d.\\xa0h. no...</td>\n",
       "    </tr>\n",
       "  </tbody>\n",
       "</table>\n",
       "</div>"
      ],
      "text/plain": [
       "      id                                            context  \\\n",
       "0  40369  Aufzugsanlage\\n\\n=== Seilloser Aufzug ===\\nAn ...   \n",
       "1  40370  Aufzugsanlage\\n\\n=== Seilloser Aufzug ===\\nAn ...   \n",
       "2  40366  Aufzugsanlage\\n\\n=== Seilloser Aufzug ===\\nAn ...   \n",
       "3  40367  Aufzugsanlage\\n\\n=== Seilloser Aufzug ===\\nAn ...   \n",
       "4  40368  Aufzugsanlage\\n\\n=== Seilloser Aufzug ===\\nAn ...   \n",
       "\n",
       "                                            question  \\\n",
       "0  Was kann den Verschleiß des seillosen Aufzuges...   \n",
       "1  In welcher deutschen Stadt wird der seillose A...   \n",
       "2          Wo wurde ein seilloser Aufzug entwickelt?   \n",
       "3             Wie funktioniert ein seilloser Aufzug?   \n",
       "4  Wann muss man die Zieletage in seillosen Aufzü...   \n",
       "\n",
       "                                             answers  \n",
       "0  {'text': array(['elektromagnetischer Linearfüh...  \n",
       "1  {'text': array(['Rottweil', 'Rottweil'], dtype...  \n",
       "2  {'text': array(['An der RWTH Aachen im Institu...  \n",
       "3  {'text': array(['Die Kabine wird hierbei durch...  \n",
       "4  {'text': array(['vor Fahrtantritt (d.\\xa0h. no...  "
      ]
     },
     "execution_count": 39,
     "metadata": {},
     "output_type": "execute_result"
    }
   ],
   "source": [
    "germanquad.head()"
   ]
  },
  {
   "cell_type": "markdown",
   "id": "28525bbb",
   "metadata": {},
   "source": [
    "### Hashen aller Kontexte, da Kontexte mehrfach auftreten (mehrere Fragen pro Kontext)"
   ]
  },
  {
   "cell_type": "code",
   "execution_count": 40,
   "id": "46eb3ff9",
   "metadata": {},
   "outputs": [],
   "source": [
    "import hashlib\n",
    "import base64\n",
    "\n",
    "def hash_context(text):\n",
    "    return base64.b64encode(hashlib.md5(text.encode('utf-8')).digest()).decode()"
   ]
  },
  {
   "cell_type": "code",
   "execution_count": 41,
   "id": "bef7be82",
   "metadata": {},
   "outputs": [
    {
     "data": {
      "text/plain": [
       "'Aufzugsanlage\\n\\n=== Seilloser Aufzug ===\\nAn der RWTH Aachen im Institut für Elektrische Maschinen wur'"
      ]
     },
     "execution_count": 41,
     "metadata": {},
     "output_type": "execute_result"
    }
   ],
   "source": [
    "_test_context = germanquad['context'].iloc[1]\n",
    "_test_context[:100]"
   ]
  },
  {
   "cell_type": "code",
   "execution_count": 42,
   "id": "a4c11acd",
   "metadata": {},
   "outputs": [
    {
     "data": {
      "text/plain": [
       "'1Hu25PJK/VZwj72Is7G8vw=='"
      ]
     },
     "execution_count": 42,
     "metadata": {},
     "output_type": "execute_result"
    }
   ],
   "source": [
    "hsh = hashlib.md5(_test_context.encode('utf-8')).digest()\n",
    "base64.b64encode(hsh).decode()"
   ]
  },
  {
   "cell_type": "code",
   "execution_count": 43,
   "id": "ce8ed8d2",
   "metadata": {},
   "outputs": [
    {
     "data": {
      "text/plain": [
       "'1Hu25PJK/VZwj72Is7G8vw=='"
      ]
     },
     "execution_count": 43,
     "metadata": {},
     "output_type": "execute_result"
    }
   ],
   "source": [
    "hash_context(_test_context)"
   ]
  },
  {
   "cell_type": "markdown",
   "id": "22ba689b",
   "metadata": {},
   "source": [
    "### Erstellen eines Index für Germanquad\n",
    "Dabei werden nur unique Kontexte indiziert. Der Inhalt (Text) wird gehashed und dient als Pfad um später beim Testen einen Fragekontext einem Kontext im Index zuordnen zu können."
   ]
  },
  {
   "cell_type": "code",
   "execution_count": 44,
   "id": "5412b775",
   "metadata": {},
   "outputs": [],
   "source": [
    "germanquad_contexts = germanquad['context']"
   ]
  },
  {
   "cell_type": "code",
   "execution_count": 45,
   "id": "bf86fd47",
   "metadata": {},
   "outputs": [
    {
     "data": {
      "text/plain": [
       "(474,)"
      ]
     },
     "execution_count": 45,
     "metadata": {},
     "output_type": "execute_result"
    }
   ],
   "source": [
    "germanquad_contexts.unique().shape"
   ]
  },
  {
   "cell_type": "code",
   "execution_count": 46,
   "id": "92e1585c",
   "metadata": {},
   "outputs": [],
   "source": [
    "unique_contexts_with_hash = []\n",
    "for c in germanquad_contexts.unique():\n",
    "    hsh = hash_context(c)\n",
    "    unique_contexts_with_hash.append({\"hash\": hsh, \"context\": c})"
   ]
  },
  {
   "cell_type": "code",
   "execution_count": 47,
   "id": "e2422015",
   "metadata": {},
   "outputs": [
    {
     "data": {
      "text/html": [
       "<div>\n",
       "<style scoped>\n",
       "    .dataframe tbody tr th:only-of-type {\n",
       "        vertical-align: middle;\n",
       "    }\n",
       "\n",
       "    .dataframe tbody tr th {\n",
       "        vertical-align: top;\n",
       "    }\n",
       "\n",
       "    .dataframe thead th {\n",
       "        text-align: right;\n",
       "    }\n",
       "</style>\n",
       "<table border=\"1\" class=\"dataframe\">\n",
       "  <thead>\n",
       "    <tr style=\"text-align: right;\">\n",
       "      <th></th>\n",
       "      <th>hash</th>\n",
       "      <th>context</th>\n",
       "    </tr>\n",
       "  </thead>\n",
       "  <tbody>\n",
       "    <tr>\n",
       "      <th>0</th>\n",
       "      <td>1Hu25PJK/VZwj72Is7G8vw==</td>\n",
       "      <td>Aufzugsanlage\\n\\n=== Seilloser Aufzug ===\\nAn ...</td>\n",
       "    </tr>\n",
       "    <tr>\n",
       "      <th>1</th>\n",
       "      <td>60+PszMaTC1g1qvjxof4ng==</td>\n",
       "      <td>Sichuan\\n\\n=== Landwirtschaft ===\\nSichuan gil...</td>\n",
       "    </tr>\n",
       "    <tr>\n",
       "      <th>2</th>\n",
       "      <td>BNjqad/eGjINJp6eKBXS1g==</td>\n",
       "      <td>Antenne\\n\\n==== Polarisation ====\\nAntennen st...</td>\n",
       "    </tr>\n",
       "    <tr>\n",
       "      <th>3</th>\n",
       "      <td>pfO/sDJuLD9rxUNBLlzYVQ==</td>\n",
       "      <td>Softwaretest\\n\\n== Ziele ==\\n''Globales Ziel''...</td>\n",
       "    </tr>\n",
       "    <tr>\n",
       "      <th>4</th>\n",
       "      <td>FN6vYWPIl+LT4/A3IfIEqg==</td>\n",
       "      <td>Tuberkulose\\n\\n=== 19. Jahrhundert ===\\nAufgru...</td>\n",
       "    </tr>\n",
       "  </tbody>\n",
       "</table>\n",
       "</div>"
      ],
      "text/plain": [
       "                       hash                                            context\n",
       "0  1Hu25PJK/VZwj72Is7G8vw==  Aufzugsanlage\\n\\n=== Seilloser Aufzug ===\\nAn ...\n",
       "1  60+PszMaTC1g1qvjxof4ng==  Sichuan\\n\\n=== Landwirtschaft ===\\nSichuan gil...\n",
       "2  BNjqad/eGjINJp6eKBXS1g==  Antenne\\n\\n==== Polarisation ====\\nAntennen st...\n",
       "3  pfO/sDJuLD9rxUNBLlzYVQ==  Softwaretest\\n\\n== Ziele ==\\n''Globales Ziel''...\n",
       "4  FN6vYWPIl+LT4/A3IfIEqg==  Tuberkulose\\n\\n=== 19. Jahrhundert ===\\nAufgru..."
      ]
     },
     "execution_count": 47,
     "metadata": {},
     "output_type": "execute_result"
    }
   ],
   "source": [
    "pd.DataFrame(unique_contexts_with_hash).head(5)"
   ]
  },
  {
   "cell_type": "code",
   "execution_count": 48,
   "id": "60d3fcb8",
   "metadata": {},
   "outputs": [],
   "source": [
    "indexdir = \"../data/03_primary/germanquad_index/\"\n",
    "createSearchableData(pd.DataFrame(unique_contexts_with_hash), indexdir, path_col='hash', text_col='context')"
   ]
  },
  {
   "cell_type": "markdown",
   "id": "c6366b28",
   "metadata": {},
   "source": [
    "### Zufällige Frage wählen und prüfen ob richtiger Kontext von Stichwortsuche gefunden wird"
   ]
  },
  {
   "cell_type": "code",
   "execution_count": 62,
   "id": "96c766a0",
   "metadata": {},
   "outputs": [
    {
     "name": "stdout",
     "output_type": "stream",
     "text": [
      "question is : War die Republik der Vereinigten Niederlande ein Zentralstaat?\n",
      "the query is: \"republ vereinigt niederland zentralstaat\"\n",
      "\n",
      "search yielded 1 results in total\n",
      "context is: b5lnyL2wk0wWaKesnNAtLg== and is \n",
      "        among top 5 answers\n"
     ]
    },
    {
     "data": {
      "text/html": [
       "<div>\n",
       "<style scoped>\n",
       "    .dataframe tbody tr th:only-of-type {\n",
       "        vertical-align: middle;\n",
       "    }\n",
       "\n",
       "    .dataframe tbody tr th {\n",
       "        vertical-align: top;\n",
       "    }\n",
       "\n",
       "    .dataframe thead th {\n",
       "        text-align: right;\n",
       "    }\n",
       "</style>\n",
       "<table border=\"1\" class=\"dataframe\">\n",
       "  <thead>\n",
       "    <tr style=\"text-align: right;\">\n",
       "      <th></th>\n",
       "      <th>Score</th>\n",
       "      <th>Path</th>\n",
       "    </tr>\n",
       "  </thead>\n",
       "  <tbody>\n",
       "    <tr>\n",
       "      <th>0</th>\n",
       "      <td>20.34054</td>\n",
       "      <td>b5lnyL2wk0wWaKesnNAtLg==</td>\n",
       "    </tr>\n",
       "  </tbody>\n",
       "</table>\n",
       "</div>"
      ],
      "text/plain": [
       "      Score                      Path\n",
       "0  20.34054  b5lnyL2wk0wWaKesnNAtLg=="
      ]
     },
     "metadata": {},
     "output_type": "display_data"
    }
   ],
   "source": [
    "# pick random sample and query the question\n",
    "s = germanquad.sample()\n",
    "\n",
    "s_q = s['question'].iloc[0]\n",
    "s_id = s['id'].iloc[0]\n",
    "print(\"question is :\", s_q)\n",
    "\n",
    "# calculate results\n",
    "result = query(s_q)\n",
    "\n",
    "# check wether hash of context - question pair is within top 5 answers\n",
    "correct_context = hash_context(s['context'].iloc[0])\n",
    "if len(result) > 0:\n",
    "    print(f'''context is: {correct_context} and is \n",
    "        {'not ' if correct_context not in list(result['Path'])[:5] else ''}among top 5 answers''')\n",
    "    \n",
    "display(result)"
   ]
  },
  {
   "cell_type": "markdown",
   "id": "90730e41",
   "metadata": {},
   "source": [
    "### Berechne Top5-Score für alle Fragen + Kontexte\n",
    "Frage gilt dann als richtig beantwortet, wenn Kontext zur Frage innerhalb der ersten 5 Suchergebnisse ist. Dabei müssen **alle** Tokens der Query (nach Filtern der Suchanfrage) im Kontext enthalten sein (Suchtyp: all)"
   ]
  },
  {
   "cell_type": "code",
   "execution_count": 50,
   "id": "26f3352a",
   "metadata": {},
   "outputs": [],
   "source": [
    "hit_count = 0\n",
    "for index, row in germanquad.iterrows():\n",
    "    _q = row['question']\n",
    "    _id = row['id']\n",
    "    _res = query(_q, verbose=False, parser='all')\n",
    "    _corr_ctxt = hash_context(row['context'])\n",
    "    if len(_res) == 0: continue\n",
    "    if _corr_ctxt in list(_res['Path'])[:5]:\n",
    "        hit_count += 1      "
   ]
  },
  {
   "cell_type": "code",
   "execution_count": 51,
   "id": "c448f5ad",
   "metadata": {},
   "outputs": [
    {
     "name": "stdout",
     "output_type": "stream",
     "text": [
      "accuracy is: 0.17\n"
     ]
    }
   ],
   "source": [
    "print('accuracy is:', round(hit_count / len(germanquad), 2))"
   ]
  },
  {
   "cell_type": "markdown",
   "id": "93e7541a",
   "metadata": {},
   "source": [
    "### Berechnung Top5-Score mit Suchtyp: 'any'\n",
    "Anstelle von allen Wörtern (Wortstämmen) der Suchanfragen muss jetzt nur **eins** der Wörter im Kontext enthalten sein, um gefunden zu werden. "
   ]
  },
  {
   "cell_type": "code",
   "execution_count": 52,
   "id": "a13e5403",
   "metadata": {},
   "outputs": [],
   "source": [
    "hit_count = 0\n",
    "for index, row in germanquad.iterrows():\n",
    "    _q = row['question']\n",
    "    _id = row['id']\n",
    "    _res = query(_q, verbose=False, parser='any')\n",
    "    _corr_ctxt = hash_context(row['context'])\n",
    "    if len(_res) == 0: continue\n",
    "    if _corr_ctxt in list(_res['Path'])[:5]:\n",
    "        hit_count += 1      "
   ]
  },
  {
   "cell_type": "code",
   "execution_count": 53,
   "id": "da977aad",
   "metadata": {},
   "outputs": [
    {
     "name": "stdout",
     "output_type": "stream",
     "text": [
      "accuracy is: 0.96\n"
     ]
    }
   ],
   "source": [
    "print('accuracy is:', round(hit_count / len(germanquad), 2))"
   ]
  },
  {
   "cell_type": "markdown",
   "id": "48229990",
   "metadata": {},
   "source": [
    "### Berechnung Top1-Score mit Suchtyp: 'any'"
   ]
  },
  {
   "cell_type": "code",
   "execution_count": 54,
   "id": "ce94cd3f",
   "metadata": {},
   "outputs": [],
   "source": [
    "hit_count = 0\n",
    "for index, row in germanquad.iterrows():\n",
    "    _q = row['question']\n",
    "    _id = row['id']\n",
    "    _res = query(_q, verbose=False, parser='any')\n",
    "    _corr_ctxt = hash_context(row['context'])\n",
    "    if len(_res) == 0: continue\n",
    "    if _corr_ctxt in list(_res['Path'])[:1]:\n",
    "        hit_count += 1      "
   ]
  },
  {
   "cell_type": "code",
   "execution_count": 55,
   "id": "0da6383b",
   "metadata": {},
   "outputs": [
    {
     "name": "stdout",
     "output_type": "stream",
     "text": [
      "accuracy is: 0.87\n"
     ]
    }
   ],
   "source": [
    "print('accuracy is:', round(hit_count / len(germanquad), 2))"
   ]
  }
 ],
 "metadata": {
  "kernelspec": {
   "display_name": "Kedro (quaseldoku)",
   "language": "python",
   "name": "kedro_quaseldoku"
  },
  "language_info": {
   "codemirror_mode": {
    "name": "ipython",
    "version": 3
   },
   "file_extension": ".py",
   "mimetype": "text/x-python",
   "name": "python",
   "nbconvert_exporter": "python",
   "pygments_lexer": "ipython3",
   "version": "3.8.2"
  }
 },
 "nbformat": 4,
 "nbformat_minor": 5
}
