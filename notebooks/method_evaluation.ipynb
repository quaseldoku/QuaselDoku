{
 "cells": [
  {
   "cell_type": "code",
   "execution_count": 97,
   "id": "83257e28",
   "metadata": {},
   "outputs": [
    {
     "name": "stdout",
     "output_type": "stream",
     "text": [
      "2022-06-07 21:55:55,609 - kedro.io.data_catalog - INFO - Loading data from `test_results` (CSVDataSet)...\n"
     ]
    }
   ],
   "source": [
    "res = catalog.load('test_results')"
   ]
  },
  {
   "cell_type": "code",
   "execution_count": 98,
   "id": "f0377d94",
   "metadata": {},
   "outputs": [
    {
     "data": {
      "text/html": [
       "<div>\n",
       "<style scoped>\n",
       "    .dataframe tbody tr th:only-of-type {\n",
       "        vertical-align: middle;\n",
       "    }\n",
       "\n",
       "    .dataframe tbody tr th {\n",
       "        vertical-align: top;\n",
       "    }\n",
       "\n",
       "    .dataframe thead th {\n",
       "        text-align: right;\n",
       "    }\n",
       "</style>\n",
       "<table border=\"1\" class=\"dataframe\">\n",
       "  <thead>\n",
       "    <tr style=\"text-align: right;\">\n",
       "      <th></th>\n",
       "      <th>2204</th>\n",
       "      <th>2203</th>\n",
       "      <th>2202</th>\n",
       "      <th>2201</th>\n",
       "      <th>2200</th>\n",
       "      <th>2199</th>\n",
       "      <th>2198</th>\n",
       "      <th>2197</th>\n",
       "      <th>2196</th>\n",
       "      <th>2195</th>\n",
       "      <th>...</th>\n",
       "      <th>10</th>\n",
       "      <th>9</th>\n",
       "      <th>8</th>\n",
       "      <th>7</th>\n",
       "      <th>6</th>\n",
       "      <th>5</th>\n",
       "      <th>4</th>\n",
       "      <th>3</th>\n",
       "      <th>2</th>\n",
       "      <th>1</th>\n",
       "    </tr>\n",
       "  </thead>\n",
       "  <tbody>\n",
       "    <tr>\n",
       "      <th>0</th>\n",
       "      <td>NaN</td>\n",
       "      <td>NaN</td>\n",
       "      <td>NaN</td>\n",
       "      <td>NaN</td>\n",
       "      <td>NaN</td>\n",
       "      <td>NaN</td>\n",
       "      <td>NaN</td>\n",
       "      <td>NaN</td>\n",
       "      <td>NaN</td>\n",
       "      <td>NaN</td>\n",
       "      <td>...</td>\n",
       "      <td>0.500</td>\n",
       "      <td>0.500</td>\n",
       "      <td>0.490</td>\n",
       "      <td>0.480</td>\n",
       "      <td>0.470</td>\n",
       "      <td>0.470</td>\n",
       "      <td>0.460</td>\n",
       "      <td>0.410</td>\n",
       "      <td>0.410</td>\n",
       "      <td>0.310</td>\n",
       "    </tr>\n",
       "    <tr>\n",
       "      <th>1</th>\n",
       "      <td>0.994</td>\n",
       "      <td>0.994</td>\n",
       "      <td>0.994</td>\n",
       "      <td>0.994</td>\n",
       "      <td>0.994</td>\n",
       "      <td>0.994</td>\n",
       "      <td>0.994</td>\n",
       "      <td>0.994</td>\n",
       "      <td>0.994</td>\n",
       "      <td>0.994</td>\n",
       "      <td>...</td>\n",
       "      <td>0.980</td>\n",
       "      <td>0.978</td>\n",
       "      <td>0.977</td>\n",
       "      <td>0.975</td>\n",
       "      <td>0.973</td>\n",
       "      <td>0.965</td>\n",
       "      <td>0.957</td>\n",
       "      <td>0.948</td>\n",
       "      <td>0.932</td>\n",
       "      <td>0.872</td>\n",
       "    </tr>\n",
       "    <tr>\n",
       "      <th>2</th>\n",
       "      <td>NaN</td>\n",
       "      <td>NaN</td>\n",
       "      <td>NaN</td>\n",
       "      <td>NaN</td>\n",
       "      <td>NaN</td>\n",
       "      <td>NaN</td>\n",
       "      <td>NaN</td>\n",
       "      <td>NaN</td>\n",
       "      <td>NaN</td>\n",
       "      <td>NaN</td>\n",
       "      <td>...</td>\n",
       "      <td>0.210</td>\n",
       "      <td>0.210</td>\n",
       "      <td>0.210</td>\n",
       "      <td>0.200</td>\n",
       "      <td>0.200</td>\n",
       "      <td>0.190</td>\n",
       "      <td>0.190</td>\n",
       "      <td>0.170</td>\n",
       "      <td>0.140</td>\n",
       "      <td>0.070</td>\n",
       "    </tr>\n",
       "    <tr>\n",
       "      <th>3</th>\n",
       "      <td>0.714</td>\n",
       "      <td>0.714</td>\n",
       "      <td>0.714</td>\n",
       "      <td>0.714</td>\n",
       "      <td>0.714</td>\n",
       "      <td>0.714</td>\n",
       "      <td>0.714</td>\n",
       "      <td>0.714</td>\n",
       "      <td>0.714</td>\n",
       "      <td>0.714</td>\n",
       "      <td>...</td>\n",
       "      <td>0.498</td>\n",
       "      <td>0.491</td>\n",
       "      <td>0.478</td>\n",
       "      <td>0.464</td>\n",
       "      <td>0.453</td>\n",
       "      <td>0.433</td>\n",
       "      <td>0.414</td>\n",
       "      <td>0.389</td>\n",
       "      <td>0.373</td>\n",
       "      <td>0.359</td>\n",
       "    </tr>\n",
       "  </tbody>\n",
       "</table>\n",
       "<p>4 rows × 2205 columns</p>\n",
       "</div>"
      ],
      "text/plain": [
       "    2204   2203   2202   2201   2200   2199   2198   2197   2196   2195  ...  \\\n",
       "0    NaN    NaN    NaN    NaN    NaN    NaN    NaN    NaN    NaN    NaN  ...   \n",
       "1  0.994  0.994  0.994  0.994  0.994  0.994  0.994  0.994  0.994  0.994  ...   \n",
       "2    NaN    NaN    NaN    NaN    NaN    NaN    NaN    NaN    NaN    NaN  ...   \n",
       "3  0.714  0.714  0.714  0.714  0.714  0.714  0.714  0.714  0.714  0.714  ...   \n",
       "\n",
       "      10      9      8      7      6      5      4      3      2      1  \n",
       "0  0.500  0.500  0.490  0.480  0.470  0.470  0.460  0.410  0.410  0.310  \n",
       "1  0.980  0.978  0.977  0.975  0.973  0.965  0.957  0.948  0.932  0.872  \n",
       "2  0.210  0.210  0.210  0.200  0.200  0.190  0.190  0.170  0.140  0.070  \n",
       "3  0.498  0.491  0.478  0.464  0.453  0.433  0.414  0.389  0.373  0.359  \n",
       "\n",
       "[4 rows x 2205 columns]"
      ]
     },
     "execution_count": 98,
     "metadata": {},
     "output_type": "execute_result"
    }
   ],
   "source": [
    "res.head()"
   ]
  },
  {
   "cell_type": "code",
   "execution_count": 99,
   "id": "f7255836",
   "metadata": {},
   "outputs": [
    {
     "data": {
      "text/plain": [
       "['keyword:ecu_test_doku',\n",
       " 'keyword:germanquad',\n",
       " 'semantic:ecu_test_doku',\n",
       " 'semantic:germanquad']"
      ]
     },
     "execution_count": 99,
     "metadata": {},
     "output_type": "execute_result"
    }
   ],
   "source": [
    "# reverse column order and drop labels\n",
    "dataset = res['dataset'].tolist()\n",
    "_res = res[res.columns[::-1]].drop(columns=['dataset'])\n",
    "dataset"
   ]
  },
  {
   "cell_type": "code",
   "execution_count": 100,
   "id": "88e44478",
   "metadata": {},
   "outputs": [
    {
     "data": {
      "text/html": [
       "<div>\n",
       "<style scoped>\n",
       "    .dataframe tbody tr th:only-of-type {\n",
       "        vertical-align: middle;\n",
       "    }\n",
       "\n",
       "    .dataframe tbody tr th {\n",
       "        vertical-align: top;\n",
       "    }\n",
       "\n",
       "    .dataframe thead th {\n",
       "        text-align: right;\n",
       "    }\n",
       "</style>\n",
       "<table border=\"1\" class=\"dataframe\">\n",
       "  <thead>\n",
       "    <tr style=\"text-align: right;\">\n",
       "      <th></th>\n",
       "      <th>1</th>\n",
       "      <th>2</th>\n",
       "      <th>3</th>\n",
       "      <th>4</th>\n",
       "      <th>5</th>\n",
       "      <th>6</th>\n",
       "      <th>7</th>\n",
       "      <th>8</th>\n",
       "      <th>9</th>\n",
       "      <th>10</th>\n",
       "      <th>...</th>\n",
       "      <th>2195</th>\n",
       "      <th>2196</th>\n",
       "      <th>2197</th>\n",
       "      <th>2198</th>\n",
       "      <th>2199</th>\n",
       "      <th>2200</th>\n",
       "      <th>2201</th>\n",
       "      <th>2202</th>\n",
       "      <th>2203</th>\n",
       "      <th>2204</th>\n",
       "    </tr>\n",
       "  </thead>\n",
       "  <tbody>\n",
       "    <tr>\n",
       "      <th>0</th>\n",
       "      <td>0.310</td>\n",
       "      <td>0.410</td>\n",
       "      <td>0.410</td>\n",
       "      <td>0.460</td>\n",
       "      <td>0.470</td>\n",
       "      <td>0.470</td>\n",
       "      <td>0.480</td>\n",
       "      <td>0.490</td>\n",
       "      <td>0.500</td>\n",
       "      <td>0.500</td>\n",
       "      <td>...</td>\n",
       "      <td>0.000</td>\n",
       "      <td>0.000</td>\n",
       "      <td>0.000</td>\n",
       "      <td>0.000</td>\n",
       "      <td>0.000</td>\n",
       "      <td>0.000</td>\n",
       "      <td>0.000</td>\n",
       "      <td>0.000</td>\n",
       "      <td>0.000</td>\n",
       "      <td>0.000</td>\n",
       "    </tr>\n",
       "    <tr>\n",
       "      <th>1</th>\n",
       "      <td>0.872</td>\n",
       "      <td>0.932</td>\n",
       "      <td>0.948</td>\n",
       "      <td>0.957</td>\n",
       "      <td>0.965</td>\n",
       "      <td>0.973</td>\n",
       "      <td>0.975</td>\n",
       "      <td>0.977</td>\n",
       "      <td>0.978</td>\n",
       "      <td>0.980</td>\n",
       "      <td>...</td>\n",
       "      <td>0.994</td>\n",
       "      <td>0.994</td>\n",
       "      <td>0.994</td>\n",
       "      <td>0.994</td>\n",
       "      <td>0.994</td>\n",
       "      <td>0.994</td>\n",
       "      <td>0.994</td>\n",
       "      <td>0.994</td>\n",
       "      <td>0.994</td>\n",
       "      <td>0.994</td>\n",
       "    </tr>\n",
       "    <tr>\n",
       "      <th>2</th>\n",
       "      <td>0.070</td>\n",
       "      <td>0.140</td>\n",
       "      <td>0.170</td>\n",
       "      <td>0.190</td>\n",
       "      <td>0.190</td>\n",
       "      <td>0.200</td>\n",
       "      <td>0.200</td>\n",
       "      <td>0.210</td>\n",
       "      <td>0.210</td>\n",
       "      <td>0.210</td>\n",
       "      <td>...</td>\n",
       "      <td>0.000</td>\n",
       "      <td>0.000</td>\n",
       "      <td>0.000</td>\n",
       "      <td>0.000</td>\n",
       "      <td>0.000</td>\n",
       "      <td>0.000</td>\n",
       "      <td>0.000</td>\n",
       "      <td>0.000</td>\n",
       "      <td>0.000</td>\n",
       "      <td>0.000</td>\n",
       "    </tr>\n",
       "    <tr>\n",
       "      <th>3</th>\n",
       "      <td>0.359</td>\n",
       "      <td>0.373</td>\n",
       "      <td>0.389</td>\n",
       "      <td>0.414</td>\n",
       "      <td>0.433</td>\n",
       "      <td>0.453</td>\n",
       "      <td>0.464</td>\n",
       "      <td>0.478</td>\n",
       "      <td>0.491</td>\n",
       "      <td>0.498</td>\n",
       "      <td>...</td>\n",
       "      <td>0.714</td>\n",
       "      <td>0.714</td>\n",
       "      <td>0.714</td>\n",
       "      <td>0.714</td>\n",
       "      <td>0.714</td>\n",
       "      <td>0.714</td>\n",
       "      <td>0.714</td>\n",
       "      <td>0.714</td>\n",
       "      <td>0.714</td>\n",
       "      <td>0.714</td>\n",
       "    </tr>\n",
       "  </tbody>\n",
       "</table>\n",
       "<p>4 rows × 2204 columns</p>\n",
       "</div>"
      ],
      "text/plain": [
       "       1      2      3      4      5      6      7      8      9     10  ...  \\\n",
       "0  0.310  0.410  0.410  0.460  0.470  0.470  0.480  0.490  0.500  0.500  ...   \n",
       "1  0.872  0.932  0.948  0.957  0.965  0.973  0.975  0.977  0.978  0.980  ...   \n",
       "2  0.070  0.140  0.170  0.190  0.190  0.200  0.200  0.210  0.210  0.210  ...   \n",
       "3  0.359  0.373  0.389  0.414  0.433  0.453  0.464  0.478  0.491  0.498  ...   \n",
       "\n",
       "    2195   2196   2197   2198   2199   2200   2201   2202   2203   2204  \n",
       "0  0.000  0.000  0.000  0.000  0.000  0.000  0.000  0.000  0.000  0.000  \n",
       "1  0.994  0.994  0.994  0.994  0.994  0.994  0.994  0.994  0.994  0.994  \n",
       "2  0.000  0.000  0.000  0.000  0.000  0.000  0.000  0.000  0.000  0.000  \n",
       "3  0.714  0.714  0.714  0.714  0.714  0.714  0.714  0.714  0.714  0.714  \n",
       "\n",
       "[4 rows x 2204 columns]"
      ]
     },
     "execution_count": 100,
     "metadata": {},
     "output_type": "execute_result"
    }
   ],
   "source": [
    "# replace nas\n",
    "_res = _res.fillna(0)\n",
    "_res.head(5)"
   ]
  },
  {
   "cell_type": "code",
   "execution_count": 101,
   "id": "6d5d10e9",
   "metadata": {},
   "outputs": [],
   "source": [
    "# transpose\n",
    "_res = _res.transpose()"
   ]
  },
  {
   "cell_type": "code",
   "execution_count": 102,
   "id": "668a293e",
   "metadata": {},
   "outputs": [
    {
     "data": {
      "text/html": [
       "<div>\n",
       "<style scoped>\n",
       "    .dataframe tbody tr th:only-of-type {\n",
       "        vertical-align: middle;\n",
       "    }\n",
       "\n",
       "    .dataframe tbody tr th {\n",
       "        vertical-align: top;\n",
       "    }\n",
       "\n",
       "    .dataframe thead th {\n",
       "        text-align: right;\n",
       "    }\n",
       "</style>\n",
       "<table border=\"1\" class=\"dataframe\">\n",
       "  <thead>\n",
       "    <tr style=\"text-align: right;\">\n",
       "      <th></th>\n",
       "      <th>keyword:ecu_test_doku</th>\n",
       "      <th>keyword:germanquad</th>\n",
       "      <th>semantic:ecu_test_doku</th>\n",
       "      <th>semantic:germanquad</th>\n",
       "    </tr>\n",
       "  </thead>\n",
       "  <tbody>\n",
       "    <tr>\n",
       "      <th>1</th>\n",
       "      <td>0.31</td>\n",
       "      <td>0.872</td>\n",
       "      <td>0.07</td>\n",
       "      <td>0.359</td>\n",
       "    </tr>\n",
       "    <tr>\n",
       "      <th>2</th>\n",
       "      <td>0.41</td>\n",
       "      <td>0.932</td>\n",
       "      <td>0.14</td>\n",
       "      <td>0.373</td>\n",
       "    </tr>\n",
       "    <tr>\n",
       "      <th>3</th>\n",
       "      <td>0.41</td>\n",
       "      <td>0.948</td>\n",
       "      <td>0.17</td>\n",
       "      <td>0.389</td>\n",
       "    </tr>\n",
       "    <tr>\n",
       "      <th>4</th>\n",
       "      <td>0.46</td>\n",
       "      <td>0.957</td>\n",
       "      <td>0.19</td>\n",
       "      <td>0.414</td>\n",
       "    </tr>\n",
       "    <tr>\n",
       "      <th>5</th>\n",
       "      <td>0.47</td>\n",
       "      <td>0.965</td>\n",
       "      <td>0.19</td>\n",
       "      <td>0.433</td>\n",
       "    </tr>\n",
       "  </tbody>\n",
       "</table>\n",
       "</div>"
      ],
      "text/plain": [
       "   keyword:ecu_test_doku  keyword:germanquad  semantic:ecu_test_doku  \\\n",
       "1                   0.31               0.872                    0.07   \n",
       "2                   0.41               0.932                    0.14   \n",
       "3                   0.41               0.948                    0.17   \n",
       "4                   0.46               0.957                    0.19   \n",
       "5                   0.47               0.965                    0.19   \n",
       "\n",
       "   semantic:germanquad  \n",
       "1                0.359  \n",
       "2                0.373  \n",
       "3                0.389  \n",
       "4                0.414  \n",
       "5                0.433  "
      ]
     },
     "execution_count": 102,
     "metadata": {},
     "output_type": "execute_result"
    }
   ],
   "source": [
    "# label columns\n",
    "_res.columns = dataset\n",
    "_res.head()"
   ]
  },
  {
   "cell_type": "code",
   "execution_count": 107,
   "id": "42cb7176",
   "metadata": {},
   "outputs": [
    {
     "data": {
      "text/plain": [
       "<AxesSubplot:>"
      ]
     },
     "execution_count": 107,
     "metadata": {},
     "output_type": "execute_result"
    },
    {
     "data": {
      "image/png": "[encoded data removed]",
      "text/plain": [
       "<Figure size 1440x720 with 1 Axes>"
      ]
     },
     "metadata": {
      "needs_background": "light"
     },
     "output_type": "display_data"
    }
   ],
   "source": [
    "_res.plot(figsize=(20, 10))"
   ]
  },
  {
   "cell_type": "code",
   "execution_count": 109,
   "id": "bf86412f",
   "metadata": {},
   "outputs": [
    {
     "data": {
      "text/plain": [
       "<AxesSubplot:>"
      ]
     },
     "execution_count": 109,
     "metadata": {},
     "output_type": "execute_result"
    },
    {
     "data": {
      "image/png": "[encoded data removed]",
      "text/plain": [
       "<Figure size 1440x720 with 1 Axes>"
      ]
     },
     "metadata": {
      "needs_background": "light"
     },
     "output_type": "display_data"
    }
   ],
   "source": [
    "_res[:250].plot(figsize=(20, 10))"
   ]
  }
 ],
 "metadata": {
  "kernelspec": {
   "display_name": "Kedro (quaseldoku)",
   "language": "python",
   "name": "kedro_quaseldoku"
  },
  "language_info": {
   "codemirror_mode": {
    "name": "ipython",
    "version": 3
   },
   "file_extension": ".py",
   "mimetype": "text/x-python",
   "name": "python",
   "nbconvert_exporter": "python",
   "pygments_lexer": "ipython3",
   "version": "3.8.2"
  }
 },
 "nbformat": 4,
 "nbformat_minor": 5
}
