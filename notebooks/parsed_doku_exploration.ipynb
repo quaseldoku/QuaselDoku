{
 "cells": [
  {
   "cell_type": "code",
   "execution_count": 48,
   "id": "53088f20",
   "metadata": {},
   "outputs": [],
   "source": [
    "import pandas as pd"
   ]
  },
  {
   "cell_type": "markdown",
   "id": "f63c35d1",
   "metadata": {},
   "source": [
    "## Review HTML Parser"
   ]
  },
  {
   "cell_type": "code",
   "execution_count": 2,
   "id": "d69dcf39",
   "metadata": {},
   "outputs": [
    {
     "name": "stdout",
     "output_type": "stream",
     "text": [
      "2022-05-17 18:57:55,396 - kedro.io.data_catalog - INFO - Loading data from `ecu_test_doku_parsed` (CSVDataSet)...\n"
     ]
    }
   ],
   "source": [
    "doku = catalog.load(\"ecu_test_doku_parsed\")"
   ]
  },
  {
   "cell_type": "code",
   "execution_count": 3,
   "id": "2192f65d",
   "metadata": {},
   "outputs": [
    {
     "data": {
      "text/plain": [
       "pandas.core.frame.DataFrame"
      ]
     },
     "execution_count": 3,
     "metadata": {},
     "output_type": "execute_result"
    }
   ],
   "source": [
    "type(doku)"
   ]
  },
  {
   "cell_type": "code",
   "execution_count": 4,
   "id": "160f01d6",
   "metadata": {},
   "outputs": [
    {
     "data": {
      "text/plain": [
       "3214"
      ]
     },
     "execution_count": 4,
     "metadata": {},
     "output_type": "execute_result"
    }
   ],
   "source": [
    "len(doku)"
   ]
  },
  {
   "cell_type": "code",
   "execution_count": 5,
   "id": "e45c9610",
   "metadata": {},
   "outputs": [
    {
     "data": {
      "text/plain": [
       "Index(['Hash', 'Title', 'Filename', 'Body'], dtype='object')"
      ]
     },
     "execution_count": 5,
     "metadata": {},
     "output_type": "execute_result"
    }
   ],
   "source": [
    "doku.columns"
   ]
  },
  {
   "cell_type": "code",
   "execution_count": 6,
   "id": "ec32fdfc",
   "metadata": {},
   "outputs": [
    {
     "data": {
      "text/html": [
       "<div>\n",
       "<style scoped>\n",
       "    .dataframe tbody tr th:only-of-type {\n",
       "        vertical-align: middle;\n",
       "    }\n",
       "\n",
       "    .dataframe tbody tr th {\n",
       "        vertical-align: top;\n",
       "    }\n",
       "\n",
       "    .dataframe thead th {\n",
       "        text-align: right;\n",
       "    }\n",
       "</style>\n",
       "<table border=\"1\" class=\"dataframe\">\n",
       "  <thead>\n",
       "    <tr style=\"text-align: right;\">\n",
       "      <th></th>\n",
       "      <th>Hash</th>\n",
       "      <th>Title</th>\n",
       "      <th>Filename</th>\n",
       "      <th>Body</th>\n",
       "    </tr>\n",
       "  </thead>\n",
       "  <tbody>\n",
       "    <tr>\n",
       "      <th>0</th>\n",
       "      <td>uYiNfC+uN3oa3EJut1CoRA==</td>\n",
       "      <td>EasyInsert</td>\n",
       "      <td>Bedienung/EasyInsert.html</td>\n",
       "      <td>['ECU-TEST bietet eine kontextsensitive Funkti...</td>\n",
       "    </tr>\n",
       "    <tr>\n",
       "      <th>1</th>\n",
       "      <td>d3vnyhi7vSK4ApETYBJHaQ==</td>\n",
       "      <td>Tastenkombinationen</td>\n",
       "      <td>Bedienung/EasyInsert.html</td>\n",
       "      <td>['Um ein intuitives und schnelles Suchen und E...</td>\n",
       "    </tr>\n",
       "    <tr>\n",
       "      <th>2</th>\n",
       "      <td>dzbjTmJMQhjugY4jc+sQhw==</td>\n",
       "      <td>Fernsteuern-von-Produktname</td>\n",
       "      <td>Bedienung/Fernsteuern.html</td>\n",
       "      <td>['Derzeit gibt es nachfolgende Möglichkeiten, ...</td>\n",
       "    </tr>\n",
       "    <tr>\n",
       "      <th>3</th>\n",
       "      <td>/1nzCMud0xtdKa5fLikrtg==</td>\n",
       "      <td>Kommandozeile-Batch-Schnittstelle</td>\n",
       "      <td>Bedienung/Fernsteuern.html</td>\n",
       "      <td>['Über die Kommandozeile kann ECU-TEST mit ein...</td>\n",
       "    </tr>\n",
       "    <tr>\n",
       "      <th>4</th>\n",
       "      <td>gpjzooj8C659keP/td+ffQ==</td>\n",
       "      <td>COM-API</td>\n",
       "      <td>Bedienung/Fernsteuern.html</td>\n",
       "      <td>['Neben der sehr einfachen Steuerung über Batc...</td>\n",
       "    </tr>\n",
       "  </tbody>\n",
       "</table>\n",
       "</div>"
      ],
      "text/plain": [
       "                       Hash                              Title  \\\n",
       "0  uYiNfC+uN3oa3EJut1CoRA==                         EasyInsert   \n",
       "1  d3vnyhi7vSK4ApETYBJHaQ==                Tastenkombinationen   \n",
       "2  dzbjTmJMQhjugY4jc+sQhw==        Fernsteuern-von-Produktname   \n",
       "3  /1nzCMud0xtdKa5fLikrtg==  Kommandozeile-Batch-Schnittstelle   \n",
       "4  gpjzooj8C659keP/td+ffQ==                            COM-API   \n",
       "\n",
       "                     Filename  \\\n",
       "0   Bedienung/EasyInsert.html   \n",
       "1   Bedienung/EasyInsert.html   \n",
       "2  Bedienung/Fernsteuern.html   \n",
       "3  Bedienung/Fernsteuern.html   \n",
       "4  Bedienung/Fernsteuern.html   \n",
       "\n",
       "                                                Body  \n",
       "0  ['ECU-TEST bietet eine kontextsensitive Funkti...  \n",
       "1  ['Um ein intuitives und schnelles Suchen und E...  \n",
       "2  ['Derzeit gibt es nachfolgende Möglichkeiten, ...  \n",
       "3  ['Über die Kommandozeile kann ECU-TEST mit ein...  \n",
       "4  ['Neben der sehr einfachen Steuerung über Batc...  "
      ]
     },
     "execution_count": 6,
     "metadata": {},
     "output_type": "execute_result"
    }
   ],
   "source": [
    "doku.head(5)"
   ]
  },
  {
   "cell_type": "code",
   "execution_count": 7,
   "id": "c413e5b4",
   "metadata": {},
   "outputs": [
    {
     "data": {
      "text/plain": [
       "Hash        object\n",
       "Title       object\n",
       "Filename    object\n",
       "Body        object\n",
       "dtype: object"
      ]
     },
     "execution_count": 7,
     "metadata": {},
     "output_type": "execute_result"
    }
   ],
   "source": [
    "doku.dtypes"
   ]
  },
  {
   "cell_type": "markdown",
   "id": "1f28d8d6",
   "metadata": {},
   "source": [
    "## Parsen der Satzlisten"
   ]
  },
  {
   "cell_type": "code",
   "execution_count": 8,
   "id": "95b37f5c",
   "metadata": {},
   "outputs": [],
   "source": [
    "sample_idx = 0"
   ]
  },
  {
   "cell_type": "code",
   "execution_count": 9,
   "id": "f09e365a",
   "metadata": {},
   "outputs": [
    {
     "data": {
      "text/plain": [
       "str"
      ]
     },
     "execution_count": 9,
     "metadata": {},
     "output_type": "execute_result"
    }
   ],
   "source": [
    "type(doku.iloc[sample_idx]['Body'])"
   ]
  },
  {
   "cell_type": "code",
   "execution_count": 10,
   "id": "ab42deeb",
   "metadata": {},
   "outputs": [
    {
     "data": {
      "text/plain": [
       "\"['ECU-TEST bietet eine kontextsensitive Funktion zum schnellen Einfügen von Elementen. Sie steht im Testfall-, Projekt- und Traceanalyseeditor zur Verfügung und listet nur Elemente auf, deren Einfügen an der jeweiligen Stelle auch erlaubt ist. Über ein Suchfeld lässt sich durch ein oder mehrere, durch Leerzeichen getrennte Suchwörter, das gewünschte Element suchen.', 'EasyInsert wird in den jeweiligen Editoren durch Strg + Leertaste oder Doppelt Umschalt aufgerufen und es lassen sich folgende Elemente einfügen:', 'Projekteditor Analysepackage-, Package- und Projektreferenzen Konfigurationsdateien (es wird ein Konfigurationswechselschritt erzeugt)      Testfalleditor Testschritte Packagereferenzen Globale Mappings Jobs Modellgrößen Busgrößen Messgrößen Verstellgrößen      Traceanalyseeditor Traceschritte Traceschrittvorlagen Traceanalysereferenzen']\""
      ]
     },
     "execution_count": 10,
     "metadata": {},
     "output_type": "execute_result"
    }
   ],
   "source": [
    "doku.iloc[sample_idx]['Body']"
   ]
  },
  {
   "cell_type": "code",
   "execution_count": 11,
   "id": "54b7162c",
   "metadata": {},
   "outputs": [],
   "source": [
    "from ast import literal_eval\n",
    "_doku_df = pd.read_csv(\"../data/03_primary/doku_parsed.csv\", converters={\"Body\": literal_eval})"
   ]
  },
  {
   "cell_type": "code",
   "execution_count": 12,
   "id": "825d8b06",
   "metadata": {},
   "outputs": [
    {
     "name": "stdout",
     "output_type": "stream",
     "text": [
      "ECU-TEST bietet eine kontextsensitive Funktion zum schnellen Einfügen von Elementen. Sie steht im Testfall-, Projekt- und Traceanalyseeditor zur Verfügung und listet nur Elemente auf, deren Einfügen an der jeweiligen Stelle auch erlaubt ist. Über ein Suchfeld lässt sich durch ein oder mehrere, durch Leerzeichen getrennte Suchwörter, das gewünschte Element suchen. \n",
      "\n",
      "EasyInsert wird in den jeweiligen Editoren durch Strg + Leertaste oder Doppelt Umschalt aufgerufen und es lassen sich folgende Elemente einfügen: \n",
      "\n",
      "Projekteditor Analysepackage-, Package- und Projektreferenzen Konfigurationsdateien (es wird ein Konfigurationswechselschritt erzeugt)      Testfalleditor Testschritte Packagereferenzen Globale Mappings Jobs Modellgrößen Busgrößen Messgrößen Verstellgrößen      Traceanalyseeditor Traceschritte Traceschrittvorlagen Traceanalysereferenzen \n",
      "\n"
     ]
    }
   ],
   "source": [
    "for line in _doku_df.iloc[sample_idx]['Body']:\n",
    "    print(line, '\\n')"
   ]
  },
  {
   "cell_type": "markdown",
   "id": "e2358129",
   "metadata": {},
   "source": [
    "## Listenelemente als Textbestandteile"
   ]
  },
  {
   "cell_type": "raw",
   "id": "1945daae",
   "metadata": {},
   "source": [
    "Projekteditor Analysepackage-, Package- und Projektreferenzen Konfigurationsdateien (es wird ein Konfigurationswechselschritt erzeugt)      Testfalleditor Testschritte Packagereferenzen Globale Mappings Jobs Modellgrößen Busgrößen Messgrößen Verstellgrößen      Traceanalyseeditor Traceschritte Traceschrittvorlagen Traceanalysereferenzen "
   ]
  },
  {
   "cell_type": "raw",
   "id": "555485da",
   "metadata": {},
   "source": [
    "Testfalleditor \n",
    "Testschritte \n",
    "Packagereferenzen \n",
    "Globale Mappings \n",
    "Jobs \n",
    "Modellgrößen \n",
    "Busgrößen \n",
    "Messgrößen \n",
    "Verstellgrößen      \n",
    "Traceanalyseeditor \n",
    "Traceschritte \n",
    "Traceschrittvorlagen \n",
    "Traceanalysereferenzen "
   ]
  },
  {
   "cell_type": "markdown",
   "id": "486eb1c8",
   "metadata": {},
   "source": [
    "## \"Leere\" Samples"
   ]
  },
  {
   "cell_type": "code",
   "execution_count": 51,
   "id": "4bbc11e9",
   "metadata": {},
   "outputs": [
    {
     "name": "stdout",
     "output_type": "stream",
     "text": [
      "2022-05-17 20:15:33,079 - kedro.io.data_catalog - INFO - Loading data from `ecu_test_doku_parsed` (CSVDataSet)...\n"
     ]
    }
   ],
   "source": [
    "_doc = catalog.load(\"ecu_test_doku_parsed\")"
   ]
  },
  {
   "cell_type": "code",
   "execution_count": 52,
   "id": "1f7038f4",
   "metadata": {},
   "outputs": [
    {
     "data": {
      "text/plain": [
       "\"['Öffnet eine KWP2000-Diagnose-Sitzung, die ISO-TP benutzt']\""
      ]
     },
     "execution_count": 52,
     "metadata": {},
     "output_type": "execute_result"
    }
   ],
   "source": [
    "_doc.iloc[sample_idx]['Body']"
   ]
  },
  {
   "cell_type": "code",
   "execution_count": 53,
   "id": "7a93b159",
   "metadata": {},
   "outputs": [],
   "source": [
    "sample_idx = 1004"
   ]
  },
  {
   "cell_type": "code",
   "execution_count": 54,
   "id": "4d63368a",
   "metadata": {},
   "outputs": [
    {
     "data": {
      "text/plain": [
       "str"
      ]
     },
     "execution_count": 54,
     "metadata": {},
     "output_type": "execute_result"
    }
   ],
   "source": [
    "type(doku.iloc[sample_idx]['Body'])"
   ]
  },
  {
   "cell_type": "code",
   "execution_count": 55,
   "id": "c2061aa4",
   "metadata": {},
   "outputs": [
    {
     "data": {
      "text/plain": [
       "\"['']\""
      ]
     },
     "execution_count": 55,
     "metadata": {},
     "output_type": "execute_result"
    }
   ],
   "source": [
    "doku.iloc[sample_idx]['Body']"
   ]
  },
  {
   "cell_type": "markdown",
   "id": "35cb27c7",
   "metadata": {},
   "source": [
    "## Kurze Samples"
   ]
  },
  {
   "cell_type": "code",
   "execution_count": 46,
   "id": "9bfcb62f",
   "metadata": {},
   "outputs": [],
   "source": [
    "sample_idx = 2001"
   ]
  },
  {
   "cell_type": "code",
   "execution_count": 44,
   "id": "d3b70be4",
   "metadata": {},
   "outputs": [
    {
     "data": {
      "text/plain": [
       "str"
      ]
     },
     "execution_count": 44,
     "metadata": {},
     "output_type": "execute_result"
    }
   ],
   "source": [
    "type(doku.iloc[sample_idx]['Body'])"
   ]
  },
  {
   "cell_type": "code",
   "execution_count": 45,
   "id": "6f69807d",
   "metadata": {},
   "outputs": [
    {
     "data": {
      "text/plain": [
       "\"['ReadDataByIdentifier (0x22) service', 'Dieser Job ist Bestandteil des ECU-TEST Diagnose-Add-on.']\""
      ]
     },
     "execution_count": 45,
     "metadata": {},
     "output_type": "execute_result"
    }
   ],
   "source": [
    "doku.iloc[sample_idx]['Body']"
   ]
  },
  {
   "cell_type": "markdown",
   "id": "24a9529d",
   "metadata": {},
   "source": [
    "### Todos\n",
    "- Text-Body liegt als Liste vor, wird jedoch als String geparsed. Hier muss nur beim einlesen darauf geachtet werden, dass die Zelleninhalte wieder in Listen aus Sätzen eingelesen werden. Kann man im Kedro DataCatalog *converter* mit angeben?\n",
    "- Texte enthalten noch zum Teil noch viele Leerzeichen. Kriegt man die noch raus? -\n",
    "    - Das sind Aufzählungen (ul - Elemente). Sollen wir die mitparsen oder lieber ignorieren. Wo hoch ist der Informationsgehalt von solchen Stichwort-Listen?\n",
    "- noch leere Samples enthalten\n",
    "- sehr kurze Samples (Überschriften?) enthalten"
   ]
  }
 ],
 "metadata": {
  "kernelspec": {
   "display_name": "Kedro (quaseldoku)",
   "language": "python",
   "name": "kedro_quaseldoku"
  },
  "language_info": {
   "codemirror_mode": {
    "name": "ipython",
    "version": 3
   },
   "file_extension": ".py",
   "mimetype": "text/x-python",
   "name": "python",
   "nbconvert_exporter": "python",
   "pygments_lexer": "ipython3",
   "version": "3.10.4"
  }
 },
 "nbformat": 4,
 "nbformat_minor": 5
}
