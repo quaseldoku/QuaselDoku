{
 "cells": [
  {
   "cell_type": "markdown",
   "id": "69899433",
   "metadata": {},
   "source": [
    "# First try to parse a couple of files "
   ]
  },
  {
   "cell_type": "markdown",
   "id": "23aa158f",
   "metadata": {},
   "source": [
    "needed Packages"
   ]
  },
  {
   "cell_type": "code",
   "execution_count": 1,
   "id": "65ebbf31",
   "metadata": {},
   "outputs": [],
   "source": [
    "from bs4 import BeautifulSoup\n",
    "import glob\n",
    "import re\n",
    "import csv"
   ]
  },
  {
   "cell_type": "markdown",
   "id": "fa2db5cc",
   "metadata": {},
   "source": [
    "1. Get text from html-files"
   ]
  },
  {
   "cell_type": "code",
   "execution_count": 2,
   "id": "59a908d4",
   "metadata": {},
   "outputs": [
    {
     "name": "stderr",
     "output_type": "stream",
     "text": [
      "<>:22: DeprecationWarning: invalid escape sequence '\\W'\n",
      "<>:22: DeprecationWarning: invalid escape sequence '\\W'\n",
      "C:\\Users\\Public\\Documents\\Wondershare\\CreatorTemp\\ipykernel_22628\\23364571.py:22: DeprecationWarning: invalid escape sequence '\\W'\n",
      "  data = [re.sub('\\W+',' ',soup.h1.get_text()), all_unter, data_text, all_link, all_bild]\n"
     ]
    }
   ],
   "source": [
    "path = 'hierholenwirunsallehtml-filesdiewirwollen/*.html'\n",
    "files = glob.glob(path)\n",
    "header = ['title','unterkapitel', 'body', 'links','bilder']\n",
    "with open ('test_file3.csv','w',encoding='utf-8') as save:\n",
    "    writer = csv.writer(save)\n",
    "    writer.writerow(header)\n",
    "    for file in files:\n",
    "        f = open(file, 'r', encoding = \"utf-8\")\n",
    "        soup = BeautifulSoup(f.read(),'html.parser')\n",
    "        real_text = soup.find(\"div\",{\"class\":\"section\"})\n",
    "        data_text =re.sub(r'\\n\\s*\\n', r'\\n\\n', real_text.get_text().strip(), flags=re.M)\n",
    "        #data_text = re.sub('\\W+',' ', real_text.get_text())\n",
    "        all_unter = []\n",
    "        for unterkap in soup.find_all('h2'):\n",
    "            all_unter.append(unterkap.get_text())\n",
    "        all_link = []\n",
    "        for link in soup.find_all('a'):\n",
    "            all_link.append(link.get('href'))\n",
    "        all_bild=[]\n",
    "        for bild in soup.find_all('img'):\n",
    "            all_bild.append(bild.get('src'))\n",
    "        data = [re.sub('\\W+',' ',soup.h1.get_text()), all_unter, data_text, all_link, all_bild]\n",
    "        #write the data\n",
    "        writer.writerow(data)\n",
    "        f.close()\n",
    "# print(html_text) # this may lay huge print to your screen if you have many files"
   ]
  },
  {
   "cell_type": "code",
   "execution_count": 20,
   "id": "2c4de912",
   "metadata": {},
   "outputs": [],
   "source": []
  },
  {
   "cell_type": "code",
   "execution_count": null,
   "id": "711424ce",
   "metadata": {},
   "outputs": [],
   "source": []
  }
 ],
 "metadata": {
  "kernelspec": {
   "display_name": "Kedro (quaseldoku)",
   "language": "python",
   "name": "kedro_quaseldoku"
  },
  "language_info": {
   "codemirror_mode": {
    "name": "ipython",
    "version": 3
   },
   "file_extension": ".py",
   "mimetype": "text/x-python",
   "name": "python",
   "nbconvert_exporter": "python",
   "pygments_lexer": "ipython3",
   "version": "3.10.4"
  }
 },
 "nbformat": 4,
 "nbformat_minor": 5
}
