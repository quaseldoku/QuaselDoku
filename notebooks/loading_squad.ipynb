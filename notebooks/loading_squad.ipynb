{
 "cells": [
  {
   "cell_type": "code",
   "execution_count": 1,
   "id": "67817936",
   "metadata": {},
   "outputs": [],
   "source": [
    "import json\n",
    "import datasets"
   ]
  },
  {
   "cell_type": "code",
   "execution_count": 22,
   "id": "a8c0eb95",
   "metadata": {},
   "outputs": [],
   "source": [
    "# load all available datasets from hugging face\n",
    "ds = datasets.list_datasets()"
   ]
  },
  {
   "cell_type": "code",
   "execution_count": 27,
   "id": "58fc54d6",
   "metadata": {},
   "outputs": [
    {
     "data": {
      "text/plain": [
       "False"
      ]
     },
     "execution_count": 27,
     "metadata": {},
     "output_type": "execute_result"
    }
   ],
   "source": [
    "# filter those in german\n",
    "'germansquad' in ds"
   ]
  },
  {
   "cell_type": "markdown",
   "id": "a5117494",
   "metadata": {},
   "source": [
    "**germansquad** ist nicht einfach vom Huggingface hub herunterzuladen, man muss ein load script zur Verfügung stellen, was hier zu finden ist https://huggingface.co/datasets/deepset/germanquad/blob/main/germanquad.py"
   ]
  },
  {
   "cell_type": "markdown",
   "id": "485b5049",
   "metadata": {},
   "source": [
    "## GERMANSQUAD Dataset"
   ]
  },
  {
   "cell_type": "markdown",
   "id": "4931d277",
   "metadata": {},
   "source": [
    "### Herunterladen über loading script"
   ]
  },
  {
   "cell_type": "code",
   "execution_count": 34,
   "id": "190fcd1a",
   "metadata": {},
   "outputs": [
    {
     "name": "stdout",
     "output_type": "stream",
     "text": [
      "2022-05-11 14:24:54,326 - datasets.builder - WARNING - Reusing dataset german_dpr (/home/martin/.cache/huggingface/datasets/german_dpr/plain_text/1.0.0/c104b2eee2baee81f71e650e48c71a94e6926c31532bc053d1bbefcff0dd7ead)\n"
     ]
    },
    {
     "data": {
      "application/vnd.jupyter.widget-view+json": {
       "model_id": "f44b3a132a5848e2a9756a082d14a24d",
       "version_major": 2,
       "version_minor": 0
      },
      "text/plain": [
       "  0%|          | 0/2 [00:00<?, ?it/s]"
      ]
     },
     "metadata": {},
     "output_type": "display_data"
    }
   ],
   "source": [
    "germansquad = datasets.load_dataset(\"../data/03_primary/germanquad\")"
   ]
  },
  {
   "cell_type": "markdown",
   "id": "874412f9",
   "metadata": {},
   "source": [
    "### Filtern des Test splits"
   ]
  },
  {
   "cell_type": "code",
   "execution_count": 35,
   "id": "eddab038",
   "metadata": {},
   "outputs": [],
   "source": [
    "germansquad_val = germansquad['test']"
   ]
  },
  {
   "cell_type": "code",
   "execution_count": 56,
   "id": "2ea25876",
   "metadata": {},
   "outputs": [
    {
     "name": "stdout",
     "output_type": "stream",
     "text": [
      "40369 \n",
      "\n",
      "Aufzugsanlage\n",
      "\n",
      "=== Seilloser Aufzug ===\n",
      "An der RWTH Aachen im Institut für Elektrische Maschinen wurde ein seilloser Aufzug entwickelt und ein Prototyp aufgebaut. Die Kabine wird hierbei durch zwei elektromagnetische Synchron-Linearmotoren angetrieben und somit nur durch ein vertikal bewegliches Magnetfeld gehalten bzw. bewegt. Diese Arbeit soll der Entwicklung von Aufzugsanlagen für sehr hohe Gebäude dienen. Ein Ziel ist der Einsatz mehrerer Kabinen pro Schacht, die sich unabhängig voneinander steuern lassen. Bei Auswahl des Fahrtziels vor Fahrtantritt (d. h. noch außerhalb des Aufzug) wird ein bestimmter Fahrkorb in einem der Aufzugsschächte für die Fahrt ausgewählt, mit der sich der geplante Transport am schnellsten durchführen lässt. Der Platzbedarf für die gesamte Aufzugsanlage könnte somit um ein oder mehrere Schächte reduziert werden. Da die Kabinen seillos betrieben werden, ist ein Schachtwechsel ebenfalls denkbar. Hiermit können weitere Betriebsstrategien für die seillose Aufzugsanlage entwickelt werden, zum Beispiel ein moderner Paternosteraufzug mit unabhängig voneinander beweglichen Kabinen.\n",
      "Im Rahmen der Forschungen an dem seillosen Aufzug wird ebenfalls an der Entwicklung elektromagnetischer Linearführungen gearbeitet, um den Verschleiß der seillosen Aufzugsanlage bei hohem Fahrkomfort zu minimieren. Weltweit wird an verschiedenen Forschungseinrichtungen an seillosen Antriebslösungen für Aufzüge gearbeitet. Otis betreibt zu diesem Zweck seit 2007 den ''Shibayama Test Tower''. ThyssenKrupp Elevator weihte 2017 im süddeutschen Rottweil einen Testturm ein, in welchem die Technik des seillosen Aufzugs mit Synchron-Linearmotoren im Originalmaßstab getestet wird. Der erste Aufzug dieses Typs soll 2020 in Berlin in Betrieb gehen. \n",
      "\n",
      "{'text': ['elektromagnetischer Linearführungen', ' elektromagnetischer Linearführungen', 'elektromagnetischer Linearführungen'], 'answer_start': [1205, 1204, 1205]} \n",
      "\n"
     ]
    }
   ],
   "source": [
    "print(germansquad_val[0]['id'], '\\n')\n",
    "print(germansquad_val[0]['context'], '\\n')\n",
    "print(germansquad_val[0]['answers'], '\\n')"
   ]
  },
  {
   "cell_type": "markdown",
   "id": "46c9dbce",
   "metadata": {},
   "source": [
    "### Abspeichern in kedro data dir"
   ]
  },
  {
   "cell_type": "code",
   "execution_count": 42,
   "id": "b1a2f1f2",
   "metadata": {},
   "outputs": [],
   "source": [
    "germansquad_val.save_to_disk(\"../data/03_primary/germanquad/\")"
   ]
  },
  {
   "cell_type": "markdown",
   "id": "394538b4",
   "metadata": {},
   "source": [
    "### Laden aus kedro data dir"
   ]
  },
  {
   "cell_type": "code",
   "execution_count": 45,
   "id": "3c048f35",
   "metadata": {},
   "outputs": [],
   "source": [
    "_germansquad_val = datasets.Dataset.load_from_disk(\"../data/03_primary/germanquad/\")"
   ]
  },
  {
   "cell_type": "code",
   "execution_count": 52,
   "id": "2ca27f1c",
   "metadata": {},
   "outputs": [
    {
     "data": {
      "text/plain": [
       "40369"
      ]
     },
     "execution_count": 52,
     "metadata": {},
     "output_type": "execute_result"
    }
   ],
   "source": [
    "_germansquad_val[0]['id']"
   ]
  }
 ],
 "metadata": {
  "kernelspec": {
   "display_name": "Kedro (quaseldoku)",
   "language": "python",
   "name": "kedro_quaseldoku"
  },
  "language_info": {
   "codemirror_mode": {
    "name": "ipython",
    "version": 3
   },
   "file_extension": ".py",
   "mimetype": "text/x-python",
   "name": "python",
   "nbconvert_exporter": "python",
   "pygments_lexer": "ipython3",
   "version": "3.8.2"
  }
 },
 "nbformat": 4,
 "nbformat_minor": 5
}
