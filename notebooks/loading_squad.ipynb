{
 "cells": [
  {
   "cell_type": "code",
   "execution_count": 1,
   "id": "7c61bfef",
   "metadata": {},
   "outputs": [],
   "source": [
    "import json\n",
    "import datasets"
   ]
  },
  {
   "cell_type": "code",
   "execution_count": 2,
   "id": "02654130",
   "metadata": {},
   "outputs": [],
   "source": [
    "# load all available datasets from hugging face\n",
    "ds = datasets.list_datasets()"
   ]
  },
  {
   "cell_type": "code",
   "execution_count": 3,
   "id": "8676334a",
   "metadata": {},
   "outputs": [
    {
     "data": {
      "text/plain": [
       "False"
      ]
     },
     "execution_count": 3,
     "metadata": {},
     "output_type": "execute_result"
    }
   ],
   "source": [
    "# filter those in german\n",
    "'germansquad' in ds"
   ]
  },
  {
   "cell_type": "markdown",
   "id": "be9976bc",
   "metadata": {},
   "source": [
    "**germansquad** ist nicht einfach vom Huggingface hub herunterzuladen, man muss ein load script zur Verfügung stellen, was hier zu finden ist https://huggingface.co/datasets/deepset/germanquad/blob/main/germanquad.py"
   ]
  },
  {
   "cell_type": "markdown",
   "id": "6d5c241d",
   "metadata": {},
   "source": [
    "## GERMANSQUAD Dataset"
   ]
  },
  {
   "cell_type": "markdown",
   "id": "63c42ef3",
   "metadata": {},
   "source": [
    "### Herunterladen über loading script"
   ]
  },
  {
   "cell_type": "code",
   "execution_count": 5,
   "id": "8fe4d370",
   "metadata": {},
   "outputs": [
    {
     "name": "stdout",
     "output_type": "stream",
     "text": [
      "2022-05-17 20:53:37,017 - datasets.builder - WARNING - Reusing dataset german_dpr (/home/martin/.cache/huggingface/datasets/german_dpr/plain_text/1.0.0/c104b2eee2baee81f71e650e48c71a94e6926c31532bc053d1bbefcff0dd7ead)\n"
     ]
    },
    {
     "data": {
      "application/vnd.jupyter.widget-view+json": {
       "model_id": "9bd30dfbcfcf499c9c1f6d2eeabfade1",
       "version_major": 2,
       "version_minor": 0
      },
      "text/plain": [
       "  0%|          | 0/2 [00:00<?, ?it/s]"
      ]
     },
     "metadata": {},
     "output_type": "display_data"
    }
   ],
   "source": [
    "germansquad = datasets.load_dataset(\"../src/quaseldoku/pipelines/data_pre_processing/germanquad/\")"
   ]
  },
  {
   "cell_type": "markdown",
   "id": "a81e2203",
   "metadata": {},
   "source": [
    "### Filtern des Test splits"
   ]
  },
  {
   "cell_type": "code",
   "execution_count": 6,
   "id": "af5259d3",
   "metadata": {},
   "outputs": [],
   "source": [
    "germansquad_val = germansquad['test']"
   ]
  },
  {
   "cell_type": "code",
   "execution_count": 7,
   "id": "1cd6bb0c",
   "metadata": {},
   "outputs": [
    {
     "name": "stdout",
     "output_type": "stream",
     "text": [
      "40369 \n",
      "\n",
      "Aufzugsanlage\n",
      "\n",
      "=== Seilloser Aufzug ===\n",
      "An der RWTH Aachen im Institut für Elektrische Maschinen wurde ein seilloser Aufzug entwickelt und ein Prototyp aufgebaut. Die Kabine wird hierbei durch zwei elektromagnetische Synchron-Linearmotoren angetrieben und somit nur durch ein vertikal bewegliches Magnetfeld gehalten bzw. bewegt. Diese Arbeit soll der Entwicklung von Aufzugsanlagen für sehr hohe Gebäude dienen. Ein Ziel ist der Einsatz mehrerer Kabinen pro Schacht, die sich unabhängig voneinander steuern lassen. Bei Auswahl des Fahrtziels vor Fahrtantritt (d. h. noch außerhalb des Aufzug) wird ein bestimmter Fahrkorb in einem der Aufzugsschächte für die Fahrt ausgewählt, mit der sich der geplante Transport am schnellsten durchführen lässt. Der Platzbedarf für die gesamte Aufzugsanlage könnte somit um ein oder mehrere Schächte reduziert werden. Da die Kabinen seillos betrieben werden, ist ein Schachtwechsel ebenfalls denkbar. Hiermit können weitere Betriebsstrategien für die seillose Aufzugsanlage entwickelt werden, zum Beispiel ein moderner Paternosteraufzug mit unabhängig voneinander beweglichen Kabinen.\n",
      "Im Rahmen der Forschungen an dem seillosen Aufzug wird ebenfalls an der Entwicklung elektromagnetischer Linearführungen gearbeitet, um den Verschleiß der seillosen Aufzugsanlage bei hohem Fahrkomfort zu minimieren. Weltweit wird an verschiedenen Forschungseinrichtungen an seillosen Antriebslösungen für Aufzüge gearbeitet. Otis betreibt zu diesem Zweck seit 2007 den ''Shibayama Test Tower''. ThyssenKrupp Elevator weihte 2017 im süddeutschen Rottweil einen Testturm ein, in welchem die Technik des seillosen Aufzugs mit Synchron-Linearmotoren im Originalmaßstab getestet wird. Der erste Aufzug dieses Typs soll 2020 in Berlin in Betrieb gehen. \n",
      "\n",
      "{'text': ['elektromagnetischer Linearführungen', ' elektromagnetischer Linearführungen', 'elektromagnetischer Linearführungen'], 'answer_start': [1205, 1204, 1205]} \n",
      "\n"
     ]
    }
   ],
   "source": [
    "print(germansquad_val[0]['id'], '\\n')\n",
    "print(germansquad_val[0]['context'], '\\n')\n",
    "print(germansquad_val[0]['answers'], '\\n')"
   ]
  },
  {
   "cell_type": "markdown",
   "id": "a8832416",
   "metadata": {},
   "source": [
    "### Laden / Speichern als DataFrame (csv)"
   ]
  },
  {
   "cell_type": "code",
   "execution_count": 8,
   "id": "642c7be5",
   "metadata": {},
   "outputs": [
    {
     "data": {
      "text/html": [
       "<div>\n",
       "<style scoped>\n",
       "    .dataframe tbody tr th:only-of-type {\n",
       "        vertical-align: middle;\n",
       "    }\n",
       "\n",
       "    .dataframe tbody tr th {\n",
       "        vertical-align: top;\n",
       "    }\n",
       "\n",
       "    .dataframe thead th {\n",
       "        text-align: right;\n",
       "    }\n",
       "</style>\n",
       "<table border=\"1\" class=\"dataframe\">\n",
       "  <thead>\n",
       "    <tr style=\"text-align: right;\">\n",
       "      <th></th>\n",
       "      <th>id</th>\n",
       "      <th>context</th>\n",
       "      <th>question</th>\n",
       "      <th>answers</th>\n",
       "    </tr>\n",
       "  </thead>\n",
       "  <tbody>\n",
       "    <tr>\n",
       "      <th>0</th>\n",
       "      <td>40369</td>\n",
       "      <td>Aufzugsanlage\\n\\n=== Seilloser Aufzug ===\\nAn ...</td>\n",
       "      <td>Was kann den Verschleiß des seillosen Aufzuges...</td>\n",
       "      <td>{'text': ['elektromagnetischer Linearführungen...</td>\n",
       "    </tr>\n",
       "    <tr>\n",
       "      <th>1</th>\n",
       "      <td>40370</td>\n",
       "      <td>Aufzugsanlage\\n\\n=== Seilloser Aufzug ===\\nAn ...</td>\n",
       "      <td>In welcher deutschen Stadt wird der seillose A...</td>\n",
       "      <td>{'text': ['Rottweil', 'Rottweil'], 'answer_sta...</td>\n",
       "    </tr>\n",
       "    <tr>\n",
       "      <th>2</th>\n",
       "      <td>40366</td>\n",
       "      <td>Aufzugsanlage\\n\\n=== Seilloser Aufzug ===\\nAn ...</td>\n",
       "      <td>Wo wurde ein seilloser Aufzug entwickelt?</td>\n",
       "      <td>{'text': ['An der RWTH Aachen im Institut für ...</td>\n",
       "    </tr>\n",
       "    <tr>\n",
       "      <th>3</th>\n",
       "      <td>40367</td>\n",
       "      <td>Aufzugsanlage\\n\\n=== Seilloser Aufzug ===\\nAn ...</td>\n",
       "      <td>Wie funktioniert ein seilloser Aufzug?</td>\n",
       "      <td>{'text': ['Die Kabine wird hierbei durch zwei ...</td>\n",
       "    </tr>\n",
       "    <tr>\n",
       "      <th>4</th>\n",
       "      <td>40368</td>\n",
       "      <td>Aufzugsanlage\\n\\n=== Seilloser Aufzug ===\\nAn ...</td>\n",
       "      <td>Wann muss man die Zieletage in seillosen Aufzü...</td>\n",
       "      <td>{'text': ['vor Fahrtantritt (d. h. noch außerh...</td>\n",
       "    </tr>\n",
       "  </tbody>\n",
       "</table>\n",
       "</div>"
      ],
      "text/plain": [
       "      id                                            context  \\\n",
       "0  40369  Aufzugsanlage\\n\\n=== Seilloser Aufzug ===\\nAn ...   \n",
       "1  40370  Aufzugsanlage\\n\\n=== Seilloser Aufzug ===\\nAn ...   \n",
       "2  40366  Aufzugsanlage\\n\\n=== Seilloser Aufzug ===\\nAn ...   \n",
       "3  40367  Aufzugsanlage\\n\\n=== Seilloser Aufzug ===\\nAn ...   \n",
       "4  40368  Aufzugsanlage\\n\\n=== Seilloser Aufzug ===\\nAn ...   \n",
       "\n",
       "                                            question  \\\n",
       "0  Was kann den Verschleiß des seillosen Aufzuges...   \n",
       "1  In welcher deutschen Stadt wird der seillose A...   \n",
       "2          Wo wurde ein seilloser Aufzug entwickelt?   \n",
       "3             Wie funktioniert ein seilloser Aufzug?   \n",
       "4  Wann muss man die Zieletage in seillosen Aufzü...   \n",
       "\n",
       "                                             answers  \n",
       "0  {'text': ['elektromagnetischer Linearführungen...  \n",
       "1  {'text': ['Rottweil', 'Rottweil'], 'answer_sta...  \n",
       "2  {'text': ['An der RWTH Aachen im Institut für ...  \n",
       "3  {'text': ['Die Kabine wird hierbei durch zwei ...  \n",
       "4  {'text': ['vor Fahrtantritt (d. h. noch außerh...  "
      ]
     },
     "execution_count": 8,
     "metadata": {},
     "output_type": "execute_result"
    }
   ],
   "source": [
    "germansquad_val.to_pandas().head()"
   ]
  },
  {
   "cell_type": "code",
   "execution_count": 9,
   "id": "07576452",
   "metadata": {},
   "outputs": [
    {
     "data": {
      "text/plain": [
       "'elektromagnetischer Linearführungen'"
      ]
     },
     "execution_count": 9,
     "metadata": {},
     "output_type": "execute_result"
    }
   ],
   "source": [
    "germansquad_val.to_pandas()['answers'][0]['text'][0]"
   ]
  },
  {
   "cell_type": "code",
   "execution_count": 10,
   "id": "8c3dd022",
   "metadata": {},
   "outputs": [],
   "source": [
    "# germansquad_val.to_csv(\"../data/03_primary/germanquad/germanquad_val.csv\")"
   ]
  },
  {
   "cell_type": "markdown",
   "id": "c1433864",
   "metadata": {},
   "source": [
    "### Laden from disk"
   ]
  },
  {
   "cell_type": "code",
   "execution_count": 11,
   "id": "bf249721",
   "metadata": {},
   "outputs": [
    {
     "name": "stdout",
     "output_type": "stream",
     "text": [
      "2022-05-17 20:53:52,966 - kedro.io.data_catalog - INFO - Loading data from `germanquad_validation` (CSVDataSet)...\n"
     ]
    }
   ],
   "source": [
    "germansquad_val = catalog.load(\"germanquad_validation\")"
   ]
  },
  {
   "cell_type": "code",
   "execution_count": 12,
   "id": "de4057d9",
   "metadata": {},
   "outputs": [
    {
     "data": {
      "text/plain": [
       "\"{'text': array(['Rottweil', 'Rottweil'], dtype=object), 'answer_start': array([1565, 1565], dtype=int32)}\""
      ]
     },
     "execution_count": 12,
     "metadata": {},
     "output_type": "execute_result"
    }
   ],
   "source": [
    "germansquad_val['answers'][1]"
   ]
  },
  {
   "cell_type": "markdown",
   "id": "7e2ecc08",
   "metadata": {},
   "source": [
    "Die Json kodierten Antworten werden beim Speichern in str umgewandelt, sollen aber beim auslesen als dictionaries aufrufbar sein"
   ]
  },
  {
   "cell_type": "code",
   "execution_count": 13,
   "id": "b01364df",
   "metadata": {},
   "outputs": [
    {
     "data": {
      "text/plain": [
       "pandas.core.frame.DataFrame"
      ]
     },
     "execution_count": 13,
     "metadata": {},
     "output_type": "execute_result"
    }
   ],
   "source": [
    "type(germansquad_val)"
   ]
  }
 ],
 "metadata": {
  "kernelspec": {
   "display_name": "Kedro (quaseldoku)",
   "language": "python",
   "name": "kedro_quaseldoku"
  },
  "language_info": {
   "codemirror_mode": {
    "name": "ipython",
    "version": 3
   },
   "file_extension": ".py",
   "mimetype": "text/x-python",
   "name": "python",
   "nbconvert_exporter": "python",
   "pygments_lexer": "ipython3",
   "version": "3.8.2"
  }
 },
 "nbformat": 4,
 "nbformat_minor": 5
}
